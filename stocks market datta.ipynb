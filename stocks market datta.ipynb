{
 "cells": [
  {
   "cell_type": "code",
   "execution_count": 1,
   "metadata": {},
   "outputs": [
    {
     "name": "stdout",
     "output_type": "stream",
     "text": [
      "Populating the interactive namespace from numpy and matplotlib\n"
     ]
    }
   ],
   "source": [
    "# Import library\n",
    "\n",
    "import warnings\n",
    "warnings.filterwarnings(\"ignore\")\n",
    "from datetime import date\n",
    "import pandas as pd\n",
    "import numpy as np\n",
    "\n",
    "import matplotlib.pyplot as plt\n",
    "import seaborn as sns\n",
    "import pandas_profiling \n",
    "%pylab inline\n",
    "\n",
    "\n",
    "import seaborn as sns\n",
    "import statsmodels.api as sm"
   ]
  },
  {
   "cell_type": "code",
   "execution_count": 2,
   "metadata": {},
   "outputs": [
    {
     "data": {
      "text/html": [
       "<div>\n",
       "<style scoped>\n",
       "    .dataframe tbody tr th:only-of-type {\n",
       "        vertical-align: middle;\n",
       "    }\n",
       "\n",
       "    .dataframe tbody tr th {\n",
       "        vertical-align: top;\n",
       "    }\n",
       "\n",
       "    .dataframe thead th {\n",
       "        text-align: right;\n",
       "    }\n",
       "</style>\n",
       "<table border=\"1\" class=\"dataframe\">\n",
       "  <thead>\n",
       "    <tr style=\"text-align: right;\">\n",
       "      <th></th>\n",
       "      <th>DATE</th>\n",
       "      <th>XNSE/BIOCON/OPEN</th>\n",
       "      <th>XNSE/BIOCON/HIGH</th>\n",
       "      <th>XNSE/BIOCON/LOW</th>\n",
       "      <th>XNSE/BIOCON/CLOSE</th>\n",
       "      <th>XNSE/BIOCON/VOLUME</th>\n",
       "      <th>XNSE/BIOCON/ADJUSTMENT FACTOR</th>\n",
       "      <th>XNSE/BIOCON/ADJUSTMENT TYPE</th>\n",
       "      <th>DATE.1</th>\n",
       "      <th>XNSE/DMART/OPEN</th>\n",
       "      <th>...</th>\n",
       "      <th>XNSE/SYNGENE/ADJUSTMENT FACTOR</th>\n",
       "      <th>XNSE/SYNGENE/ADJUSTMENT TYPE</th>\n",
       "      <th>DATE.9</th>\n",
       "      <th>XNSE/TITAN/OPEN</th>\n",
       "      <th>XNSE/TITAN/HIGH</th>\n",
       "      <th>XNSE/TITAN/LOW</th>\n",
       "      <th>XNSE/TITAN/CLOSE</th>\n",
       "      <th>XNSE/TITAN/VOLUME</th>\n",
       "      <th>XNSE/TITAN/ADJUSTMENT FACTOR</th>\n",
       "      <th>XNSE/TITAN/ADJUSTMENT TYPE</th>\n",
       "    </tr>\n",
       "  </thead>\n",
       "  <tbody>\n",
       "    <tr>\n",
       "      <th>0</th>\n",
       "      <td>2020-09-21</td>\n",
       "      <td>453.95</td>\n",
       "      <td>453.95</td>\n",
       "      <td>425.35</td>\n",
       "      <td>429.35</td>\n",
       "      <td>4258326.0</td>\n",
       "      <td>NaN</td>\n",
       "      <td>NaN</td>\n",
       "      <td>2020-09-21</td>\n",
       "      <td>2175.00</td>\n",
       "      <td>...</td>\n",
       "      <td>NaN</td>\n",
       "      <td>NaN</td>\n",
       "      <td>2016-11-23</td>\n",
       "      <td>303.628352</td>\n",
       "      <td>308.541432</td>\n",
       "      <td>300.926158</td>\n",
       "      <td>307.067508</td>\n",
       "      <td>1250719</td>\n",
       "      <td>NaN</td>\n",
       "      <td>NaN</td>\n",
       "    </tr>\n",
       "    <tr>\n",
       "      <th>1</th>\n",
       "      <td>2020-09-18</td>\n",
       "      <td>442.75</td>\n",
       "      <td>463.90</td>\n",
       "      <td>442.75</td>\n",
       "      <td>454.00</td>\n",
       "      <td>11410425.0</td>\n",
       "      <td>NaN</td>\n",
       "      <td>NaN</td>\n",
       "      <td>2020-09-18</td>\n",
       "      <td>2149.90</td>\n",
       "      <td>...</td>\n",
       "      <td>NaN</td>\n",
       "      <td>NaN</td>\n",
       "      <td>2016-11-24</td>\n",
       "      <td>305.593584</td>\n",
       "      <td>309.229263</td>\n",
       "      <td>300.680504</td>\n",
       "      <td>302.203558</td>\n",
       "      <td>2751768</td>\n",
       "      <td>NaN</td>\n",
       "      <td>NaN</td>\n",
       "    </tr>\n",
       "    <tr>\n",
       "      <th>2</th>\n",
       "      <td>2020-09-17</td>\n",
       "      <td>439.00</td>\n",
       "      <td>444.85</td>\n",
       "      <td>432.55</td>\n",
       "      <td>442.20</td>\n",
       "      <td>4431118.0</td>\n",
       "      <td>NaN</td>\n",
       "      <td>NaN</td>\n",
       "      <td>2020-09-17</td>\n",
       "      <td>2147.00</td>\n",
       "      <td>...</td>\n",
       "      <td>NaN</td>\n",
       "      <td>NaN</td>\n",
       "      <td>2016-11-25</td>\n",
       "      <td>305.495322</td>\n",
       "      <td>313.651035</td>\n",
       "      <td>300.975288</td>\n",
       "      <td>310.654056</td>\n",
       "      <td>1285140</td>\n",
       "      <td>NaN</td>\n",
       "      <td>NaN</td>\n",
       "    </tr>\n",
       "    <tr>\n",
       "      <th>3</th>\n",
       "      <td>2020-09-16</td>\n",
       "      <td>440.05</td>\n",
       "      <td>453.90</td>\n",
       "      <td>434.55</td>\n",
       "      <td>438.65</td>\n",
       "      <td>10058926.0</td>\n",
       "      <td>NaN</td>\n",
       "      <td>NaN</td>\n",
       "      <td>2020-09-16</td>\n",
       "      <td>2152.55</td>\n",
       "      <td>...</td>\n",
       "      <td>NaN</td>\n",
       "      <td>NaN</td>\n",
       "      <td>2016-11-28</td>\n",
       "      <td>311.440149</td>\n",
       "      <td>312.471896</td>\n",
       "      <td>298.469618</td>\n",
       "      <td>301.220942</td>\n",
       "      <td>1676934</td>\n",
       "      <td>NaN</td>\n",
       "      <td>NaN</td>\n",
       "    </tr>\n",
       "    <tr>\n",
       "      <th>4</th>\n",
       "      <td>2020-09-15</td>\n",
       "      <td>430.00</td>\n",
       "      <td>445.00</td>\n",
       "      <td>429.00</td>\n",
       "      <td>440.05</td>\n",
       "      <td>6044433.0</td>\n",
       "      <td>NaN</td>\n",
       "      <td>NaN</td>\n",
       "      <td>2020-09-15</td>\n",
       "      <td>2185.00</td>\n",
       "      <td>...</td>\n",
       "      <td>NaN</td>\n",
       "      <td>NaN</td>\n",
       "      <td>2016-11-29</td>\n",
       "      <td>300.680504</td>\n",
       "      <td>310.752318</td>\n",
       "      <td>299.943542</td>\n",
       "      <td>308.394039</td>\n",
       "      <td>1450559</td>\n",
       "      <td>NaN</td>\n",
       "      <td>NaN</td>\n",
       "    </tr>\n",
       "  </tbody>\n",
       "</table>\n",
       "<p>5 rows × 80 columns</p>\n",
       "</div>"
      ],
      "text/plain": [
       "        DATE  XNSE/BIOCON/OPEN  XNSE/BIOCON/HIGH  XNSE/BIOCON/LOW  \\\n",
       "0 2020-09-21            453.95            453.95           425.35   \n",
       "1 2020-09-18            442.75            463.90           442.75   \n",
       "2 2020-09-17            439.00            444.85           432.55   \n",
       "3 2020-09-16            440.05            453.90           434.55   \n",
       "4 2020-09-15            430.00            445.00           429.00   \n",
       "\n",
       "   XNSE/BIOCON/CLOSE  XNSE/BIOCON/VOLUME  XNSE/BIOCON/ADJUSTMENT FACTOR  \\\n",
       "0             429.35           4258326.0                            NaN   \n",
       "1             454.00          11410425.0                            NaN   \n",
       "2             442.20           4431118.0                            NaN   \n",
       "3             438.65          10058926.0                            NaN   \n",
       "4             440.05           6044433.0                            NaN   \n",
       "\n",
       "   XNSE/BIOCON/ADJUSTMENT TYPE     DATE.1  XNSE/DMART/OPEN  ...  \\\n",
       "0                          NaN 2020-09-21          2175.00  ...   \n",
       "1                          NaN 2020-09-18          2149.90  ...   \n",
       "2                          NaN 2020-09-17          2147.00  ...   \n",
       "3                          NaN 2020-09-16          2152.55  ...   \n",
       "4                          NaN 2020-09-15          2185.00  ...   \n",
       "\n",
       "   XNSE/SYNGENE/ADJUSTMENT FACTOR  XNSE/SYNGENE/ADJUSTMENT TYPE     DATE.9  \\\n",
       "0                             NaN                           NaN 2016-11-23   \n",
       "1                             NaN                           NaN 2016-11-24   \n",
       "2                             NaN                           NaN 2016-11-25   \n",
       "3                             NaN                           NaN 2016-11-28   \n",
       "4                             NaN                           NaN 2016-11-29   \n",
       "\n",
       "   XNSE/TITAN/OPEN  XNSE/TITAN/HIGH  XNSE/TITAN/LOW XNSE/TITAN/CLOSE  \\\n",
       "0       303.628352       308.541432      300.926158       307.067508   \n",
       "1       305.593584       309.229263      300.680504       302.203558   \n",
       "2       305.495322       313.651035      300.975288       310.654056   \n",
       "3       311.440149       312.471896      298.469618       301.220942   \n",
       "4       300.680504       310.752318      299.943542       308.394039   \n",
       "\n",
       "   XNSE/TITAN/VOLUME  XNSE/TITAN/ADJUSTMENT FACTOR  XNSE/TITAN/ADJUSTMENT TYPE  \n",
       "0            1250719                           NaN                         NaN  \n",
       "1            2751768                           NaN                         NaN  \n",
       "2            1285140                           NaN                         NaN  \n",
       "3            1676934                           NaN                         NaN  \n",
       "4            1450559                           NaN                         NaN  \n",
       "\n",
       "[5 rows x 80 columns]"
      ]
     },
     "execution_count": 2,
     "metadata": {},
     "output_type": "execute_result"
    }
   ],
   "source": [
    "# Import excel data file\n",
    "data = pd.read_excel(\"Time Series Sample.xlsx\") \n",
    "data.head()"
   ]
  },
  {
   "cell_type": "code",
   "execution_count": 3,
   "metadata": {},
   "outputs": [
    {
     "data": {
      "text/plain": [
       "(1000, 80)"
      ]
     },
     "execution_count": 3,
     "metadata": {},
     "output_type": "execute_result"
    }
   ],
   "source": [
    "# To check the shape of data like number of rows and columns\n",
    "data.shape"
   ]
  },
  {
   "cell_type": "code",
   "execution_count": 4,
   "metadata": {},
   "outputs": [
    {
     "data": {
      "text/html": [
       "<div>\n",
       "<style scoped>\n",
       "    .dataframe tbody tr th:only-of-type {\n",
       "        vertical-align: middle;\n",
       "    }\n",
       "\n",
       "    .dataframe tbody tr th {\n",
       "        vertical-align: top;\n",
       "    }\n",
       "\n",
       "    .dataframe thead th {\n",
       "        text-align: right;\n",
       "    }\n",
       "</style>\n",
       "<table border=\"1\" class=\"dataframe\">\n",
       "  <thead>\n",
       "    <tr style=\"text-align: right;\">\n",
       "      <th></th>\n",
       "      <th>XNSE/BIOCON/VOLUME</th>\n",
       "      <th>XNSE/DMART/VOLUME</th>\n",
       "      <th>XNSE/COLPAL/VOLUME</th>\n",
       "      <th>XNSE/RELIANCE/VOLUME</th>\n",
       "      <th>XNSE/INFY/VOLUME</th>\n",
       "      <th>XNSE/MANAPPURAM/VOLUME</th>\n",
       "      <th>XNSE/ICICIBANK/VOLUME</th>\n",
       "      <th>XNSE/HDFCAMC/VOLUME</th>\n",
       "      <th>XNSE/SYNGENE/VOLUME</th>\n",
       "      <th>XNSE/TITAN/VOLUME</th>\n",
       "    </tr>\n",
       "  </thead>\n",
       "  <tbody>\n",
       "    <tr>\n",
       "      <th>0</th>\n",
       "      <td>4258326.0</td>\n",
       "      <td>1140224.0</td>\n",
       "      <td>872594</td>\n",
       "      <td>15519433.0</td>\n",
       "      <td>14140790</td>\n",
       "      <td>4456898</td>\n",
       "      <td>1.715485e+07</td>\n",
       "      <td>NaN</td>\n",
       "      <td>121964</td>\n",
       "      <td>1250719</td>\n",
       "    </tr>\n",
       "    <tr>\n",
       "      <th>1</th>\n",
       "      <td>11410425.0</td>\n",
       "      <td>1204363.0</td>\n",
       "      <td>935110</td>\n",
       "      <td>15264101.0</td>\n",
       "      <td>12897897</td>\n",
       "      <td>3437264</td>\n",
       "      <td>2.256316e+07</td>\n",
       "      <td>NaN</td>\n",
       "      <td>55866</td>\n",
       "      <td>2751768</td>\n",
       "    </tr>\n",
       "    <tr>\n",
       "      <th>2</th>\n",
       "      <td>4431118.0</td>\n",
       "      <td>244384.0</td>\n",
       "      <td>423527</td>\n",
       "      <td>11919991.0</td>\n",
       "      <td>15628308</td>\n",
       "      <td>5286738</td>\n",
       "      <td>1.661170e+07</td>\n",
       "      <td>NaN</td>\n",
       "      <td>131112</td>\n",
       "      <td>1285140</td>\n",
       "    </tr>\n",
       "    <tr>\n",
       "      <th>3</th>\n",
       "      <td>10058926.0</td>\n",
       "      <td>391188.0</td>\n",
       "      <td>271029</td>\n",
       "      <td>15669133.0</td>\n",
       "      <td>10059392</td>\n",
       "      <td>3188591</td>\n",
       "      <td>3.293972e+07</td>\n",
       "      <td>NaN</td>\n",
       "      <td>286736</td>\n",
       "      <td>1676934</td>\n",
       "    </tr>\n",
       "    <tr>\n",
       "      <th>4</th>\n",
       "      <td>6044433.0</td>\n",
       "      <td>1115664.0</td>\n",
       "      <td>291168</td>\n",
       "      <td>12543161.0</td>\n",
       "      <td>11608223</td>\n",
       "      <td>8672740</td>\n",
       "      <td>3.232966e+07</td>\n",
       "      <td>NaN</td>\n",
       "      <td>153388</td>\n",
       "      <td>1450559</td>\n",
       "    </tr>\n",
       "  </tbody>\n",
       "</table>\n",
       "</div>"
      ],
      "text/plain": [
       "   XNSE/BIOCON/VOLUME  XNSE/DMART/VOLUME  XNSE/COLPAL/VOLUME  \\\n",
       "0           4258326.0          1140224.0              872594   \n",
       "1          11410425.0          1204363.0              935110   \n",
       "2           4431118.0           244384.0              423527   \n",
       "3          10058926.0           391188.0              271029   \n",
       "4           6044433.0          1115664.0              291168   \n",
       "\n",
       "   XNSE/RELIANCE/VOLUME  XNSE/INFY/VOLUME  XNSE/MANAPPURAM/VOLUME  \\\n",
       "0            15519433.0          14140790                 4456898   \n",
       "1            15264101.0          12897897                 3437264   \n",
       "2            11919991.0          15628308                 5286738   \n",
       "3            15669133.0          10059392                 3188591   \n",
       "4            12543161.0          11608223                 8672740   \n",
       "\n",
       "   XNSE/ICICIBANK/VOLUME  XNSE/HDFCAMC/VOLUME  XNSE/SYNGENE/VOLUME  \\\n",
       "0           1.715485e+07                  NaN               121964   \n",
       "1           2.256316e+07                  NaN                55866   \n",
       "2           1.661170e+07                  NaN               131112   \n",
       "3           3.293972e+07                  NaN               286736   \n",
       "4           3.232966e+07                  NaN               153388   \n",
       "\n",
       "   XNSE/TITAN/VOLUME  \n",
       "0            1250719  \n",
       "1            2751768  \n",
       "2            1285140  \n",
       "3            1676934  \n",
       "4            1450559  "
      ]
     },
     "execution_count": 4,
     "metadata": {},
     "output_type": "execute_result"
    }
   ],
   "source": [
    "# create the new data set of volume varible \n",
    "df = data[['XNSE/BIOCON/VOLUME','XNSE/DMART/VOLUME','XNSE/COLPAL/VOLUME','XNSE/RELIANCE/VOLUME','XNSE/INFY/VOLUME','XNSE/MANAPPURAM/VOLUME','XNSE/ICICIBANK/VOLUME','XNSE/HDFCAMC/VOLUME','XNSE/SYNGENE/VOLUME','XNSE/TITAN/VOLUME']]\n",
    "df.head()"
   ]
  },
  {
   "cell_type": "code",
   "execution_count": 5,
   "metadata": {},
   "outputs": [
    {
     "data": {
      "text/plain": [
       "XNSE/BIOCON/VOLUME        4.809964e+06\n",
       "XNSE/DMART/VOLUME         7.755276e+05\n",
       "XNSE/COLPAL/VOLUME        4.749458e+05\n",
       "XNSE/RELIANCE/VOLUME      9.951893e+06\n",
       "XNSE/INFY/VOLUME          8.940641e+06\n",
       "XNSE/MANAPPURAM/VOLUME    5.356832e+06\n",
       "XNSE/ICICIBANK/VOLUME     2.158046e+07\n",
       "XNSE/HDFCAMC/VOLUME       4.109065e+05\n",
       "XNSE/SYNGENE/VOLUME       2.978532e+05\n",
       "XNSE/TITAN/VOLUME         2.408564e+06\n",
       "dtype: float64"
      ]
     },
     "execution_count": 5,
     "metadata": {},
     "output_type": "execute_result"
    }
   ],
   "source": [
    "# caluulate the mean of each stock of volume\n",
    "MEAN = df.mean()\n",
    "MEAN"
   ]
  },
  {
   "cell_type": "markdown",
   "metadata": {},
   "source": [
    "# pie-chart of volume mean"
   ]
  },
  {
   "cell_type": "code",
   "execution_count": 6,
   "metadata": {},
   "outputs": [
    {
     "data": {
      "image/png": "[encoded data removed]",
      "text/plain": [
       "<Figure size 864x576 with 1 Axes>"
      ]
     },
     "metadata": {},
     "output_type": "display_data"
    }
   ],
   "source": [
    "plt.figure(figsize=(12,8))\n",
    "df.mean()[:10].plot(kind = \"pie\")\n",
    "plt.title(\"Stock Volume Price\", size = 18)\n",
    "plt.show()"
   ]
  },
  {
   "cell_type": "code",
   "execution_count": 7,
   "metadata": {},
   "outputs": [
    {
     "data": {
      "text/html": [
       "<div>\n",
       "<style scoped>\n",
       "    .dataframe tbody tr th:only-of-type {\n",
       "        vertical-align: middle;\n",
       "    }\n",
       "\n",
       "    .dataframe tbody tr th {\n",
       "        vertical-align: top;\n",
       "    }\n",
       "\n",
       "    .dataframe thead th {\n",
       "        text-align: right;\n",
       "    }\n",
       "</style>\n",
       "<table border=\"1\" class=\"dataframe\">\n",
       "  <thead>\n",
       "    <tr style=\"text-align: right;\">\n",
       "      <th></th>\n",
       "      <th>DATE</th>\n",
       "      <th>XNSE/BIOCON/CLOSE</th>\n",
       "      <th>DATE.1</th>\n",
       "      <th>XNSE/DMART/CLOSE</th>\n",
       "      <th>DATE.2</th>\n",
       "      <th>XNSE/COLPAL/CLOSE</th>\n",
       "      <th>DATE.3</th>\n",
       "      <th>XNSE/RELIANCE/CLOSE</th>\n",
       "      <th>DATE.4</th>\n",
       "      <th>XNSE/INFY/CLOSE</th>\n",
       "      <th>DATE.5</th>\n",
       "      <th>XNSE/MANAPPURAM/CLOSE</th>\n",
       "      <th>DATE.6</th>\n",
       "      <th>XNSE/ICICIBANK/CLOSE</th>\n",
       "      <th>DATE.7</th>\n",
       "      <th>XNSE/HDFCAMC/CLOSE</th>\n",
       "      <th>DATE.8</th>\n",
       "      <th>XNSE/SYNGENE/CLOSE</th>\n",
       "      <th>DATE.9</th>\n",
       "      <th>XNSE/TITAN/CLOSE</th>\n",
       "    </tr>\n",
       "  </thead>\n",
       "  <tbody>\n",
       "    <tr>\n",
       "      <th>0</th>\n",
       "      <td>2020-09-21</td>\n",
       "      <td>429.35</td>\n",
       "      <td>2020-09-21</td>\n",
       "      <td>2097.45</td>\n",
       "      <td>2020-09-21</td>\n",
       "      <td>1367.40</td>\n",
       "      <td>2020-09-21</td>\n",
       "      <td>2255.85</td>\n",
       "      <td>2020-09-21</td>\n",
       "      <td>1009.90</td>\n",
       "      <td>2016-11-23</td>\n",
       "      <td>72.468441</td>\n",
       "      <td>2016-11-23</td>\n",
       "      <td>237.342435</td>\n",
       "      <td>2016-11-23</td>\n",
       "      <td>NaN</td>\n",
       "      <td>2016-11-23</td>\n",
       "      <td>262.487659</td>\n",
       "      <td>2016-11-23</td>\n",
       "      <td>307.067508</td>\n",
       "    </tr>\n",
       "    <tr>\n",
       "      <th>1</th>\n",
       "      <td>2020-09-18</td>\n",
       "      <td>454.00</td>\n",
       "      <td>2020-09-18</td>\n",
       "      <td>2149.05</td>\n",
       "      <td>2020-09-18</td>\n",
       "      <td>1372.65</td>\n",
       "      <td>2020-09-18</td>\n",
       "      <td>2305.70</td>\n",
       "      <td>2020-09-18</td>\n",
       "      <td>1002.15</td>\n",
       "      <td>2016-11-24</td>\n",
       "      <td>68.585368</td>\n",
       "      <td>2016-11-24</td>\n",
       "      <td>232.281160</td>\n",
       "      <td>2016-11-24</td>\n",
       "      <td>NaN</td>\n",
       "      <td>2016-11-24</td>\n",
       "      <td>262.139499</td>\n",
       "      <td>2016-11-24</td>\n",
       "      <td>302.203558</td>\n",
       "    </tr>\n",
       "    <tr>\n",
       "      <th>2</th>\n",
       "      <td>2020-09-17</td>\n",
       "      <td>442.20</td>\n",
       "      <td>2020-09-17</td>\n",
       "      <td>2139.05</td>\n",
       "      <td>2020-09-17</td>\n",
       "      <td>1397.50</td>\n",
       "      <td>2020-09-17</td>\n",
       "      <td>2298.75</td>\n",
       "      <td>2020-09-17</td>\n",
       "      <td>1011.00</td>\n",
       "      <td>2016-11-25</td>\n",
       "      <td>69.006424</td>\n",
       "      <td>2016-11-25</td>\n",
       "      <td>232.997800</td>\n",
       "      <td>2016-11-25</td>\n",
       "      <td>NaN</td>\n",
       "      <td>2016-11-25</td>\n",
       "      <td>267.113211</td>\n",
       "      <td>2016-11-25</td>\n",
       "      <td>310.654056</td>\n",
       "    </tr>\n",
       "    <tr>\n",
       "      <th>3</th>\n",
       "      <td>2020-09-16</td>\n",
       "      <td>438.65</td>\n",
       "      <td>2020-09-16</td>\n",
       "      <td>2135.95</td>\n",
       "      <td>2020-09-16</td>\n",
       "      <td>1420.40</td>\n",
       "      <td>2020-09-16</td>\n",
       "      <td>2324.55</td>\n",
       "      <td>2020-09-16</td>\n",
       "      <td>1001.75</td>\n",
       "      <td>2016-11-28</td>\n",
       "      <td>67.649687</td>\n",
       "      <td>2016-11-28</td>\n",
       "      <td>228.697956</td>\n",
       "      <td>2016-11-28</td>\n",
       "      <td>NaN</td>\n",
       "      <td>2016-11-28</td>\n",
       "      <td>277.707218</td>\n",
       "      <td>2016-11-28</td>\n",
       "      <td>301.220942</td>\n",
       "    </tr>\n",
       "    <tr>\n",
       "      <th>4</th>\n",
       "      <td>2020-09-15</td>\n",
       "      <td>440.05</td>\n",
       "      <td>2020-09-15</td>\n",
       "      <td>2136.15</td>\n",
       "      <td>2020-09-15</td>\n",
       "      <td>1420.15</td>\n",
       "      <td>2020-09-15</td>\n",
       "      <td>2318.85</td>\n",
       "      <td>2020-09-15</td>\n",
       "      <td>982.45</td>\n",
       "      <td>2016-11-29</td>\n",
       "      <td>71.673113</td>\n",
       "      <td>2016-11-29</td>\n",
       "      <td>228.832326</td>\n",
       "      <td>2016-11-29</td>\n",
       "      <td>NaN</td>\n",
       "      <td>2016-11-29</td>\n",
       "      <td>285.615421</td>\n",
       "      <td>2016-11-29</td>\n",
       "      <td>308.394039</td>\n",
       "    </tr>\n",
       "  </tbody>\n",
       "</table>\n",
       "</div>"
      ],
      "text/plain": [
       "        DATE  XNSE/BIOCON/CLOSE     DATE.1  XNSE/DMART/CLOSE     DATE.2  \\\n",
       "0 2020-09-21             429.35 2020-09-21           2097.45 2020-09-21   \n",
       "1 2020-09-18             454.00 2020-09-18           2149.05 2020-09-18   \n",
       "2 2020-09-17             442.20 2020-09-17           2139.05 2020-09-17   \n",
       "3 2020-09-16             438.65 2020-09-16           2135.95 2020-09-16   \n",
       "4 2020-09-15             440.05 2020-09-15           2136.15 2020-09-15   \n",
       "\n",
       "   XNSE/COLPAL/CLOSE     DATE.3  XNSE/RELIANCE/CLOSE     DATE.4  \\\n",
       "0            1367.40 2020-09-21              2255.85 2020-09-21   \n",
       "1            1372.65 2020-09-18              2305.70 2020-09-18   \n",
       "2            1397.50 2020-09-17              2298.75 2020-09-17   \n",
       "3            1420.40 2020-09-16              2324.55 2020-09-16   \n",
       "4            1420.15 2020-09-15              2318.85 2020-09-15   \n",
       "\n",
       "   XNSE/INFY/CLOSE     DATE.5  XNSE/MANAPPURAM/CLOSE     DATE.6  \\\n",
       "0          1009.90 2016-11-23              72.468441 2016-11-23   \n",
       "1          1002.15 2016-11-24              68.585368 2016-11-24   \n",
       "2          1011.00 2016-11-25              69.006424 2016-11-25   \n",
       "3          1001.75 2016-11-28              67.649687 2016-11-28   \n",
       "4           982.45 2016-11-29              71.673113 2016-11-29   \n",
       "\n",
       "   XNSE/ICICIBANK/CLOSE     DATE.7  XNSE/HDFCAMC/CLOSE     DATE.8  \\\n",
       "0            237.342435 2016-11-23                 NaN 2016-11-23   \n",
       "1            232.281160 2016-11-24                 NaN 2016-11-24   \n",
       "2            232.997800 2016-11-25                 NaN 2016-11-25   \n",
       "3            228.697956 2016-11-28                 NaN 2016-11-28   \n",
       "4            228.832326 2016-11-29                 NaN 2016-11-29   \n",
       "\n",
       "   XNSE/SYNGENE/CLOSE     DATE.9  XNSE/TITAN/CLOSE  \n",
       "0          262.487659 2016-11-23        307.067508  \n",
       "1          262.139499 2016-11-24        302.203558  \n",
       "2          267.113211 2016-11-25        310.654056  \n",
       "3          277.707218 2016-11-28        301.220942  \n",
       "4          285.615421 2016-11-29        308.394039  "
      ]
     },
     "execution_count": 7,
     "metadata": {},
     "output_type": "execute_result"
    }
   ],
   "source": [
    "# create the new data frame for closing price of each stocks\n",
    "df1 = data[[\"DATE\",'XNSE/BIOCON/CLOSE',\"DATE.1\",'XNSE/DMART/CLOSE',\"DATE.2\",'XNSE/COLPAL/CLOSE',\"DATE.3\",'XNSE/RELIANCE/CLOSE',\"DATE.4\",'XNSE/INFY/CLOSE',\"DATE.5\",'XNSE/MANAPPURAM/CLOSE',\"DATE.6\",'XNSE/ICICIBANK/CLOSE',\"DATE.7\",'XNSE/HDFCAMC/CLOSE',\"DATE.8\",'XNSE/SYNGENE/CLOSE',\"DATE.9\",'XNSE/TITAN/CLOSE']]\n",
    "df1.head()"
   ]
  },
  {
   "cell_type": "code",
   "execution_count": 8,
   "metadata": {},
   "outputs": [
    {
     "data": {
      "image/png": "[encoded data removed]",
      "text/plain": [
       "<Figure size 864x576 with 5 Axes>"
      ]
     },
     "metadata": {
      "needs_background": "light"
     },
     "output_type": "display_data"
    }
   ],
   "source": [
    "fig = plt.figure(figsize=(12,8))\n",
    "ax1 = fig.add_subplot(441)\n",
    "ax2 = fig.add_subplot(442)\n",
    "ax3 = fig.add_subplot(443)\n",
    "ax4 = fig.add_subplot(444)\n",
    "ax5 = fig.add_subplot(445)\n",
    "ax1.plot(df1['XNSE/BIOCON/CLOSE'])\n",
    "ax1.set_title(\"BIOCON\")\n",
    "ax2.plot(df1['XNSE/DMART/CLOSE'])\n",
    "ax2.set_title(\"DMART\")\n",
    "ax3.plot(df1['XNSE/COLPAL/CLOSE'])\n",
    "ax3.set_title(\"COLPAL\")\n",
    "ax4.plot(df1['XNSE/RELIANCE/CLOSE'])\n",
    "ax4.set_title(\"RELIANCE\")\n",
    "ax5.plot(df1['XNSE/INFY/CLOSE'])\n",
    "ax5.set_title(\"INFY\")\n",
    "plt.tight_layout()\n",
    "plt.show()"
   ]
  },
  {
   "cell_type": "code",
   "execution_count": 9,
   "metadata": {},
   "outputs": [
    {
     "data": {
      "image/png": "[encoded data removed]",
      "text/plain": [
       "<Figure size 864x576 with 5 Axes>"
      ]
     },
     "metadata": {
      "needs_background": "light"
     },
     "output_type": "display_data"
    }
   ],
   "source": [
    "fig = plt.figure(figsize=(12,8))\n",
    "\n",
    "ax6 = fig.add_subplot(441)\n",
    "ax7 = fig.add_subplot(442)\n",
    "ax8 = fig.add_subplot(443)\n",
    "ax9 = fig.add_subplot(444)\n",
    "ax10 = fig.add_subplot(445)\n",
    "\n",
    "ax6.plot(df1['XNSE/MANAPPURAM/CLOSE'])\n",
    "ax6.set_title(\"MANAPPURAM\")\n",
    "ax7.plot(df1['XNSE/ICICIBANK/CLOSE'])\n",
    "ax7.set_title(\"ICICIBAN\")\n",
    "ax8.plot(df1['XNSE/HDFCAMC/CLOSE'])\n",
    "ax8.set_title(\"HDFCAMC\")\n",
    "ax9.plot(df1['XNSE/SYNGENE/CLOSE'])\n",
    "ax9.set_title(\"SYNGENE\")\n",
    "ax10.plot(df1['XNSE/TITAN/CLOSE'])\n",
    "ax10.set_title(\"TITAN\")\n",
    "plt.tight_layout()\n",
    "plt.show()"
   ]
  },
  {
   "cell_type": "markdown",
   "metadata": {},
   "source": [
    "# Data sorting by ascending order"
   ]
  },
  {
   "cell_type": "code",
   "execution_count": 10,
   "metadata": {},
   "outputs": [
    {
     "data": {
      "text/html": [
       "<div>\n",
       "<style scoped>\n",
       "    .dataframe tbody tr th:only-of-type {\n",
       "        vertical-align: middle;\n",
       "    }\n",
       "\n",
       "    .dataframe tbody tr th {\n",
       "        vertical-align: top;\n",
       "    }\n",
       "\n",
       "    .dataframe thead th {\n",
       "        text-align: right;\n",
       "    }\n",
       "</style>\n",
       "<table border=\"1\" class=\"dataframe\">\n",
       "  <thead>\n",
       "    <tr style=\"text-align: right;\">\n",
       "      <th></th>\n",
       "      <th>DATE</th>\n",
       "      <th>XNSE/BIOCON/CLOSE</th>\n",
       "      <th>XNSE/DMART/CLOSE</th>\n",
       "      <th>XNSE/COLPAL/CLOSE</th>\n",
       "      <th>XNSE/RELIANCE/CLOSE</th>\n",
       "      <th>XNSE/INFY/CLOSE</th>\n",
       "    </tr>\n",
       "  </thead>\n",
       "  <tbody>\n",
       "    <tr>\n",
       "      <th>0</th>\n",
       "      <td>2016-11-23</td>\n",
       "      <td>142.672376</td>\n",
       "      <td>NaN</td>\n",
       "      <td>864.347304</td>\n",
       "      <td>488.533896</td>\n",
       "      <td>417.578843</td>\n",
       "    </tr>\n",
       "    <tr>\n",
       "      <th>1</th>\n",
       "      <td>2016-11-24</td>\n",
       "      <td>141.694941</td>\n",
       "      <td>NaN</td>\n",
       "      <td>874.499034</td>\n",
       "      <td>478.051479</td>\n",
       "      <td>422.139198</td>\n",
       "    </tr>\n",
       "    <tr>\n",
       "      <th>2</th>\n",
       "      <td>2016-11-25</td>\n",
       "      <td>145.347897</td>\n",
       "      <td>NaN</td>\n",
       "      <td>864.674779</td>\n",
       "      <td>481.125998</td>\n",
       "      <td>443.556988</td>\n",
       "    </tr>\n",
       "    <tr>\n",
       "      <th>3</th>\n",
       "      <td>2016-11-28</td>\n",
       "      <td>146.176232</td>\n",
       "      <td>NaN</td>\n",
       "      <td>872.908440</td>\n",
       "      <td>477.712555</td>\n",
       "      <td>444.577964</td>\n",
       "    </tr>\n",
       "    <tr>\n",
       "      <th>4</th>\n",
       "      <td>2016-11-29</td>\n",
       "      <td>152.430159</td>\n",
       "      <td>NaN</td>\n",
       "      <td>879.785419</td>\n",
       "      <td>483.062703</td>\n",
       "      <td>441.333531</td>\n",
       "    </tr>\n",
       "  </tbody>\n",
       "</table>\n",
       "</div>"
      ],
      "text/plain": [
       "        DATE  XNSE/BIOCON/CLOSE  XNSE/DMART/CLOSE  XNSE/COLPAL/CLOSE  \\\n",
       "0 2016-11-23         142.672376               NaN         864.347304   \n",
       "1 2016-11-24         141.694941               NaN         874.499034   \n",
       "2 2016-11-25         145.347897               NaN         864.674779   \n",
       "3 2016-11-28         146.176232               NaN         872.908440   \n",
       "4 2016-11-29         152.430159               NaN         879.785419   \n",
       "\n",
       "   XNSE/RELIANCE/CLOSE  XNSE/INFY/CLOSE  \n",
       "0           488.533896       417.578843  \n",
       "1           478.051479       422.139198  \n",
       "2           481.125998       443.556988  \n",
       "3           477.712555       444.577964  \n",
       "4           483.062703       441.333531  "
      ]
     },
     "execution_count": 10,
     "metadata": {},
     "output_type": "execute_result"
    }
   ],
   "source": [
    "# ceate only colsing prices of each stock\n",
    "data_1 = data[[\"DATE\",'XNSE/BIOCON/CLOSE','XNSE/DMART/CLOSE','XNSE/COLPAL/CLOSE','XNSE/RELIANCE/CLOSE','XNSE/INFY/CLOSE']]\n",
    "data_1 = data_1.sort_values(by =[\"DATE\"],ascending=True, ignore_index=True)\n",
    "data_1.head()"
   ]
  },
  {
   "cell_type": "code",
   "execution_count": 11,
   "metadata": {},
   "outputs": [
    {
     "data": {
      "text/html": [
       "<div>\n",
       "<style scoped>\n",
       "    .dataframe tbody tr th:only-of-type {\n",
       "        vertical-align: middle;\n",
       "    }\n",
       "\n",
       "    .dataframe tbody tr th {\n",
       "        vertical-align: top;\n",
       "    }\n",
       "\n",
       "    .dataframe thead th {\n",
       "        text-align: right;\n",
       "    }\n",
       "</style>\n",
       "<table border=\"1\" class=\"dataframe\">\n",
       "  <thead>\n",
       "    <tr style=\"text-align: right;\">\n",
       "      <th></th>\n",
       "      <th>XNSE/BIOCON/CLOSE</th>\n",
       "      <th>XNSE/DMART/CLOSE</th>\n",
       "      <th>XNSE/COLPAL/CLOSE</th>\n",
       "      <th>XNSE/RELIANCE/CLOSE</th>\n",
       "      <th>XNSE/INFY/CLOSE</th>\n",
       "    </tr>\n",
       "  </thead>\n",
       "  <tbody>\n",
       "    <tr>\n",
       "      <th>0</th>\n",
       "      <td>142.672376</td>\n",
       "      <td>NaN</td>\n",
       "      <td>864.347304</td>\n",
       "      <td>488.533896</td>\n",
       "      <td>417.578843</td>\n",
       "    </tr>\n",
       "    <tr>\n",
       "      <th>1</th>\n",
       "      <td>141.694941</td>\n",
       "      <td>NaN</td>\n",
       "      <td>874.499034</td>\n",
       "      <td>478.051479</td>\n",
       "      <td>422.139198</td>\n",
       "    </tr>\n",
       "    <tr>\n",
       "      <th>2</th>\n",
       "      <td>145.347897</td>\n",
       "      <td>NaN</td>\n",
       "      <td>864.674779</td>\n",
       "      <td>481.125998</td>\n",
       "      <td>443.556988</td>\n",
       "    </tr>\n",
       "    <tr>\n",
       "      <th>3</th>\n",
       "      <td>146.176232</td>\n",
       "      <td>NaN</td>\n",
       "      <td>872.908440</td>\n",
       "      <td>477.712555</td>\n",
       "      <td>444.577964</td>\n",
       "    </tr>\n",
       "    <tr>\n",
       "      <th>4</th>\n",
       "      <td>152.430159</td>\n",
       "      <td>NaN</td>\n",
       "      <td>879.785419</td>\n",
       "      <td>483.062703</td>\n",
       "      <td>441.333531</td>\n",
       "    </tr>\n",
       "  </tbody>\n",
       "</table>\n",
       "</div>"
      ],
      "text/plain": [
       "   XNSE/BIOCON/CLOSE  XNSE/DMART/CLOSE  XNSE/COLPAL/CLOSE  \\\n",
       "0         142.672376               NaN         864.347304   \n",
       "1         141.694941               NaN         874.499034   \n",
       "2         145.347897               NaN         864.674779   \n",
       "3         146.176232               NaN         872.908440   \n",
       "4         152.430159               NaN         879.785419   \n",
       "\n",
       "   XNSE/RELIANCE/CLOSE  XNSE/INFY/CLOSE  \n",
       "0           488.533896       417.578843  \n",
       "1           478.051479       422.139198  \n",
       "2           481.125998       443.556988  \n",
       "3           477.712555       444.577964  \n",
       "4           483.062703       441.333531  "
      ]
     },
     "execution_count": 11,
     "metadata": {},
     "output_type": "execute_result"
    }
   ],
   "source": [
    "df2 = data_1[['XNSE/BIOCON/CLOSE','XNSE/DMART/CLOSE','XNSE/COLPAL/CLOSE','XNSE/RELIANCE/CLOSE','XNSE/INFY/CLOSE']]\n",
    "df2.head()"
   ]
  },
  {
   "cell_type": "code",
   "execution_count": null,
   "metadata": {},
   "outputs": [],
   "source": []
  },
  {
   "cell_type": "code",
   "execution_count": 12,
   "metadata": {},
   "outputs": [
    {
     "data": {
      "text/html": [
       "<div>\n",
       "<style scoped>\n",
       "    .dataframe tbody tr th:only-of-type {\n",
       "        vertical-align: middle;\n",
       "    }\n",
       "\n",
       "    .dataframe tbody tr th {\n",
       "        vertical-align: top;\n",
       "    }\n",
       "\n",
       "    .dataframe thead th {\n",
       "        text-align: right;\n",
       "    }\n",
       "</style>\n",
       "<table border=\"1\" class=\"dataframe\">\n",
       "  <thead>\n",
       "    <tr style=\"text-align: right;\">\n",
       "      <th></th>\n",
       "      <th>DATE.5</th>\n",
       "      <th>XNSE/MANAPPURAM/CLOSE</th>\n",
       "      <th>XNSE/ICICIBANK/CLOSE</th>\n",
       "      <th>XNSE/HDFCAMC/CLOSE</th>\n",
       "      <th>XNSE/SYNGENE/CLOSE</th>\n",
       "      <th>XNSE/TITAN/CLOSE</th>\n",
       "    </tr>\n",
       "  </thead>\n",
       "  <tbody>\n",
       "    <tr>\n",
       "      <th>0</th>\n",
       "      <td>2016-11-23</td>\n",
       "      <td>72.468441</td>\n",
       "      <td>237.342435</td>\n",
       "      <td>NaN</td>\n",
       "      <td>262.487659</td>\n",
       "      <td>307.067508</td>\n",
       "    </tr>\n",
       "    <tr>\n",
       "      <th>1</th>\n",
       "      <td>2016-11-24</td>\n",
       "      <td>68.585368</td>\n",
       "      <td>232.281160</td>\n",
       "      <td>NaN</td>\n",
       "      <td>262.139499</td>\n",
       "      <td>302.203558</td>\n",
       "    </tr>\n",
       "    <tr>\n",
       "      <th>2</th>\n",
       "      <td>2016-11-25</td>\n",
       "      <td>69.006424</td>\n",
       "      <td>232.997800</td>\n",
       "      <td>NaN</td>\n",
       "      <td>267.113211</td>\n",
       "      <td>310.654056</td>\n",
       "    </tr>\n",
       "    <tr>\n",
       "      <th>3</th>\n",
       "      <td>2016-11-28</td>\n",
       "      <td>67.649687</td>\n",
       "      <td>228.697956</td>\n",
       "      <td>NaN</td>\n",
       "      <td>277.707218</td>\n",
       "      <td>301.220942</td>\n",
       "    </tr>\n",
       "    <tr>\n",
       "      <th>4</th>\n",
       "      <td>2016-11-29</td>\n",
       "      <td>71.673113</td>\n",
       "      <td>228.832326</td>\n",
       "      <td>NaN</td>\n",
       "      <td>285.615421</td>\n",
       "      <td>308.394039</td>\n",
       "    </tr>\n",
       "  </tbody>\n",
       "</table>\n",
       "</div>"
      ],
      "text/plain": [
       "      DATE.5  XNSE/MANAPPURAM/CLOSE  XNSE/ICICIBANK/CLOSE  XNSE/HDFCAMC/CLOSE  \\\n",
       "0 2016-11-23              72.468441            237.342435                 NaN   \n",
       "1 2016-11-24              68.585368            232.281160                 NaN   \n",
       "2 2016-11-25              69.006424            232.997800                 NaN   \n",
       "3 2016-11-28              67.649687            228.697956                 NaN   \n",
       "4 2016-11-29              71.673113            228.832326                 NaN   \n",
       "\n",
       "   XNSE/SYNGENE/CLOSE  XNSE/TITAN/CLOSE  \n",
       "0          262.487659        307.067508  \n",
       "1          262.139499        302.203558  \n",
       "2          267.113211        310.654056  \n",
       "3          277.707218        301.220942  \n",
       "4          285.615421        308.394039  "
      ]
     },
     "execution_count": 12,
     "metadata": {},
     "output_type": "execute_result"
    }
   ],
   "source": [
    "data_2 = data[[\"DATE.5\",'XNSE/MANAPPURAM/CLOSE','XNSE/ICICIBANK/CLOSE','XNSE/HDFCAMC/CLOSE','XNSE/SYNGENE/CLOSE','XNSE/TITAN/CLOSE']]\n",
    "data_2 = data_2.sort_values(by =[\"DATE.5\"],ascending=True, ignore_index=True)\n",
    "data_2.head()"
   ]
  },
  {
   "cell_type": "code",
   "execution_count": 13,
   "metadata": {},
   "outputs": [],
   "source": [
    "data_1 = data_1.drop(\"DATE\", axis = 1)"
   ]
  },
  {
   "cell_type": "code",
   "execution_count": 14,
   "metadata": {},
   "outputs": [],
   "source": [
    "data_2 = data_2.drop(\"DATE.5\", axis = 1)"
   ]
  },
  {
   "cell_type": "code",
   "execution_count": 15,
   "metadata": {},
   "outputs": [
    {
     "data": {
      "text/html": [
       "<div>\n",
       "<style scoped>\n",
       "    .dataframe tbody tr th:only-of-type {\n",
       "        vertical-align: middle;\n",
       "    }\n",
       "\n",
       "    .dataframe tbody tr th {\n",
       "        vertical-align: top;\n",
       "    }\n",
       "\n",
       "    .dataframe thead th {\n",
       "        text-align: right;\n",
       "    }\n",
       "</style>\n",
       "<table border=\"1\" class=\"dataframe\">\n",
       "  <thead>\n",
       "    <tr style=\"text-align: right;\">\n",
       "      <th></th>\n",
       "      <th>XNSE/BIOCON/CLOSE</th>\n",
       "      <th>XNSE/DMART/CLOSE</th>\n",
       "      <th>XNSE/COLPAL/CLOSE</th>\n",
       "      <th>XNSE/RELIANCE/CLOSE</th>\n",
       "      <th>XNSE/INFY/CLOSE</th>\n",
       "      <th>XNSE/MANAPPURAM/CLOSE</th>\n",
       "      <th>XNSE/ICICIBANK/CLOSE</th>\n",
       "      <th>XNSE/HDFCAMC/CLOSE</th>\n",
       "      <th>XNSE/SYNGENE/CLOSE</th>\n",
       "      <th>XNSE/TITAN/CLOSE</th>\n",
       "    </tr>\n",
       "  </thead>\n",
       "  <tbody>\n",
       "    <tr>\n",
       "      <th>0</th>\n",
       "      <td>142.672376</td>\n",
       "      <td>NaN</td>\n",
       "      <td>864.347304</td>\n",
       "      <td>488.533896</td>\n",
       "      <td>417.578843</td>\n",
       "      <td>72.468441</td>\n",
       "      <td>237.342435</td>\n",
       "      <td>NaN</td>\n",
       "      <td>262.487659</td>\n",
       "      <td>307.067508</td>\n",
       "    </tr>\n",
       "    <tr>\n",
       "      <th>1</th>\n",
       "      <td>141.694941</td>\n",
       "      <td>NaN</td>\n",
       "      <td>874.499034</td>\n",
       "      <td>478.051479</td>\n",
       "      <td>422.139198</td>\n",
       "      <td>68.585368</td>\n",
       "      <td>232.281160</td>\n",
       "      <td>NaN</td>\n",
       "      <td>262.139499</td>\n",
       "      <td>302.203558</td>\n",
       "    </tr>\n",
       "    <tr>\n",
       "      <th>2</th>\n",
       "      <td>145.347897</td>\n",
       "      <td>NaN</td>\n",
       "      <td>864.674779</td>\n",
       "      <td>481.125998</td>\n",
       "      <td>443.556988</td>\n",
       "      <td>69.006424</td>\n",
       "      <td>232.997800</td>\n",
       "      <td>NaN</td>\n",
       "      <td>267.113211</td>\n",
       "      <td>310.654056</td>\n",
       "    </tr>\n",
       "    <tr>\n",
       "      <th>3</th>\n",
       "      <td>146.176232</td>\n",
       "      <td>NaN</td>\n",
       "      <td>872.908440</td>\n",
       "      <td>477.712555</td>\n",
       "      <td>444.577964</td>\n",
       "      <td>67.649687</td>\n",
       "      <td>228.697956</td>\n",
       "      <td>NaN</td>\n",
       "      <td>277.707218</td>\n",
       "      <td>301.220942</td>\n",
       "    </tr>\n",
       "    <tr>\n",
       "      <th>4</th>\n",
       "      <td>152.430159</td>\n",
       "      <td>NaN</td>\n",
       "      <td>879.785419</td>\n",
       "      <td>483.062703</td>\n",
       "      <td>441.333531</td>\n",
       "      <td>71.673113</td>\n",
       "      <td>228.832326</td>\n",
       "      <td>NaN</td>\n",
       "      <td>285.615421</td>\n",
       "      <td>308.394039</td>\n",
       "    </tr>\n",
       "  </tbody>\n",
       "</table>\n",
       "</div>"
      ],
      "text/plain": [
       "   XNSE/BIOCON/CLOSE  XNSE/DMART/CLOSE  XNSE/COLPAL/CLOSE  \\\n",
       "0         142.672376               NaN         864.347304   \n",
       "1         141.694941               NaN         874.499034   \n",
       "2         145.347897               NaN         864.674779   \n",
       "3         146.176232               NaN         872.908440   \n",
       "4         152.430159               NaN         879.785419   \n",
       "\n",
       "   XNSE/RELIANCE/CLOSE  XNSE/INFY/CLOSE  XNSE/MANAPPURAM/CLOSE  \\\n",
       "0           488.533896       417.578843              72.468441   \n",
       "1           478.051479       422.139198              68.585368   \n",
       "2           481.125998       443.556988              69.006424   \n",
       "3           477.712555       444.577964              67.649687   \n",
       "4           483.062703       441.333531              71.673113   \n",
       "\n",
       "   XNSE/ICICIBANK/CLOSE  XNSE/HDFCAMC/CLOSE  XNSE/SYNGENE/CLOSE  \\\n",
       "0            237.342435                 NaN          262.487659   \n",
       "1            232.281160                 NaN          262.139499   \n",
       "2            232.997800                 NaN          267.113211   \n",
       "3            228.697956                 NaN          277.707218   \n",
       "4            228.832326                 NaN          285.615421   \n",
       "\n",
       "   XNSE/TITAN/CLOSE  \n",
       "0        307.067508  \n",
       "1        302.203558  \n",
       "2        310.654056  \n",
       "3        301.220942  \n",
       "4        308.394039  "
      ]
     },
     "execution_count": 15,
     "metadata": {},
     "output_type": "execute_result"
    }
   ],
   "source": [
    "df2 = pd.concat([data_1, data_2], axis = 1)\n",
    "df2.head()"
   ]
  },
  {
   "cell_type": "markdown",
   "metadata": {},
   "source": [
    "# Mean of closing price "
   ]
  },
  {
   "cell_type": "code",
   "execution_count": 16,
   "metadata": {},
   "outputs": [
    {
     "data": {
      "text/plain": [
       "XNSE/BIOCON/CLOSE         270.328204\n",
       "XNSE/DMART/CLOSE         1515.595301\n",
       "XNSE/COLPAL/CLOSE        1150.634087\n",
       "XNSE/RELIANCE/CLOSE      1110.656982\n",
       "XNSE/INFY/CLOSE           619.508083\n",
       "XNSE/MANAPPURAM/CLOSE     112.189503\n",
       "XNSE/ICICIBANK/CLOSE      345.469888\n",
       "XNSE/HDFCAMC/CLOSE       2175.033947\n",
       "XNSE/SYNGENE/CLOSE        299.391468\n",
       "XNSE/TITAN/CLOSE          875.538622\n",
       "dtype: float64"
      ]
     },
     "execution_count": 16,
     "metadata": {},
     "output_type": "execute_result"
    }
   ],
   "source": [
    "df2.mean()"
   ]
  },
  {
   "cell_type": "code",
   "execution_count": 17,
   "metadata": {},
   "outputs": [
    {
     "data": {
      "image/png": "[encoded data removed]",
      "text/plain": [
       "<Figure size 864x576 with 1 Axes>"
      ]
     },
     "metadata": {},
     "output_type": "display_data"
    }
   ],
   "source": [
    "plt.figure(figsize=(12,8))\n",
    "df2.mean()[:10].plot(kind = \"pie\")\n",
    "plt.title(\"Stock closing price\", size = 18)\n",
    "plt.show()"
   ]
  },
  {
   "cell_type": "markdown",
   "metadata": {},
   "source": [
    "\n",
    "Variance\n",
    "$$s^2 = \\frac{\\sum_{i=1}^N (x_i - \\bar{x})^2}{N-1}$$\n",
    "Standard Deviation (Volatility)\n",
    "$$s = \\sqrt{\\frac{\\sum_{i=1}^N (x_i - \\bar{x})^2}{N-1}}$$"
   ]
  },
  {
   "cell_type": "markdown",
   "metadata": {},
   "source": [
    "# Calculating the daily  returns for individual stock"
   ]
  },
  {
   "cell_type": "code",
   "execution_count": 18,
   "metadata": {},
   "outputs": [],
   "source": [
    "#daily_return.to_csv(\"daily_return.csv\")"
   ]
  },
  {
   "cell_type": "code",
   "execution_count": 19,
   "metadata": {},
   "outputs": [
    {
     "data": {
      "text/html": [
       "<div>\n",
       "<style scoped>\n",
       "    .dataframe tbody tr th:only-of-type {\n",
       "        vertical-align: middle;\n",
       "    }\n",
       "\n",
       "    .dataframe tbody tr th {\n",
       "        vertical-align: top;\n",
       "    }\n",
       "\n",
       "    .dataframe thead th {\n",
       "        text-align: right;\n",
       "    }\n",
       "</style>\n",
       "<table border=\"1\" class=\"dataframe\">\n",
       "  <thead>\n",
       "    <tr style=\"text-align: right;\">\n",
       "      <th></th>\n",
       "      <th>XNSE/BIOCON/CLOSE</th>\n",
       "      <th>XNSE/DMART/CLOSE</th>\n",
       "      <th>XNSE/COLPAL/CLOSE</th>\n",
       "      <th>XNSE/RELIANCE/CLOSE</th>\n",
       "      <th>XNSE/INFY/CLOSE</th>\n",
       "      <th>XNSE/MANAPPURAM/CLOSE</th>\n",
       "      <th>XNSE/ICICIBANK/CLOSE</th>\n",
       "      <th>XNSE/HDFCAMC/CLOSE</th>\n",
       "      <th>XNSE/SYNGENE/CLOSE</th>\n",
       "      <th>XNSE/TITAN/CLOSE</th>\n",
       "    </tr>\n",
       "  </thead>\n",
       "  <tbody>\n",
       "    <tr>\n",
       "      <th>0</th>\n",
       "      <td>NaN</td>\n",
       "      <td>NaN</td>\n",
       "      <td>NaN</td>\n",
       "      <td>NaN</td>\n",
       "      <td>NaN</td>\n",
       "      <td>NaN</td>\n",
       "      <td>NaN</td>\n",
       "      <td>NaN</td>\n",
       "      <td>NaN</td>\n",
       "      <td>NaN</td>\n",
       "    </tr>\n",
       "    <tr>\n",
       "      <th>1</th>\n",
       "      <td>-0.006851</td>\n",
       "      <td>NaN</td>\n",
       "      <td>0.011745</td>\n",
       "      <td>-0.021457</td>\n",
       "      <td>0.010921</td>\n",
       "      <td>-0.053583</td>\n",
       "      <td>-0.021325</td>\n",
       "      <td>NaN</td>\n",
       "      <td>-0.001326</td>\n",
       "      <td>-0.015840</td>\n",
       "    </tr>\n",
       "    <tr>\n",
       "      <th>2</th>\n",
       "      <td>0.025780</td>\n",
       "      <td>NaN</td>\n",
       "      <td>-0.011234</td>\n",
       "      <td>0.006431</td>\n",
       "      <td>0.050736</td>\n",
       "      <td>0.006139</td>\n",
       "      <td>0.003085</td>\n",
       "      <td>NaN</td>\n",
       "      <td>0.018974</td>\n",
       "      <td>0.027963</td>\n",
       "    </tr>\n",
       "    <tr>\n",
       "      <th>3</th>\n",
       "      <td>0.005699</td>\n",
       "      <td>NaN</td>\n",
       "      <td>0.009522</td>\n",
       "      <td>-0.007095</td>\n",
       "      <td>0.002302</td>\n",
       "      <td>-0.019661</td>\n",
       "      <td>-0.018454</td>\n",
       "      <td>NaN</td>\n",
       "      <td>0.039661</td>\n",
       "      <td>-0.030365</td>\n",
       "    </tr>\n",
       "    <tr>\n",
       "      <th>4</th>\n",
       "      <td>0.042783</td>\n",
       "      <td>NaN</td>\n",
       "      <td>0.007878</td>\n",
       "      <td>0.011200</td>\n",
       "      <td>-0.007298</td>\n",
       "      <td>0.059474</td>\n",
       "      <td>0.000588</td>\n",
       "      <td>NaN</td>\n",
       "      <td>0.028477</td>\n",
       "      <td>0.023813</td>\n",
       "    </tr>\n",
       "  </tbody>\n",
       "</table>\n",
       "</div>"
      ],
      "text/plain": [
       "   XNSE/BIOCON/CLOSE  XNSE/DMART/CLOSE  XNSE/COLPAL/CLOSE  \\\n",
       "0                NaN               NaN                NaN   \n",
       "1          -0.006851               NaN           0.011745   \n",
       "2           0.025780               NaN          -0.011234   \n",
       "3           0.005699               NaN           0.009522   \n",
       "4           0.042783               NaN           0.007878   \n",
       "\n",
       "   XNSE/RELIANCE/CLOSE  XNSE/INFY/CLOSE  XNSE/MANAPPURAM/CLOSE  \\\n",
       "0                  NaN              NaN                    NaN   \n",
       "1            -0.021457         0.010921              -0.053583   \n",
       "2             0.006431         0.050736               0.006139   \n",
       "3            -0.007095         0.002302              -0.019661   \n",
       "4             0.011200        -0.007298               0.059474   \n",
       "\n",
       "   XNSE/ICICIBANK/CLOSE  XNSE/HDFCAMC/CLOSE  XNSE/SYNGENE/CLOSE  \\\n",
       "0                   NaN                 NaN                 NaN   \n",
       "1             -0.021325                 NaN           -0.001326   \n",
       "2              0.003085                 NaN            0.018974   \n",
       "3             -0.018454                 NaN            0.039661   \n",
       "4              0.000588                 NaN            0.028477   \n",
       "\n",
       "   XNSE/TITAN/CLOSE  \n",
       "0               NaN  \n",
       "1         -0.015840  \n",
       "2          0.027963  \n",
       "3         -0.030365  \n",
       "4          0.023813  "
      ]
     },
     "execution_count": 19,
     "metadata": {},
     "output_type": "execute_result"
    }
   ],
   "source": [
    "daily_return = df2.pct_change()\n",
    "daily_return.head()"
   ]
  },
  {
   "cell_type": "code",
   "execution_count": 20,
   "metadata": {},
   "outputs": [
    {
     "data": {
      "text/plain": [
       "XNSE/BIOCON/CLOSE        1.346883\n",
       "XNSE/DMART/CLOSE         1.403753\n",
       "XNSE/COLPAL/CLOSE        0.555850\n",
       "XNSE/RELIANCE/CLOSE      1.727489\n",
       "XNSE/INFY/CLOSE          1.047547\n",
       "XNSE/MANAPPURAM/CLOSE    1.184225\n",
       "XNSE/ICICIBANK/CLOSE     0.641098\n",
       "XNSE/HDFCAMC/CLOSE       0.373433\n",
       "XNSE/SYNGENE/CLOSE       0.927490\n",
       "XNSE/TITAN/CLOSE         1.527298\n",
       "dtype: float64"
      ]
     },
     "execution_count": 20,
     "metadata": {},
     "output_type": "execute_result"
    }
   ],
   "source": [
    "daily_return.sum()"
   ]
  },
  {
   "cell_type": "code",
   "execution_count": 21,
   "metadata": {},
   "outputs": [
    {
     "data": {
      "text/plain": [
       "XNSE/BIOCON/CLOSE        0.001348\n",
       "XNSE/DMART/CLOSE         0.001536\n",
       "XNSE/COLPAL/CLOSE        0.000556\n",
       "XNSE/RELIANCE/CLOSE      0.001729\n",
       "XNSE/INFY/CLOSE          0.001049\n",
       "XNSE/MANAPPURAM/CLOSE    0.001185\n",
       "XNSE/ICICIBANK/CLOSE     0.000642\n",
       "XNSE/HDFCAMC/CLOSE       0.000673\n",
       "XNSE/SYNGENE/CLOSE       0.000928\n",
       "XNSE/TITAN/CLOSE         0.001529\n",
       "dtype: float64"
      ]
     },
     "execution_count": 21,
     "metadata": {},
     "output_type": "execute_result"
    }
   ],
   "source": [
    "# mean of daily return\n",
    "daily_return.mean()"
   ]
  },
  {
   "cell_type": "markdown",
   "metadata": {},
   "source": [
    "# Standard deviation in % formate"
   ]
  },
  {
   "cell_type": "code",
   "execution_count": 22,
   "metadata": {},
   "outputs": [
    {
     "data": {
      "text/plain": [
       "XNSE/BIOCON/CLOSE        2.226378\n",
       "XNSE/DMART/CLOSE         2.170728\n",
       "XNSE/COLPAL/CLOSE        1.398917\n",
       "XNSE/RELIANCE/CLOSE      1.991660\n",
       "XNSE/INFY/CLOSE          1.805417\n",
       "XNSE/MANAPPURAM/CLOSE    2.882227\n",
       "XNSE/ICICIBANK/CLOSE     2.238159\n",
       "XNSE/HDFCAMC/CLOSE       2.290779\n",
       "XNSE/SYNGENE/CLOSE       1.861799\n",
       "XNSE/TITAN/CLOSE         2.172252\n",
       "dtype: float64"
      ]
     },
     "execution_count": 22,
     "metadata": {},
     "output_type": "execute_result"
    }
   ],
   "source": [
    "daily_return.std()*100"
   ]
  },
  {
   "cell_type": "code",
   "execution_count": null,
   "metadata": {},
   "outputs": [],
   "source": []
  },
  {
   "cell_type": "code",
   "execution_count": 23,
   "metadata": {},
   "outputs": [
    {
     "data": {
      "image/png": "[encoded data removed]",
      "text/plain": [
       "<Figure size 864x576 with 1 Axes>"
      ]
     },
     "metadata": {},
     "output_type": "display_data"
    }
   ],
   "source": [
    "plt.figure(figsize=(12,8))\n",
    "(daily_return.std()*100)[:10].plot(kind = \"pie\")\n",
    "plt.title(\"Stock return price in %\", size = 18)\n",
    "plt.show()"
   ]
  },
  {
   "cell_type": "code",
   "execution_count": 24,
   "metadata": {},
   "outputs": [
    {
     "data": {
      "text/plain": [
       "<Figure size 432x288 with 0 Axes>"
      ]
     },
     "metadata": {},
     "output_type": "display_data"
    },
    {
     "data": {
      "image/png": "[encoded data removed]",
      "text/plain": [
       "<Figure size 936x576 with 1 Axes>"
      ]
     },
     "metadata": {
      "needs_background": "light"
     },
     "output_type": "display_data"
    }
   ],
   "source": [
    "plt.figure()\n",
    "daily_return[['XNSE/BIOCON/CLOSE','XNSE/DMART/CLOSE','XNSE/COLPAL/CLOSE','XNSE/RELIANCE/CLOSE','XNSE/INFY/CLOSE']].plot(figsize = (13, 8))\n",
    "plt.ylabel(\"Daily return of all stock\",size = 20)\n",
    "plt.xlabel(\"Day\", size = 20)\n",
    "plt.title(\"Daily stock return\", size =25)\n",
    "plt.show()"
   ]
  },
  {
   "cell_type": "code",
   "execution_count": 25,
   "metadata": {},
   "outputs": [
    {
     "data": {
      "text/plain": [
       "<Figure size 432x288 with 0 Axes>"
      ]
     },
     "metadata": {},
     "output_type": "display_data"
    },
    {
     "data": {
      "image/png": "[encoded data removed]",
      "text/plain": [
       "<Figure size 936x576 with 1 Axes>"
      ]
     },
     "metadata": {
      "needs_background": "light"
     },
     "output_type": "display_data"
    }
   ],
   "source": [
    "plt.figure()\n",
    "daily_return[['XNSE/MANAPPURAM/CLOSE','XNSE/ICICIBANK/CLOSE','XNSE/HDFCAMC/CLOSE','XNSE/SYNGENE/CLOSE','XNSE/TITAN/CLOSE']].plot(figsize = (13, 8))\n",
    "plt.ylabel(\"Daily return of all stock\",size = 20)\n",
    "plt.xlabel(\"Day\", size = 20)\n",
    "plt.title(\"Daily stock return\",size = 25)\n",
    "plt.show()"
   ]
  },
  {
   "cell_type": "code",
   "execution_count": 26,
   "metadata": {
    "scrolled": true
   },
   "outputs": [
    {
     "data": {
      "text/plain": [
       "XNSE/BIOCON/CLOSE       -0.021931\n",
       "XNSE/DMART/CLOSE        -0.022731\n",
       "XNSE/COLPAL/CLOSE       -0.014435\n",
       "XNSE/RELIANCE/CLOSE     -0.018163\n",
       "XNSE/INFY/CLOSE         -0.016519\n",
       "XNSE/MANAPPURAM/CLOSE   -0.028666\n",
       "XNSE/ICICIBANK/CLOSE    -0.020992\n",
       "XNSE/HDFCAMC/CLOSE      -0.024571\n",
       "XNSE/SYNGENE/CLOSE      -0.019430\n",
       "XNSE/TITAN/CLOSE        -0.019323\n",
       "Name: 0.1, dtype: float64"
      ]
     },
     "execution_count": 26,
     "metadata": {},
     "output_type": "execute_result"
    }
   ],
   "source": [
    "\n",
    "\n",
    "var_90 = daily_return.quantile(0.1)\n",
    "var_95 = daily_return.quantile(1-0.95)\n",
    "var_99 = daily_return.quantile(1-0.99)\n",
    "\n",
    "var_90\n"
   ]
  },
  {
   "cell_type": "code",
   "execution_count": 27,
   "metadata": {},
   "outputs": [
    {
     "data": {
      "text/plain": [
       "XNSE/BIOCON/CLOSE       -0.032465\n",
       "XNSE/DMART/CLOSE        -0.033395\n",
       "XNSE/COLPAL/CLOSE       -0.019395\n",
       "XNSE/RELIANCE/CLOSE     -0.024405\n",
       "XNSE/INFY/CLOSE         -0.023361\n",
       "XNSE/MANAPPURAM/CLOSE   -0.039805\n",
       "XNSE/ICICIBANK/CLOSE    -0.029094\n",
       "XNSE/HDFCAMC/CLOSE      -0.033839\n",
       "XNSE/SYNGENE/CLOSE      -0.026183\n",
       "XNSE/TITAN/CLOSE        -0.027928\n",
       "Name: 0.050000000000000044, dtype: float64"
      ]
     },
     "execution_count": 27,
     "metadata": {},
     "output_type": "execute_result"
    }
   ],
   "source": [
    "var_95"
   ]
  },
  {
   "cell_type": "code",
   "execution_count": 28,
   "metadata": {},
   "outputs": [
    {
     "data": {
      "text/plain": [
       "XNSE/BIOCON/CLOSE       -0.055673\n",
       "XNSE/DMART/CLOSE        -0.050546\n",
       "XNSE/COLPAL/CLOSE       -0.030066\n",
       "XNSE/RELIANCE/CLOSE     -0.041557\n",
       "XNSE/INFY/CLOSE         -0.050524\n",
       "XNSE/MANAPPURAM/CLOSE   -0.071917\n",
       "XNSE/ICICIBANK/CLOSE    -0.061298\n",
       "XNSE/HDFCAMC/CLOSE      -0.061595\n",
       "XNSE/SYNGENE/CLOSE      -0.041129\n",
       "XNSE/TITAN/CLOSE        -0.054330\n",
       "Name: 0.010000000000000009, dtype: float64"
      ]
     },
     "execution_count": 28,
     "metadata": {},
     "output_type": "execute_result"
    }
   ],
   "source": [
    "var_99"
   ]
  },
  {
   "cell_type": "code",
   "execution_count": 29,
   "metadata": {},
   "outputs": [
    {
     "data": {
      "text/html": [
       "<div>\n",
       "<style scoped>\n",
       "    .dataframe tbody tr th:only-of-type {\n",
       "        vertical-align: middle;\n",
       "    }\n",
       "\n",
       "    .dataframe tbody tr th {\n",
       "        vertical-align: top;\n",
       "    }\n",
       "\n",
       "    .dataframe thead th {\n",
       "        text-align: right;\n",
       "    }\n",
       "</style>\n",
       "<table border=\"1\" class=\"dataframe\">\n",
       "  <thead>\n",
       "    <tr style=\"text-align: right;\">\n",
       "      <th></th>\n",
       "      <th>VAR_90</th>\n",
       "      <th>VAR_95</th>\n",
       "      <th>VAR_99</th>\n",
       "    </tr>\n",
       "  </thead>\n",
       "  <tbody>\n",
       "    <tr>\n",
       "      <th>XNSE/BIOCON/CLOSE</th>\n",
       "      <td>-0.021931</td>\n",
       "      <td>-0.032465</td>\n",
       "      <td>-0.055673</td>\n",
       "    </tr>\n",
       "    <tr>\n",
       "      <th>XNSE/DMART/CLOSE</th>\n",
       "      <td>-0.022731</td>\n",
       "      <td>-0.033395</td>\n",
       "      <td>-0.050546</td>\n",
       "    </tr>\n",
       "    <tr>\n",
       "      <th>XNSE/COLPAL/CLOSE</th>\n",
       "      <td>-0.014435</td>\n",
       "      <td>-0.019395</td>\n",
       "      <td>-0.030066</td>\n",
       "    </tr>\n",
       "    <tr>\n",
       "      <th>XNSE/RELIANCE/CLOSE</th>\n",
       "      <td>-0.018163</td>\n",
       "      <td>-0.024405</td>\n",
       "      <td>-0.041557</td>\n",
       "    </tr>\n",
       "    <tr>\n",
       "      <th>XNSE/INFY/CLOSE</th>\n",
       "      <td>-0.016519</td>\n",
       "      <td>-0.023361</td>\n",
       "      <td>-0.050524</td>\n",
       "    </tr>\n",
       "    <tr>\n",
       "      <th>XNSE/MANAPPURAM/CLOSE</th>\n",
       "      <td>-0.028666</td>\n",
       "      <td>-0.039805</td>\n",
       "      <td>-0.071917</td>\n",
       "    </tr>\n",
       "    <tr>\n",
       "      <th>XNSE/ICICIBANK/CLOSE</th>\n",
       "      <td>-0.020992</td>\n",
       "      <td>-0.029094</td>\n",
       "      <td>-0.061298</td>\n",
       "    </tr>\n",
       "    <tr>\n",
       "      <th>XNSE/HDFCAMC/CLOSE</th>\n",
       "      <td>-0.024571</td>\n",
       "      <td>-0.033839</td>\n",
       "      <td>-0.061595</td>\n",
       "    </tr>\n",
       "    <tr>\n",
       "      <th>XNSE/SYNGENE/CLOSE</th>\n",
       "      <td>-0.019430</td>\n",
       "      <td>-0.026183</td>\n",
       "      <td>-0.041129</td>\n",
       "    </tr>\n",
       "    <tr>\n",
       "      <th>XNSE/TITAN/CLOSE</th>\n",
       "      <td>-0.019323</td>\n",
       "      <td>-0.027928</td>\n",
       "      <td>-0.054330</td>\n",
       "    </tr>\n",
       "  </tbody>\n",
       "</table>\n",
       "</div>"
      ],
      "text/plain": [
       "                         VAR_90    VAR_95    VAR_99\n",
       "XNSE/BIOCON/CLOSE     -0.021931 -0.032465 -0.055673\n",
       "XNSE/DMART/CLOSE      -0.022731 -0.033395 -0.050546\n",
       "XNSE/COLPAL/CLOSE     -0.014435 -0.019395 -0.030066\n",
       "XNSE/RELIANCE/CLOSE   -0.018163 -0.024405 -0.041557\n",
       "XNSE/INFY/CLOSE       -0.016519 -0.023361 -0.050524\n",
       "XNSE/MANAPPURAM/CLOSE -0.028666 -0.039805 -0.071917\n",
       "XNSE/ICICIBANK/CLOSE  -0.020992 -0.029094 -0.061298\n",
       "XNSE/HDFCAMC/CLOSE    -0.024571 -0.033839 -0.061595\n",
       "XNSE/SYNGENE/CLOSE    -0.019430 -0.026183 -0.041129\n",
       "XNSE/TITAN/CLOSE      -0.019323 -0.027928 -0.054330"
      ]
     },
     "execution_count": 29,
     "metadata": {},
     "output_type": "execute_result"
    }
   ],
   "source": [
    "var = pd.DataFrame({\"VAR_90\":var_90, \"VAR_95\":var_95, \"VAR_99\": var_99})\n",
    "var"
   ]
  },
  {
   "cell_type": "code",
   "execution_count": null,
   "metadata": {},
   "outputs": [],
   "source": []
  },
  {
   "cell_type": "code",
   "execution_count": 30,
   "metadata": {},
   "outputs": [],
   "source": [
    "stocks = df2[['XNSE/BIOCON/CLOSE', 'XNSE/DMART/CLOSE', 'XNSE/COLPAL/CLOSE',\n",
    "       'XNSE/RELIANCE/CLOSE', 'XNSE/INFY/CLOSE','XNSE/MANAPPURAM/CLOSE',\n",
    "       'XNSE/ICICIBANK/CLOSE','XNSE/SYNGENE/CLOSE','XNSE/TITAN/CLOSE']]\n",
    "return_stock = stocks.pct_change()"
   ]
  },
  {
   "cell_type": "code",
   "execution_count": 31,
   "metadata": {},
   "outputs": [],
   "source": [
    "\n",
    "return_stock.dropna(inplace=True)"
   ]
  },
  {
   "cell_type": "code",
   "execution_count": 32,
   "metadata": {},
   "outputs": [
    {
     "data": {
      "text/plain": [
       "(914, 9)"
      ]
     },
     "execution_count": 32,
     "metadata": {},
     "output_type": "execute_result"
    }
   ],
   "source": [
    "return_stock.shape"
   ]
  },
  {
   "cell_type": "code",
   "execution_count": 33,
   "metadata": {},
   "outputs": [
    {
     "data": {
      "text/html": [
       "<div>\n",
       "<style scoped>\n",
       "    .dataframe tbody tr th:only-of-type {\n",
       "        vertical-align: middle;\n",
       "    }\n",
       "\n",
       "    .dataframe tbody tr th {\n",
       "        vertical-align: top;\n",
       "    }\n",
       "\n",
       "    .dataframe thead th {\n",
       "        text-align: right;\n",
       "    }\n",
       "</style>\n",
       "<table border=\"1\" class=\"dataframe\">\n",
       "  <thead>\n",
       "    <tr style=\"text-align: right;\">\n",
       "      <th></th>\n",
       "      <th>XNSE/BIOCON/CLOSE</th>\n",
       "      <th>XNSE/DMART/CLOSE</th>\n",
       "      <th>XNSE/COLPAL/CLOSE</th>\n",
       "      <th>XNSE/RELIANCE/CLOSE</th>\n",
       "      <th>XNSE/INFY/CLOSE</th>\n",
       "      <th>XNSE/MANAPPURAM/CLOSE</th>\n",
       "      <th>XNSE/ICICIBANK/CLOSE</th>\n",
       "      <th>XNSE/SYNGENE/CLOSE</th>\n",
       "      <th>XNSE/TITAN/CLOSE</th>\n",
       "    </tr>\n",
       "  </thead>\n",
       "  <tbody>\n",
       "    <tr>\n",
       "      <th>86</th>\n",
       "      <td>-0.005726</td>\n",
       "      <td>-0.005794</td>\n",
       "      <td>0.001479</td>\n",
       "      <td>0.010796</td>\n",
       "      <td>0.012406</td>\n",
       "      <td>0.055869</td>\n",
       "      <td>0.007358</td>\n",
       "      <td>0.000000</td>\n",
       "      <td>0.014021</td>\n",
       "    </tr>\n",
       "    <tr>\n",
       "      <th>87</th>\n",
       "      <td>0.012493</td>\n",
       "      <td>-0.028274</td>\n",
       "      <td>-0.001732</td>\n",
       "      <td>0.010563</td>\n",
       "      <td>-0.008698</td>\n",
       "      <td>0.034741</td>\n",
       "      <td>0.029219</td>\n",
       "      <td>-0.006370</td>\n",
       "      <td>-0.008960</td>\n",
       "    </tr>\n",
       "    <tr>\n",
       "      <th>88</th>\n",
       "      <td>-0.008970</td>\n",
       "      <td>-0.004053</td>\n",
       "      <td>0.003266</td>\n",
       "      <td>-0.027705</td>\n",
       "      <td>-0.002472</td>\n",
       "      <td>0.019112</td>\n",
       "      <td>-0.005823</td>\n",
       "      <td>0.023443</td>\n",
       "      <td>0.000000</td>\n",
       "    </tr>\n",
       "    <tr>\n",
       "      <th>89</th>\n",
       "      <td>0.006888</td>\n",
       "      <td>0.023438</td>\n",
       "      <td>0.004526</td>\n",
       "      <td>-0.004276</td>\n",
       "      <td>0.006123</td>\n",
       "      <td>0.029397</td>\n",
       "      <td>0.014095</td>\n",
       "      <td>-0.015894</td>\n",
       "      <td>0.012725</td>\n",
       "    </tr>\n",
       "    <tr>\n",
       "      <th>90</th>\n",
       "      <td>0.008945</td>\n",
       "      <td>-0.000875</td>\n",
       "      <td>0.003696</td>\n",
       "      <td>0.008750</td>\n",
       "      <td>-0.003188</td>\n",
       "      <td>-0.025603</td>\n",
       "      <td>0.018773</td>\n",
       "      <td>-0.003135</td>\n",
       "      <td>0.002976</td>\n",
       "    </tr>\n",
       "  </tbody>\n",
       "</table>\n",
       "</div>"
      ],
      "text/plain": [
       "    XNSE/BIOCON/CLOSE  XNSE/DMART/CLOSE  XNSE/COLPAL/CLOSE  \\\n",
       "86          -0.005726         -0.005794           0.001479   \n",
       "87           0.012493         -0.028274          -0.001732   \n",
       "88          -0.008970         -0.004053           0.003266   \n",
       "89           0.006888          0.023438           0.004526   \n",
       "90           0.008945         -0.000875           0.003696   \n",
       "\n",
       "    XNSE/RELIANCE/CLOSE  XNSE/INFY/CLOSE  XNSE/MANAPPURAM/CLOSE  \\\n",
       "86             0.010796         0.012406               0.055869   \n",
       "87             0.010563        -0.008698               0.034741   \n",
       "88            -0.027705        -0.002472               0.019112   \n",
       "89            -0.004276         0.006123               0.029397   \n",
       "90             0.008750        -0.003188              -0.025603   \n",
       "\n",
       "    XNSE/ICICIBANK/CLOSE  XNSE/SYNGENE/CLOSE  XNSE/TITAN/CLOSE  \n",
       "86              0.007358            0.000000          0.014021  \n",
       "87              0.029219           -0.006370         -0.008960  \n",
       "88             -0.005823            0.023443          0.000000  \n",
       "89              0.014095           -0.015894          0.012725  \n",
       "90              0.018773           -0.003135          0.002976  "
      ]
     },
     "execution_count": 33,
     "metadata": {},
     "output_type": "execute_result"
    }
   ],
   "source": [
    "return_stock.head()"
   ]
  },
  {
   "cell_type": "code",
   "execution_count": 34,
   "metadata": {},
   "outputs": [
    {
     "data": {
      "text/html": [
       "<div>\n",
       "<style scoped>\n",
       "    .dataframe tbody tr th:only-of-type {\n",
       "        vertical-align: middle;\n",
       "    }\n",
       "\n",
       "    .dataframe tbody tr th {\n",
       "        vertical-align: top;\n",
       "    }\n",
       "\n",
       "    .dataframe thead th {\n",
       "        text-align: right;\n",
       "    }\n",
       "</style>\n",
       "<table border=\"1\" class=\"dataframe\">\n",
       "  <thead>\n",
       "    <tr style=\"text-align: right;\">\n",
       "      <th></th>\n",
       "      <th>Date</th>\n",
       "      <th>Open</th>\n",
       "      <th>High</th>\n",
       "      <th>Low</th>\n",
       "      <th>Close</th>\n",
       "      <th>Adj Close</th>\n",
       "      <th>Volume</th>\n",
       "    </tr>\n",
       "  </thead>\n",
       "  <tbody>\n",
       "    <tr>\n",
       "      <th>0</th>\n",
       "      <td>2016-09-01</td>\n",
       "      <td>8793.599609</td>\n",
       "      <td>8813.250000</td>\n",
       "      <td>8759.950195</td>\n",
       "      <td>8774.650391</td>\n",
       "      <td>8774.650391</td>\n",
       "      <td>238900.0</td>\n",
       "    </tr>\n",
       "    <tr>\n",
       "      <th>1</th>\n",
       "      <td>2016-09-02</td>\n",
       "      <td>8796.349609</td>\n",
       "      <td>8824.099609</td>\n",
       "      <td>8768.200195</td>\n",
       "      <td>8809.650391</td>\n",
       "      <td>8809.650391</td>\n",
       "      <td>191500.0</td>\n",
       "    </tr>\n",
       "    <tr>\n",
       "      <th>2</th>\n",
       "      <td>2016-09-06</td>\n",
       "      <td>8852.700195</td>\n",
       "      <td>8950.849609</td>\n",
       "      <td>8848.450195</td>\n",
       "      <td>8943.000000</td>\n",
       "      <td>8943.000000</td>\n",
       "      <td>195600.0</td>\n",
       "    </tr>\n",
       "    <tr>\n",
       "      <th>3</th>\n",
       "      <td>2016-09-07</td>\n",
       "      <td>8968.700195</td>\n",
       "      <td>8968.700195</td>\n",
       "      <td>8913.349609</td>\n",
       "      <td>8917.950195</td>\n",
       "      <td>8917.950195</td>\n",
       "      <td>290100.0</td>\n",
       "    </tr>\n",
       "    <tr>\n",
       "      <th>4</th>\n",
       "      <td>2016-09-08</td>\n",
       "      <td>8915.500000</td>\n",
       "      <td>8960.349609</td>\n",
       "      <td>8896.000000</td>\n",
       "      <td>8952.500000</td>\n",
       "      <td>8952.500000</td>\n",
       "      <td>217200.0</td>\n",
       "    </tr>\n",
       "    <tr>\n",
       "      <th>...</th>\n",
       "      <td>...</td>\n",
       "      <td>...</td>\n",
       "      <td>...</td>\n",
       "      <td>...</td>\n",
       "      <td>...</td>\n",
       "      <td>...</td>\n",
       "      <td>...</td>\n",
       "    </tr>\n",
       "    <tr>\n",
       "      <th>995</th>\n",
       "      <td>2020-09-16</td>\n",
       "      <td>11538.450195</td>\n",
       "      <td>11618.099609</td>\n",
       "      <td>11516.750000</td>\n",
       "      <td>11604.549805</td>\n",
       "      <td>11604.549805</td>\n",
       "      <td>527800.0</td>\n",
       "    </tr>\n",
       "    <tr>\n",
       "      <th>996</th>\n",
       "      <td>2020-09-17</td>\n",
       "      <td>11539.400391</td>\n",
       "      <td>11587.200195</td>\n",
       "      <td>11498.500000</td>\n",
       "      <td>11516.099609</td>\n",
       "      <td>11516.099609</td>\n",
       "      <td>0.0</td>\n",
       "    </tr>\n",
       "    <tr>\n",
       "      <th>997</th>\n",
       "      <td>2020-09-18</td>\n",
       "      <td>11584.099609</td>\n",
       "      <td>11584.099609</td>\n",
       "      <td>11446.099609</td>\n",
       "      <td>11504.950195</td>\n",
       "      <td>11504.950195</td>\n",
       "      <td>764200.0</td>\n",
       "    </tr>\n",
       "    <tr>\n",
       "      <th>998</th>\n",
       "      <td>2020-09-21</td>\n",
       "      <td>11503.799805</td>\n",
       "      <td>11535.250000</td>\n",
       "      <td>11218.500000</td>\n",
       "      <td>11250.549805</td>\n",
       "      <td>11250.549805</td>\n",
       "      <td>602900.0</td>\n",
       "    </tr>\n",
       "    <tr>\n",
       "      <th>999</th>\n",
       "      <td>2020-09-22</td>\n",
       "      <td>11301.750000</td>\n",
       "      <td>11302.200195</td>\n",
       "      <td>11084.650391</td>\n",
       "      <td>11153.650391</td>\n",
       "      <td>11153.650391</td>\n",
       "      <td>672200.0</td>\n",
       "    </tr>\n",
       "  </tbody>\n",
       "</table>\n",
       "<p>1000 rows × 7 columns</p>\n",
       "</div>"
      ],
      "text/plain": [
       "           Date          Open          High           Low         Close  \\\n",
       "0    2016-09-01   8793.599609   8813.250000   8759.950195   8774.650391   \n",
       "1    2016-09-02   8796.349609   8824.099609   8768.200195   8809.650391   \n",
       "2    2016-09-06   8852.700195   8950.849609   8848.450195   8943.000000   \n",
       "3    2016-09-07   8968.700195   8968.700195   8913.349609   8917.950195   \n",
       "4    2016-09-08   8915.500000   8960.349609   8896.000000   8952.500000   \n",
       "..          ...           ...           ...           ...           ...   \n",
       "995  2020-09-16  11538.450195  11618.099609  11516.750000  11604.549805   \n",
       "996  2020-09-17  11539.400391  11587.200195  11498.500000  11516.099609   \n",
       "997  2020-09-18  11584.099609  11584.099609  11446.099609  11504.950195   \n",
       "998  2020-09-21  11503.799805  11535.250000  11218.500000  11250.549805   \n",
       "999  2020-09-22  11301.750000  11302.200195  11084.650391  11153.650391   \n",
       "\n",
       "        Adj Close    Volume  \n",
       "0     8774.650391  238900.0  \n",
       "1     8809.650391  191500.0  \n",
       "2     8943.000000  195600.0  \n",
       "3     8917.950195  290100.0  \n",
       "4     8952.500000  217200.0  \n",
       "..            ...       ...  \n",
       "995  11604.549805  527800.0  \n",
       "996  11516.099609       0.0  \n",
       "997  11504.950195  764200.0  \n",
       "998  11250.549805  602900.0  \n",
       "999  11153.650391  672200.0  \n",
       "\n",
       "[1000 rows x 7 columns]"
      ]
     },
     "execution_count": 34,
     "metadata": {},
     "output_type": "execute_result"
    }
   ],
   "source": [
    "#from pandas_datareader import data as pdr\n",
    "\n",
    "nifty_return = pd.read_csv(\"^NSEI.csv\")\n",
    "#nifty_return =market_return\n",
    "# [963:984]\n",
    "nifty_return"
   ]
  },
  {
   "cell_type": "code",
   "execution_count": 35,
   "metadata": {},
   "outputs": [],
   "source": [
    "nifty_return = nifty_return[\"Close\"].pct_change()"
   ]
  },
  {
   "cell_type": "code",
   "execution_count": 36,
   "metadata": {},
   "outputs": [
    {
     "data": {
      "text/plain": [
       "(914,)"
      ]
     },
     "execution_count": 36,
     "metadata": {},
     "output_type": "execute_result"
    }
   ],
   "source": [
    "nifty_return.dropna(inplace=True)\n",
    "nifty_return = nifty_return[85:]\n",
    "nifty_return.shape"
   ]
  },
  {
   "cell_type": "code",
   "execution_count": 37,
   "metadata": {},
   "outputs": [
    {
     "data": {
      "text/plain": [
       "(914,)"
      ]
     },
     "execution_count": 37,
     "metadata": {},
     "output_type": "execute_result"
    }
   ],
   "source": [
    "nifty_return.dropna(inplace=True)\n",
    "nifty_return.shape"
   ]
  },
  {
   "cell_type": "code",
   "execution_count": 38,
   "metadata": {},
   "outputs": [
    {
     "data": {
      "text/html": [
       "<table class=\"simpletable\">\n",
       "<caption>OLS Regression Results</caption>\n",
       "<tr>\n",
       "  <th>Dep. Variable:</th>            <td>y</td>        <th>  R-squared:         </th> <td>   0.070</td>\n",
       "</tr>\n",
       "<tr>\n",
       "  <th>Model:</th>                   <td>OLS</td>       <th>  Adj. R-squared:    </th> <td>   0.061</td>\n",
       "</tr>\n",
       "<tr>\n",
       "  <th>Method:</th>             <td>Least Squares</td>  <th>  F-statistic:       </th> <td>   7.603</td>\n",
       "</tr>\n",
       "<tr>\n",
       "  <th>Date:</th>             <td>Sun, 11 Oct 2020</td> <th>  Prob (F-statistic):</th> <td>8.38e-11</td>\n",
       "</tr>\n",
       "<tr>\n",
       "  <th>Time:</th>                 <td>16:46:30</td>     <th>  Log-Likelihood:    </th> <td>  2776.8</td>\n",
       "</tr>\n",
       "<tr>\n",
       "  <th>No. Observations:</th>      <td>   914</td>      <th>  AIC:               </th> <td>  -5534.</td>\n",
       "</tr>\n",
       "<tr>\n",
       "  <th>Df Residuals:</th>          <td>   904</td>      <th>  BIC:               </th> <td>  -5486.</td>\n",
       "</tr>\n",
       "<tr>\n",
       "  <th>Df Model:</th>              <td>     9</td>      <th>                     </th>     <td> </td>   \n",
       "</tr>\n",
       "<tr>\n",
       "  <th>Covariance Type:</th>      <td>nonrobust</td>    <th>                     </th>     <td> </td>   \n",
       "</tr>\n",
       "</table>\n",
       "<table class=\"simpletable\">\n",
       "<tr>\n",
       "    <td></td>       <th>coef</th>     <th>std err</th>      <th>t</th>      <th>P>|t|</th>  <th>[0.025</th>    <th>0.975]</th>  \n",
       "</tr>\n",
       "<tr>\n",
       "  <th>const</th> <td>    0.0003</td> <td>    0.000</td> <td>    0.654</td> <td> 0.514</td> <td>   -0.001</td> <td>    0.001</td>\n",
       "</tr>\n",
       "<tr>\n",
       "  <th>x1</th>    <td>   -0.0206</td> <td>    0.019</td> <td>   -1.109</td> <td> 0.268</td> <td>   -0.057</td> <td>    0.016</td>\n",
       "</tr>\n",
       "<tr>\n",
       "  <th>x2</th>    <td>   -0.0353</td> <td>    0.019</td> <td>   -1.821</td> <td> 0.069</td> <td>   -0.073</td> <td>    0.003</td>\n",
       "</tr>\n",
       "<tr>\n",
       "  <th>x3</th>    <td>   -0.0252</td> <td>    0.029</td> <td>   -0.876</td> <td> 0.381</td> <td>   -0.082</td> <td>    0.031</td>\n",
       "</tr>\n",
       "<tr>\n",
       "  <th>x4</th>    <td>    0.0125</td> <td>    0.023</td> <td>    0.554</td> <td> 0.580</td> <td>   -0.032</td> <td>    0.057</td>\n",
       "</tr>\n",
       "<tr>\n",
       "  <th>x5</th>    <td>    0.0537</td> <td>    0.022</td> <td>    2.411</td> <td> 0.016</td> <td>    0.010</td> <td>    0.097</td>\n",
       "</tr>\n",
       "<tr>\n",
       "  <th>x6</th>    <td>    0.0360</td> <td>    0.016</td> <td>    2.249</td> <td> 0.025</td> <td>    0.005</td> <td>    0.067</td>\n",
       "</tr>\n",
       "<tr>\n",
       "  <th>x7</th>    <td>    0.0753</td> <td>    0.021</td> <td>    3.656</td> <td> 0.000</td> <td>    0.035</td> <td>    0.116</td>\n",
       "</tr>\n",
       "<tr>\n",
       "  <th>x8</th>    <td>    0.0702</td> <td>    0.023</td> <td>    3.112</td> <td> 0.002</td> <td>    0.026</td> <td>    0.114</td>\n",
       "</tr>\n",
       "<tr>\n",
       "  <th>x9</th>    <td>    0.0041</td> <td>    0.020</td> <td>    0.204</td> <td> 0.838</td> <td>   -0.035</td> <td>    0.043</td>\n",
       "</tr>\n",
       "</table>\n",
       "<table class=\"simpletable\">\n",
       "<tr>\n",
       "  <th>Omnibus:</th>       <td>352.840</td> <th>  Durbin-Watson:     </th> <td>   2.156</td> \n",
       "</tr>\n",
       "<tr>\n",
       "  <th>Prob(Omnibus):</th> <td> 0.000</td>  <th>  Jarque-Bera (JB):  </th> <td>16425.546</td>\n",
       "</tr>\n",
       "<tr>\n",
       "  <th>Skew:</th>          <td>-0.995</td>  <th>  Prob(JB):          </th> <td>    0.00</td> \n",
       "</tr>\n",
       "<tr>\n",
       "  <th>Kurtosis:</th>      <td>23.672</td>  <th>  Cond. No.          </th> <td>    76.1</td> \n",
       "</tr>\n",
       "</table><br/><br/>Warnings:<br/>[1] Standard Errors assume that the covariance matrix of the errors is correctly specified."
      ],
      "text/plain": [
       "<class 'statsmodels.iolib.summary.Summary'>\n",
       "\"\"\"\n",
       "                            OLS Regression Results                            \n",
       "==============================================================================\n",
       "Dep. Variable:                      y   R-squared:                       0.070\n",
       "Model:                            OLS   Adj. R-squared:                  0.061\n",
       "Method:                 Least Squares   F-statistic:                     7.603\n",
       "Date:                Sun, 11 Oct 2020   Prob (F-statistic):           8.38e-11\n",
       "Time:                        16:46:30   Log-Likelihood:                 2776.8\n",
       "No. Observations:                 914   AIC:                            -5534.\n",
       "Df Residuals:                     904   BIC:                            -5486.\n",
       "Df Model:                           9                                         \n",
       "Covariance Type:            nonrobust                                         \n",
       "==============================================================================\n",
       "                 coef    std err          t      P>|t|      [0.025      0.975]\n",
       "------------------------------------------------------------------------------\n",
       "const          0.0003      0.000      0.654      0.514      -0.001       0.001\n",
       "x1            -0.0206      0.019     -1.109      0.268      -0.057       0.016\n",
       "x2            -0.0353      0.019     -1.821      0.069      -0.073       0.003\n",
       "x3            -0.0252      0.029     -0.876      0.381      -0.082       0.031\n",
       "x4             0.0125      0.023      0.554      0.580      -0.032       0.057\n",
       "x5             0.0537      0.022      2.411      0.016       0.010       0.097\n",
       "x6             0.0360      0.016      2.249      0.025       0.005       0.067\n",
       "x7             0.0753      0.021      3.656      0.000       0.035       0.116\n",
       "x8             0.0702      0.023      3.112      0.002       0.026       0.114\n",
       "x9             0.0041      0.020      0.204      0.838      -0.035       0.043\n",
       "==============================================================================\n",
       "Omnibus:                      352.840   Durbin-Watson:                   2.156\n",
       "Prob(Omnibus):                  0.000   Jarque-Bera (JB):            16425.546\n",
       "Skew:                          -0.995   Prob(JB):                         0.00\n",
       "Kurtosis:                      23.672   Cond. No.                         76.1\n",
       "==============================================================================\n",
       "\n",
       "Warnings:\n",
       "[1] Standard Errors assume that the covariance matrix of the errors is correctly specified.\n",
       "\"\"\""
      ]
     },
     "execution_count": 38,
     "metadata": {},
     "output_type": "execute_result"
    }
   ],
   "source": [
    "x1 = return_stock\n",
    "y = nifty_return\n",
    "\n",
    "x1= return_stock.values\n",
    "y= nifty_return.values\n",
    "\n",
    "x = sm.add_constant(x1)\n",
    "results = sm.OLS(y,x).fit()\n",
    "results.summary()"
   ]
  },
  {
   "cell_type": "code",
   "execution_count": 39,
   "metadata": {},
   "outputs": [],
   "source": [
    "from statsmodels import regression"
   ]
  },
  {
   "cell_type": "code",
   "execution_count": 40,
   "metadata": {},
   "outputs": [
    {
     "name": "stdout",
     "output_type": "stream",
     "text": [
      "alpha 0.00037491559138075613\n",
      "beta 0.025292348290063542\n"
     ]
    }
   ],
   "source": [
    "x1 = return_stock[\"XNSE/BIOCON/CLOSE\"] \n",
    "y = nifty_return\n",
    "\n",
    "x1= x1.values\n",
    "y= nifty_return.values\n",
    "\n",
    "x1 = sm.add_constant(x1)\n",
    "results_1 = regression.linear_model.OLS(y,x1).fit()\n",
    "print(\"alpha\",results_1.params[0])\n",
    "print(\"beta\",results_1.params[1])\n"
   ]
  },
  {
   "cell_type": "code",
   "execution_count": 41,
   "metadata": {},
   "outputs": [
    {
     "name": "stdout",
     "output_type": "stream",
     "text": [
      "alpha 0.0003844250376614462\n",
      "beta 0.012829183539503183\n"
     ]
    }
   ],
   "source": [
    "x2 = return_stock[\"XNSE/DMART/CLOSE\"] \n",
    "y = nifty_return\n",
    "\n",
    "x2= x2.values\n",
    "y= nifty_return.values\n",
    "\n",
    "x2 = sm.add_constant(x2)\n",
    "results_2 = regression.linear_model.OLS(y,x2).fit()\n",
    "print(\"alpha\",results_2.params[0])\n",
    "print(\"beta\",results_2.params[1])\n"
   ]
  },
  {
   "cell_type": "code",
   "execution_count": 42,
   "metadata": {},
   "outputs": [
    {
     "name": "stdout",
     "output_type": "stream",
     "text": [
      "alpha 0.00038696101101716695\n",
      "beta 0.032009859023356665\n"
     ]
    }
   ],
   "source": [
    "x3 = return_stock[\"XNSE/COLPAL/CLOSE\"] \n",
    "y = nifty_return\n",
    "\n",
    "x3= x3.values\n",
    "y= nifty_return.values\n",
    "\n",
    "x3 = sm.add_constant(x3)\n",
    "results_3 = regression.linear_model.OLS(y,x3).fit()\n",
    "print(\"alpha\",results_3.params[0])\n",
    "print(\"beta\",results_3.params[1])\n"
   ]
  },
  {
   "cell_type": "code",
   "execution_count": 43,
   "metadata": {},
   "outputs": [
    {
     "name": "stdout",
     "output_type": "stream",
     "text": [
      "alpha 0.0002806260661852622\n",
      "beta 0.07556711822267087\n"
     ]
    }
   ],
   "source": [
    "x4 = return_stock[\"XNSE/RELIANCE/CLOSE\"] \n",
    "y = nifty_return\n",
    "\n",
    "x4= x4.values\n",
    "y= nifty_return.values\n",
    "\n",
    "x4 = sm.add_constant(x4)\n",
    "results_4 = regression.linear_model.OLS(y,x4).fit()\n",
    "print(\"alpha\",results_4.params[0])\n",
    "print(\"beta\",results_4.params[1])\n"
   ]
  },
  {
   "cell_type": "code",
   "execution_count": 44,
   "metadata": {},
   "outputs": [
    {
     "name": "stdout",
     "output_type": "stream",
     "text": [
      "alpha 0.0003106253639596463\n",
      "beta 0.09191516847469797\n"
     ]
    }
   ],
   "source": [
    "x5 = return_stock[\"XNSE/INFY/CLOSE\"] \n",
    "y = nifty_return\n",
    "\n",
    "x5= x5.values\n",
    "y= nifty_return.values\n",
    "\n",
    "x5 = sm.add_constant(x5)\n",
    "results_5 = regression.linear_model.OLS(y,x5).fit()\n",
    "print(\"alpha\",results_5.params[0])\n",
    "print(\"beta\",results_5.params[1])\n"
   ]
  },
  {
   "cell_type": "code",
   "execution_count": 45,
   "metadata": {},
   "outputs": [
    {
     "name": "stdout",
     "output_type": "stream",
     "text": [
      "alpha 0.0003249920844716305\n",
      "beta 0.07149534949510553\n"
     ]
    }
   ],
   "source": [
    "x6 = return_stock[\"XNSE/MANAPPURAM/CLOSE\"] \n",
    "y = nifty_return\n",
    "\n",
    "x6= x6.values\n",
    "y= nifty_return.values\n",
    "\n",
    "x6 = sm.add_constant(x6)\n",
    "results_6 = regression.linear_model.OLS(y,x6).fit()\n",
    "print(\"alpha\",results_6.params[0])\n",
    "print(\"beta\",results_6.params[1])\n"
   ]
  },
  {
   "cell_type": "code",
   "execution_count": 46,
   "metadata": {},
   "outputs": [
    {
     "name": "stdout",
     "output_type": "stream",
     "text": [
      "alpha 0.00033063456935067967\n",
      "beta 0.10658500140186189\n"
     ]
    }
   ],
   "source": [
    "x7 = return_stock[\"XNSE/ICICIBANK/CLOSE\"] \n",
    "y = nifty_return\n",
    "\n",
    "x7= x7.values\n",
    "y= nifty_return.values\n",
    "\n",
    "x7 = sm.add_constant(x7)\n",
    "results_7 = regression.linear_model.OLS(y,x7).fit()\n",
    "print(\"alpha\",results_7.params[0])\n",
    "print(\"beta\",results_7.params[1])\n"
   ]
  },
  {
   "cell_type": "code",
   "execution_count": 47,
   "metadata": {},
   "outputs": [
    {
     "name": "stdout",
     "output_type": "stream",
     "text": [
      "0.0003061827759715614\n",
      "0.09818186720727096\n"
     ]
    }
   ],
   "source": [
    "x8 = return_stock[\"XNSE/SYNGENE/CLOSE\"] \n",
    "y = nifty_return\n",
    "\n",
    "x8= x8.values\n",
    "y= nifty_return.values\n",
    "\n",
    "x8 = sm.add_constant(x8)\n",
    "results_8 = regression.linear_model.OLS(y,x8).fit()\n",
    "print(results_8.params[0])\n",
    "print(results_8.params[1])\n",
    "\n"
   ]
  },
  {
   "cell_type": "code",
   "execution_count": 48,
   "metadata": {},
   "outputs": [
    {
     "name": "stdout",
     "output_type": "stream",
     "text": [
      "alpha 0.00037491559138075613\n",
      "beta 0.025292348290063542\n"
     ]
    }
   ],
   "source": [
    "x9 = return_stock[\"XNSE/BIOCON/CLOSE\"] \n",
    "y = nifty_return\n",
    "\n",
    "x9= x9.values\n",
    "y= nifty_return.values\n",
    "\n",
    "x9 = sm.add_constant(x9)\n",
    "results_9 = regression.linear_model.OLS(y,x9).fit()\n",
    "print(\"alpha\",results_9.params[0])\n",
    "print(\"beta\",results_9.params[1])\n"
   ]
  },
  {
   "cell_type": "code",
   "execution_count": 49,
   "metadata": {},
   "outputs": [
    {
     "data": {
      "text/plain": [
       "0.0040937251282575325"
      ]
     },
     "execution_count": 49,
     "metadata": {},
     "output_type": "execute_result"
    }
   ],
   "source": [
    "results.params[9]"
   ]
  },
  {
   "cell_type": "code",
   "execution_count": 50,
   "metadata": {},
   "outputs": [
    {
     "data": {
      "text/html": [
       "<div>\n",
       "<style scoped>\n",
       "    .dataframe tbody tr th:only-of-type {\n",
       "        vertical-align: middle;\n",
       "    }\n",
       "\n",
       "    .dataframe tbody tr th {\n",
       "        vertical-align: top;\n",
       "    }\n",
       "\n",
       "    .dataframe thead th {\n",
       "        text-align: right;\n",
       "    }\n",
       "</style>\n",
       "<table border=\"1\" class=\"dataframe\">\n",
       "  <thead>\n",
       "    <tr style=\"text-align: right;\">\n",
       "      <th></th>\n",
       "      <th>Stock name</th>\n",
       "      <th>Regression_Alpha</th>\n",
       "      <th>Regression_beta</th>\n",
       "    </tr>\n",
       "  </thead>\n",
       "  <tbody>\n",
       "    <tr>\n",
       "      <th>0</th>\n",
       "      <td>BIOCON</td>\n",
       "      <td>0.000375</td>\n",
       "      <td>0.025292</td>\n",
       "    </tr>\n",
       "    <tr>\n",
       "      <th>1</th>\n",
       "      <td>DMART</td>\n",
       "      <td>0.000384</td>\n",
       "      <td>0.012829</td>\n",
       "    </tr>\n",
       "    <tr>\n",
       "      <th>2</th>\n",
       "      <td>COLPAL</td>\n",
       "      <td>0.000387</td>\n",
       "      <td>0.032010</td>\n",
       "    </tr>\n",
       "    <tr>\n",
       "      <th>3</th>\n",
       "      <td>RELIANCE</td>\n",
       "      <td>0.000281</td>\n",
       "      <td>0.075567</td>\n",
       "    </tr>\n",
       "    <tr>\n",
       "      <th>4</th>\n",
       "      <td>INFY</td>\n",
       "      <td>0.000311</td>\n",
       "      <td>0.091915</td>\n",
       "    </tr>\n",
       "    <tr>\n",
       "      <th>5</th>\n",
       "      <td>MANAPPURAM</td>\n",
       "      <td>0.000325</td>\n",
       "      <td>0.071495</td>\n",
       "    </tr>\n",
       "    <tr>\n",
       "      <th>6</th>\n",
       "      <td>ICICIBANK</td>\n",
       "      <td>0.000331</td>\n",
       "      <td>0.106585</td>\n",
       "    </tr>\n",
       "    <tr>\n",
       "      <th>7</th>\n",
       "      <td>SYNCENE</td>\n",
       "      <td>0.000306</td>\n",
       "      <td>0.098182</td>\n",
       "    </tr>\n",
       "    <tr>\n",
       "      <th>8</th>\n",
       "      <td>TITAN</td>\n",
       "      <td>0.000375</td>\n",
       "      <td>0.025292</td>\n",
       "    </tr>\n",
       "  </tbody>\n",
       "</table>\n",
       "</div>"
      ],
      "text/plain": [
       "   Stock name  Regression_Alpha  Regression_beta\n",
       "0      BIOCON          0.000375         0.025292\n",
       "1       DMART          0.000384         0.012829\n",
       "2      COLPAL          0.000387         0.032010\n",
       "3    RELIANCE          0.000281         0.075567\n",
       "4        INFY          0.000311         0.091915\n",
       "5  MANAPPURAM          0.000325         0.071495\n",
       "6   ICICIBANK          0.000331         0.106585\n",
       "7     SYNCENE          0.000306         0.098182\n",
       "8       TITAN          0.000375         0.025292"
      ]
     },
     "execution_count": 50,
     "metadata": {},
     "output_type": "execute_result"
    }
   ],
   "source": [
    "Alpha_beta = pd.DataFrame({\"Stock name\":[\"BIOCON\",\"DMART\",\"COLPAL\",\"RELIANCE\",\"INFY\",\"MANAPPURAM\",\"ICICIBANK\",\"SYNCENE\",\"TITAN\"],\n",
    "                       \"Regression_Alpha\":[results_1.params[0],results_2.params[0],results_3.params[0],results_4.params[0],results_5.params[0],results_6.params[0],results_7.params[0],results_8.params[0],results_9.params[0]],\n",
    "                  \"Regression_beta\":[results_1.params[1],results_2.params[1],results_3.params[1],results_4.params[1],results_5.params[1],results_6.params[1],results_7.params[1],results_8.params[1],results_9.params[1]]})\n",
    "                   \n",
    "Alpha_beta"
   ]
  },
  {
   "cell_type": "markdown",
   "metadata": {},
   "source": [
    "# Calulating the avarge ture Range"
   ]
  },
  {
   "cell_type": "code",
   "execution_count": 51,
   "metadata": {},
   "outputs": [
    {
     "data": {
      "text/html": [
       "<div>\n",
       "<style scoped>\n",
       "    .dataframe tbody tr th:only-of-type {\n",
       "        vertical-align: middle;\n",
       "    }\n",
       "\n",
       "    .dataframe tbody tr th {\n",
       "        vertical-align: top;\n",
       "    }\n",
       "\n",
       "    .dataframe thead th {\n",
       "        text-align: right;\n",
       "    }\n",
       "</style>\n",
       "<table border=\"1\" class=\"dataframe\">\n",
       "  <thead>\n",
       "    <tr style=\"text-align: right;\">\n",
       "      <th></th>\n",
       "      <th>XNSE/BIOCON/OPEN</th>\n",
       "      <th>XNSE/DMART/OPEN</th>\n",
       "      <th>XNSE/COLPAL/OPEN</th>\n",
       "      <th>XNSE/RELIANCE/OPEN</th>\n",
       "      <th>XNSE/INFY/OPEN</th>\n",
       "      <th>XNSE/MANAPPURAM/OPEN</th>\n",
       "      <th>XNSE/ICICIBANK/OPEN</th>\n",
       "      <th>XNSE/HDFCAMC/OPEN</th>\n",
       "      <th>XNSE/SYNGENE/OPEN</th>\n",
       "      <th>XNSE/TITAN/OPEN</th>\n",
       "    </tr>\n",
       "  </thead>\n",
       "  <tbody>\n",
       "    <tr>\n",
       "      <th>0</th>\n",
       "      <td>453.95</td>\n",
       "      <td>2175.00</td>\n",
       "      <td>1376.1</td>\n",
       "      <td>2300.00</td>\n",
       "      <td>1001.0</td>\n",
       "      <td>70.971352</td>\n",
       "      <td>236.581004</td>\n",
       "      <td>NaN</td>\n",
       "      <td>262.960162</td>\n",
       "      <td>303.628352</td>\n",
       "    </tr>\n",
       "    <tr>\n",
       "      <th>1</th>\n",
       "      <td>442.75</td>\n",
       "      <td>2149.90</td>\n",
       "      <td>1407.0</td>\n",
       "      <td>2314.25</td>\n",
       "      <td>1011.0</td>\n",
       "      <td>72.515225</td>\n",
       "      <td>236.312264</td>\n",
       "      <td>NaN</td>\n",
       "      <td>260.125146</td>\n",
       "      <td>305.593584</td>\n",
       "    </tr>\n",
       "    <tr>\n",
       "      <th>2</th>\n",
       "      <td>439.00</td>\n",
       "      <td>2147.00</td>\n",
       "      <td>1415.0</td>\n",
       "      <td>2320.00</td>\n",
       "      <td>995.0</td>\n",
       "      <td>68.772504</td>\n",
       "      <td>235.058142</td>\n",
       "      <td>NaN</td>\n",
       "      <td>263.532139</td>\n",
       "      <td>305.495322</td>\n",
       "    </tr>\n",
       "    <tr>\n",
       "      <th>3</th>\n",
       "      <td>440.05</td>\n",
       "      <td>2152.55</td>\n",
       "      <td>1421.0</td>\n",
       "      <td>2320.00</td>\n",
       "      <td>986.0</td>\n",
       "      <td>68.070743</td>\n",
       "      <td>229.907287</td>\n",
       "      <td>NaN</td>\n",
       "      <td>269.077828</td>\n",
       "      <td>311.440149</td>\n",
       "    </tr>\n",
       "    <tr>\n",
       "      <th>4</th>\n",
       "      <td>430.00</td>\n",
       "      <td>2185.00</td>\n",
       "      <td>1416.6</td>\n",
       "      <td>2311.95</td>\n",
       "      <td>979.5</td>\n",
       "      <td>68.304664</td>\n",
       "      <td>228.877116</td>\n",
       "      <td>NaN</td>\n",
       "      <td>278.527881</td>\n",
       "      <td>300.680504</td>\n",
       "    </tr>\n",
       "  </tbody>\n",
       "</table>\n",
       "</div>"
      ],
      "text/plain": [
       "   XNSE/BIOCON/OPEN  XNSE/DMART/OPEN  XNSE/COLPAL/OPEN  XNSE/RELIANCE/OPEN  \\\n",
       "0            453.95          2175.00            1376.1             2300.00   \n",
       "1            442.75          2149.90            1407.0             2314.25   \n",
       "2            439.00          2147.00            1415.0             2320.00   \n",
       "3            440.05          2152.55            1421.0             2320.00   \n",
       "4            430.00          2185.00            1416.6             2311.95   \n",
       "\n",
       "   XNSE/INFY/OPEN  XNSE/MANAPPURAM/OPEN  XNSE/ICICIBANK/OPEN  \\\n",
       "0          1001.0             70.971352           236.581004   \n",
       "1          1011.0             72.515225           236.312264   \n",
       "2           995.0             68.772504           235.058142   \n",
       "3           986.0             68.070743           229.907287   \n",
       "4           979.5             68.304664           228.877116   \n",
       "\n",
       "   XNSE/HDFCAMC/OPEN  XNSE/SYNGENE/OPEN  XNSE/TITAN/OPEN  \n",
       "0                NaN         262.960162       303.628352  \n",
       "1                NaN         260.125146       305.593584  \n",
       "2                NaN         263.532139       305.495322  \n",
       "3                NaN         269.077828       311.440149  \n",
       "4                NaN         278.527881       300.680504  "
      ]
     },
     "execution_count": 51,
     "metadata": {},
     "output_type": "execute_result"
    }
   ],
   "source": [
    "# open and and close price two data frame\n",
    "\n",
    "df3 = data[['XNSE/BIOCON/OPEN','XNSE/DMART/OPEN','XNSE/COLPAL/OPEN','XNSE/RELIANCE/OPEN','XNSE/INFY/OPEN','XNSE/MANAPPURAM/OPEN','XNSE/ICICIBANK/OPEN','XNSE/HDFCAMC/OPEN','XNSE/SYNGENE/OPEN','XNSE/TITAN/OPEN']]\n",
    "df4 = data[[ 'XNSE/DMART/CLOSE','XNSE/DMART/CLOSE','XNSE/COLPAL/CLOSE','XNSE/RELIANCE/CLOSE','XNSE/INFY/CLOSE','XNSE/MANAPPURAM/CLOSE','XNSE/ICICIBANK/CLOSE','XNSE/HDFCAMC/CLOSE','XNSE/SYNGENE/CLOSE','XNSE/TITAN/CLOSE']]\n",
    "df3.head()\n"
   ]
  },
  {
   "cell_type": "code",
   "execution_count": 52,
   "metadata": {},
   "outputs": [
    {
     "data": {
      "text/html": [
       "<div>\n",
       "<style scoped>\n",
       "    .dataframe tbody tr th:only-of-type {\n",
       "        vertical-align: middle;\n",
       "    }\n",
       "\n",
       "    .dataframe tbody tr th {\n",
       "        vertical-align: top;\n",
       "    }\n",
       "\n",
       "    .dataframe thead th {\n",
       "        text-align: right;\n",
       "    }\n",
       "</style>\n",
       "<table border=\"1\" class=\"dataframe\">\n",
       "  <thead>\n",
       "    <tr style=\"text-align: right;\">\n",
       "      <th></th>\n",
       "      <th>XNSE/DMART/CLOSE</th>\n",
       "      <th>XNSE/DMART/CLOSE</th>\n",
       "      <th>XNSE/COLPAL/CLOSE</th>\n",
       "      <th>XNSE/RELIANCE/CLOSE</th>\n",
       "      <th>XNSE/INFY/CLOSE</th>\n",
       "      <th>XNSE/MANAPPURAM/CLOSE</th>\n",
       "      <th>XNSE/ICICIBANK/CLOSE</th>\n",
       "      <th>XNSE/HDFCAMC/CLOSE</th>\n",
       "      <th>XNSE/SYNGENE/CLOSE</th>\n",
       "      <th>XNSE/TITAN/CLOSE</th>\n",
       "    </tr>\n",
       "  </thead>\n",
       "  <tbody>\n",
       "    <tr>\n",
       "      <th>0</th>\n",
       "      <td>2097.45</td>\n",
       "      <td>2097.45</td>\n",
       "      <td>1367.40</td>\n",
       "      <td>2255.85</td>\n",
       "      <td>1009.90</td>\n",
       "      <td>72.468441</td>\n",
       "      <td>237.342435</td>\n",
       "      <td>NaN</td>\n",
       "      <td>262.487659</td>\n",
       "      <td>307.067508</td>\n",
       "    </tr>\n",
       "    <tr>\n",
       "      <th>1</th>\n",
       "      <td>2149.05</td>\n",
       "      <td>2149.05</td>\n",
       "      <td>1372.65</td>\n",
       "      <td>2305.70</td>\n",
       "      <td>1002.15</td>\n",
       "      <td>68.585368</td>\n",
       "      <td>232.281160</td>\n",
       "      <td>NaN</td>\n",
       "      <td>262.139499</td>\n",
       "      <td>302.203558</td>\n",
       "    </tr>\n",
       "    <tr>\n",
       "      <th>2</th>\n",
       "      <td>2139.05</td>\n",
       "      <td>2139.05</td>\n",
       "      <td>1397.50</td>\n",
       "      <td>2298.75</td>\n",
       "      <td>1011.00</td>\n",
       "      <td>69.006424</td>\n",
       "      <td>232.997800</td>\n",
       "      <td>NaN</td>\n",
       "      <td>267.113211</td>\n",
       "      <td>310.654056</td>\n",
       "    </tr>\n",
       "    <tr>\n",
       "      <th>3</th>\n",
       "      <td>2135.95</td>\n",
       "      <td>2135.95</td>\n",
       "      <td>1420.40</td>\n",
       "      <td>2324.55</td>\n",
       "      <td>1001.75</td>\n",
       "      <td>67.649687</td>\n",
       "      <td>228.697956</td>\n",
       "      <td>NaN</td>\n",
       "      <td>277.707218</td>\n",
       "      <td>301.220942</td>\n",
       "    </tr>\n",
       "    <tr>\n",
       "      <th>4</th>\n",
       "      <td>2136.15</td>\n",
       "      <td>2136.15</td>\n",
       "      <td>1420.15</td>\n",
       "      <td>2318.85</td>\n",
       "      <td>982.45</td>\n",
       "      <td>71.673113</td>\n",
       "      <td>228.832326</td>\n",
       "      <td>NaN</td>\n",
       "      <td>285.615421</td>\n",
       "      <td>308.394039</td>\n",
       "    </tr>\n",
       "  </tbody>\n",
       "</table>\n",
       "</div>"
      ],
      "text/plain": [
       "   XNSE/DMART/CLOSE  XNSE/DMART/CLOSE  XNSE/COLPAL/CLOSE  XNSE/RELIANCE/CLOSE  \\\n",
       "0           2097.45           2097.45            1367.40              2255.85   \n",
       "1           2149.05           2149.05            1372.65              2305.70   \n",
       "2           2139.05           2139.05            1397.50              2298.75   \n",
       "3           2135.95           2135.95            1420.40              2324.55   \n",
       "4           2136.15           2136.15            1420.15              2318.85   \n",
       "\n",
       "   XNSE/INFY/CLOSE  XNSE/MANAPPURAM/CLOSE  XNSE/ICICIBANK/CLOSE  \\\n",
       "0          1009.90              72.468441            237.342435   \n",
       "1          1002.15              68.585368            232.281160   \n",
       "2          1011.00              69.006424            232.997800   \n",
       "3          1001.75              67.649687            228.697956   \n",
       "4           982.45              71.673113            228.832326   \n",
       "\n",
       "   XNSE/HDFCAMC/CLOSE  XNSE/SYNGENE/CLOSE  XNSE/TITAN/CLOSE  \n",
       "0                 NaN          262.487659        307.067508  \n",
       "1                 NaN          262.139499        302.203558  \n",
       "2                 NaN          267.113211        310.654056  \n",
       "3                 NaN          277.707218        301.220942  \n",
       "4                 NaN          285.615421        308.394039  "
      ]
     },
     "execution_count": 52,
     "metadata": {},
     "output_type": "execute_result"
    }
   ],
   "source": [
    "df4.head()"
   ]
  },
  {
   "cell_type": "code",
   "execution_count": 53,
   "metadata": {},
   "outputs": [],
   "source": [
    "df4.fillna(0,inplace=True)\n",
    "df3.fillna(0,inplace=True)"
   ]
  },
  {
   "cell_type": "code",
   "execution_count": 54,
   "metadata": {},
   "outputs": [],
   "source": [
    "# formula for the calculate ATR\n",
    "data=(df4.values+df3.values)/2"
   ]
  },
  {
   "cell_type": "code",
   "execution_count": 55,
   "metadata": {},
   "outputs": [
    {
     "data": {
      "text/html": [
       "<div>\n",
       "<style scoped>\n",
       "    .dataframe tbody tr th:only-of-type {\n",
       "        vertical-align: middle;\n",
       "    }\n",
       "\n",
       "    .dataframe tbody tr th {\n",
       "        vertical-align: top;\n",
       "    }\n",
       "\n",
       "    .dataframe thead th {\n",
       "        text-align: right;\n",
       "    }\n",
       "</style>\n",
       "<table border=\"1\" class=\"dataframe\">\n",
       "  <thead>\n",
       "    <tr style=\"text-align: right;\">\n",
       "      <th></th>\n",
       "      <th>BIOCON</th>\n",
       "      <th>DMART</th>\n",
       "      <th>COLPAL</th>\n",
       "      <th>RELIANCE</th>\n",
       "      <th>INFY</th>\n",
       "      <th>MANAPPURAM</th>\n",
       "      <th>ICICIBANK</th>\n",
       "      <th>HDFCAMC</th>\n",
       "      <th>SYNGENE</th>\n",
       "      <th>TITAN</th>\n",
       "    </tr>\n",
       "  </thead>\n",
       "  <tbody>\n",
       "    <tr>\n",
       "      <th>0</th>\n",
       "      <td>1275.700</td>\n",
       "      <td>2136.225</td>\n",
       "      <td>1371.750</td>\n",
       "      <td>2277.925</td>\n",
       "      <td>1005.450</td>\n",
       "      <td>71.719897</td>\n",
       "      <td>236.961720</td>\n",
       "      <td>0.0</td>\n",
       "      <td>262.723910</td>\n",
       "      <td>305.347930</td>\n",
       "    </tr>\n",
       "    <tr>\n",
       "      <th>1</th>\n",
       "      <td>1295.900</td>\n",
       "      <td>2149.475</td>\n",
       "      <td>1389.825</td>\n",
       "      <td>2309.975</td>\n",
       "      <td>1006.575</td>\n",
       "      <td>70.550297</td>\n",
       "      <td>234.296712</td>\n",
       "      <td>0.0</td>\n",
       "      <td>261.132322</td>\n",
       "      <td>303.898571</td>\n",
       "    </tr>\n",
       "    <tr>\n",
       "      <th>2</th>\n",
       "      <td>1289.025</td>\n",
       "      <td>2143.025</td>\n",
       "      <td>1406.250</td>\n",
       "      <td>2309.375</td>\n",
       "      <td>1003.000</td>\n",
       "      <td>68.889464</td>\n",
       "      <td>234.027971</td>\n",
       "      <td>0.0</td>\n",
       "      <td>265.322675</td>\n",
       "      <td>308.074689</td>\n",
       "    </tr>\n",
       "    <tr>\n",
       "      <th>3</th>\n",
       "      <td>1288.000</td>\n",
       "      <td>2144.250</td>\n",
       "      <td>1420.700</td>\n",
       "      <td>2322.275</td>\n",
       "      <td>993.875</td>\n",
       "      <td>67.860215</td>\n",
       "      <td>229.302621</td>\n",
       "      <td>0.0</td>\n",
       "      <td>273.392523</td>\n",
       "      <td>306.330545</td>\n",
       "    </tr>\n",
       "    <tr>\n",
       "      <th>4</th>\n",
       "      <td>1283.075</td>\n",
       "      <td>2160.575</td>\n",
       "      <td>1418.375</td>\n",
       "      <td>2315.400</td>\n",
       "      <td>980.975</td>\n",
       "      <td>69.988889</td>\n",
       "      <td>228.854721</td>\n",
       "      <td>0.0</td>\n",
       "      <td>282.071651</td>\n",
       "      <td>304.537271</td>\n",
       "    </tr>\n",
       "  </tbody>\n",
       "</table>\n",
       "</div>"
      ],
      "text/plain": [
       "     BIOCON     DMART    COLPAL  RELIANCE      INFY  MANAPPURAM   ICICIBANK  \\\n",
       "0  1275.700  2136.225  1371.750  2277.925  1005.450   71.719897  236.961720   \n",
       "1  1295.900  2149.475  1389.825  2309.975  1006.575   70.550297  234.296712   \n",
       "2  1289.025  2143.025  1406.250  2309.375  1003.000   68.889464  234.027971   \n",
       "3  1288.000  2144.250  1420.700  2322.275   993.875   67.860215  229.302621   \n",
       "4  1283.075  2160.575  1418.375  2315.400   980.975   69.988889  228.854721   \n",
       "\n",
       "   HDFCAMC     SYNGENE       TITAN  \n",
       "0      0.0  262.723910  305.347930  \n",
       "1      0.0  261.132322  303.898571  \n",
       "2      0.0  265.322675  308.074689  \n",
       "3      0.0  273.392523  306.330545  \n",
       "4      0.0  282.071651  304.537271  "
      ]
     },
     "execution_count": 55,
     "metadata": {},
     "output_type": "execute_result"
    }
   ],
   "source": [
    "# This is data frame for open and close divided by two \n",
    "\n",
    "df5=pd.DataFrame(data, columns =(\"BIOCON\",\"DMART\",\"COLPAL\",\"RELIANCE\",\"INFY\",\"MANAPPURAM\",\"ICICIBANK\",\"HDFCAMC\",\"SYNGENE\",\"TITAN\") )\n",
    "df5.head()"
   ]
  },
  {
   "cell_type": "code",
   "execution_count": 56,
   "metadata": {},
   "outputs": [
    {
     "data": {
      "text/plain": [
       "(1000, 10)"
      ]
     },
     "execution_count": 56,
     "metadata": {},
     "output_type": "execute_result"
    }
   ],
   "source": [
    "df5.shape"
   ]
  },
  {
   "cell_type": "code",
   "execution_count": 57,
   "metadata": {},
   "outputs": [
    {
     "data": {
      "text/plain": [
       "BIOCON         828.688678\n",
       "DMART         1386.801350\n",
       "COLPAL        1151.159705\n",
       "RELIANCE      1110.855369\n",
       "INFY           619.429796\n",
       "MANAPPURAM     112.237182\n",
       "ICICIBANK      345.565621\n",
       "HDFCAMC       1209.669973\n",
       "SYNGENE        299.549153\n",
       "TITAN          875.697424\n",
       "dtype: float64"
      ]
     },
     "execution_count": 57,
     "metadata": {},
     "output_type": "execute_result"
    }
   ],
   "source": [
    "# This is the mean of ATR of 1000 observation\n",
    "\n",
    "mean_ATR = df5.mean()\n",
    "mean_ATR"
   ]
  },
  {
   "cell_type": "code",
   "execution_count": 58,
   "metadata": {},
   "outputs": [
    {
     "data": {
      "text/plain": [
       "BIOCON          73.922893\n",
       "DMART            0.000000\n",
       "COLPAL         870.182080\n",
       "RELIANCE       482.137389\n",
       "INFY           435.521536\n",
       "MANAPPURAM     155.638889\n",
       "ICICIBANK      368.836111\n",
       "HDFCAMC       2317.080556\n",
       "SYNGENE        527.655556\n",
       "TITAN         1168.833333\n",
       "dtype: float64"
      ]
     },
     "execution_count": 58,
     "metadata": {},
     "output_type": "execute_result"
    }
   ],
   "source": [
    "ten_day_ATR = df5[991:].mean()\n",
    "ten_day_ATR"
   ]
  },
  {
   "cell_type": "code",
   "execution_count": 59,
   "metadata": {},
   "outputs": [
    {
     "data": {
      "text/plain": [
       "BIOCON          71.813309\n",
       "DMART            0.000000\n",
       "COLPAL         868.412674\n",
       "RELIANCE       482.091930\n",
       "INFY           431.951904\n",
       "MANAPPURAM     160.160000\n",
       "ICICIBANK      367.755000\n",
       "HDFCAMC       2267.120000\n",
       "SYNGENE        560.450000\n",
       "TITAN         1172.050000\n",
       "dtype: float64"
      ]
     },
     "execution_count": 59,
     "metadata": {},
     "output_type": "execute_result"
    }
   ],
   "source": [
    "fifteen_day = df5[995:].mean()\n",
    "fifteen_day "
   ]
  },
  {
   "cell_type": "code",
   "execution_count": 60,
   "metadata": {},
   "outputs": [
    {
     "data": {
      "text/html": [
       "<div>\n",
       "<style scoped>\n",
       "    .dataframe tbody tr th:only-of-type {\n",
       "        vertical-align: middle;\n",
       "    }\n",
       "\n",
       "    .dataframe tbody tr th {\n",
       "        vertical-align: top;\n",
       "    }\n",
       "\n",
       "    .dataframe thead th {\n",
       "        text-align: right;\n",
       "    }\n",
       "</style>\n",
       "<table border=\"1\" class=\"dataframe\">\n",
       "  <thead>\n",
       "    <tr style=\"text-align: right;\">\n",
       "      <th></th>\n",
       "      <th>Mean_ATR</th>\n",
       "      <th>LAST_TEN_ATR</th>\n",
       "      <th>Last_fifteen_ATR</th>\n",
       "    </tr>\n",
       "  </thead>\n",
       "  <tbody>\n",
       "    <tr>\n",
       "      <th>BIOCON</th>\n",
       "      <td>828.688678</td>\n",
       "      <td>73.922893</td>\n",
       "      <td>71.813309</td>\n",
       "    </tr>\n",
       "    <tr>\n",
       "      <th>DMART</th>\n",
       "      <td>1386.801350</td>\n",
       "      <td>0.000000</td>\n",
       "      <td>0.000000</td>\n",
       "    </tr>\n",
       "    <tr>\n",
       "      <th>COLPAL</th>\n",
       "      <td>1151.159705</td>\n",
       "      <td>870.182080</td>\n",
       "      <td>868.412674</td>\n",
       "    </tr>\n",
       "    <tr>\n",
       "      <th>RELIANCE</th>\n",
       "      <td>1110.855369</td>\n",
       "      <td>482.137389</td>\n",
       "      <td>482.091930</td>\n",
       "    </tr>\n",
       "    <tr>\n",
       "      <th>INFY</th>\n",
       "      <td>619.429796</td>\n",
       "      <td>435.521536</td>\n",
       "      <td>431.951904</td>\n",
       "    </tr>\n",
       "    <tr>\n",
       "      <th>MANAPPURAM</th>\n",
       "      <td>112.237182</td>\n",
       "      <td>155.638889</td>\n",
       "      <td>160.160000</td>\n",
       "    </tr>\n",
       "    <tr>\n",
       "      <th>ICICIBANK</th>\n",
       "      <td>345.565621</td>\n",
       "      <td>368.836111</td>\n",
       "      <td>367.755000</td>\n",
       "    </tr>\n",
       "    <tr>\n",
       "      <th>HDFCAMC</th>\n",
       "      <td>1209.669973</td>\n",
       "      <td>2317.080556</td>\n",
       "      <td>2267.120000</td>\n",
       "    </tr>\n",
       "    <tr>\n",
       "      <th>SYNGENE</th>\n",
       "      <td>299.549153</td>\n",
       "      <td>527.655556</td>\n",
       "      <td>560.450000</td>\n",
       "    </tr>\n",
       "    <tr>\n",
       "      <th>TITAN</th>\n",
       "      <td>875.697424</td>\n",
       "      <td>1168.833333</td>\n",
       "      <td>1172.050000</td>\n",
       "    </tr>\n",
       "  </tbody>\n",
       "</table>\n",
       "</div>"
      ],
      "text/plain": [
       "               Mean_ATR  LAST_TEN_ATR  Last_fifteen_ATR\n",
       "BIOCON       828.688678     73.922893         71.813309\n",
       "DMART       1386.801350      0.000000          0.000000\n",
       "COLPAL      1151.159705    870.182080        868.412674\n",
       "RELIANCE    1110.855369    482.137389        482.091930\n",
       "INFY         619.429796    435.521536        431.951904\n",
       "MANAPPURAM   112.237182    155.638889        160.160000\n",
       "ICICIBANK    345.565621    368.836111        367.755000\n",
       "HDFCAMC     1209.669973   2317.080556       2267.120000\n",
       "SYNGENE      299.549153    527.655556        560.450000\n",
       "TITAN        875.697424   1168.833333       1172.050000"
      ]
     },
     "execution_count": 60,
     "metadata": {},
     "output_type": "execute_result"
    }
   ],
   "source": [
    "ATR = pd.DataFrame({\"Mean_ATR\":mean_ATR, \"LAST_TEN_ATR\": ten_day_ATR, \"Last_fifteen_ATR\":fifteen_day})\n",
    "ATR"
   ]
  },
  {
   "cell_type": "code",
   "execution_count": 61,
   "metadata": {},
   "outputs": [
    {
     "data": {
      "text/html": [
       "<div>\n",
       "<style scoped>\n",
       "    .dataframe tbody tr th:only-of-type {\n",
       "        vertical-align: middle;\n",
       "    }\n",
       "\n",
       "    .dataframe tbody tr th {\n",
       "        vertical-align: top;\n",
       "    }\n",
       "\n",
       "    .dataframe thead th {\n",
       "        text-align: right;\n",
       "    }\n",
       "</style>\n",
       "<table border=\"1\" class=\"dataframe\">\n",
       "  <thead>\n",
       "    <tr style=\"text-align: right;\">\n",
       "      <th></th>\n",
       "      <th>DATE</th>\n",
       "      <th>XNSE/BIOCON/OPEN</th>\n",
       "      <th>XNSE/BIOCON/HIGH</th>\n",
       "      <th>XNSE/BIOCON/LOW</th>\n",
       "      <th>XNSE/BIOCON/CLOSE</th>\n",
       "      <th>XNSE/BIOCON/VOLUME</th>\n",
       "      <th>XNSE/BIOCON/ADJUSTMENT FACTOR</th>\n",
       "      <th>XNSE/BIOCON/ADJUSTMENT TYPE</th>\n",
       "      <th>DATE.1</th>\n",
       "      <th>XNSE/DMART/OPEN</th>\n",
       "      <th>...</th>\n",
       "      <th>XNSE/SYNGENE/ADJUSTMENT FACTOR</th>\n",
       "      <th>XNSE/SYNGENE/ADJUSTMENT TYPE</th>\n",
       "      <th>DATE.9</th>\n",
       "      <th>XNSE/TITAN/OPEN</th>\n",
       "      <th>XNSE/TITAN/HIGH</th>\n",
       "      <th>XNSE/TITAN/LOW</th>\n",
       "      <th>XNSE/TITAN/CLOSE</th>\n",
       "      <th>XNSE/TITAN/VOLUME</th>\n",
       "      <th>XNSE/TITAN/ADJUSTMENT FACTOR</th>\n",
       "      <th>XNSE/TITAN/ADJUSTMENT TYPE</th>\n",
       "    </tr>\n",
       "  </thead>\n",
       "  <tbody>\n",
       "    <tr>\n",
       "      <th>0</th>\n",
       "      <td>2020-09-21</td>\n",
       "      <td>453.95</td>\n",
       "      <td>453.95</td>\n",
       "      <td>425.35</td>\n",
       "      <td>429.35</td>\n",
       "      <td>4258326.0</td>\n",
       "      <td>NaN</td>\n",
       "      <td>NaN</td>\n",
       "      <td>2020-09-21</td>\n",
       "      <td>2175.00</td>\n",
       "      <td>...</td>\n",
       "      <td>NaN</td>\n",
       "      <td>NaN</td>\n",
       "      <td>2016-11-23</td>\n",
       "      <td>303.628352</td>\n",
       "      <td>308.541432</td>\n",
       "      <td>300.926158</td>\n",
       "      <td>307.067508</td>\n",
       "      <td>1250719</td>\n",
       "      <td>NaN</td>\n",
       "      <td>NaN</td>\n",
       "    </tr>\n",
       "    <tr>\n",
       "      <th>1</th>\n",
       "      <td>2020-09-18</td>\n",
       "      <td>442.75</td>\n",
       "      <td>463.90</td>\n",
       "      <td>442.75</td>\n",
       "      <td>454.00</td>\n",
       "      <td>11410425.0</td>\n",
       "      <td>NaN</td>\n",
       "      <td>NaN</td>\n",
       "      <td>2020-09-18</td>\n",
       "      <td>2149.90</td>\n",
       "      <td>...</td>\n",
       "      <td>NaN</td>\n",
       "      <td>NaN</td>\n",
       "      <td>2016-11-24</td>\n",
       "      <td>305.593584</td>\n",
       "      <td>309.229263</td>\n",
       "      <td>300.680504</td>\n",
       "      <td>302.203558</td>\n",
       "      <td>2751768</td>\n",
       "      <td>NaN</td>\n",
       "      <td>NaN</td>\n",
       "    </tr>\n",
       "    <tr>\n",
       "      <th>2</th>\n",
       "      <td>2020-09-17</td>\n",
       "      <td>439.00</td>\n",
       "      <td>444.85</td>\n",
       "      <td>432.55</td>\n",
       "      <td>442.20</td>\n",
       "      <td>4431118.0</td>\n",
       "      <td>NaN</td>\n",
       "      <td>NaN</td>\n",
       "      <td>2020-09-17</td>\n",
       "      <td>2147.00</td>\n",
       "      <td>...</td>\n",
       "      <td>NaN</td>\n",
       "      <td>NaN</td>\n",
       "      <td>2016-11-25</td>\n",
       "      <td>305.495322</td>\n",
       "      <td>313.651035</td>\n",
       "      <td>300.975288</td>\n",
       "      <td>310.654056</td>\n",
       "      <td>1285140</td>\n",
       "      <td>NaN</td>\n",
       "      <td>NaN</td>\n",
       "    </tr>\n",
       "    <tr>\n",
       "      <th>3</th>\n",
       "      <td>2020-09-16</td>\n",
       "      <td>440.05</td>\n",
       "      <td>453.90</td>\n",
       "      <td>434.55</td>\n",
       "      <td>438.65</td>\n",
       "      <td>10058926.0</td>\n",
       "      <td>NaN</td>\n",
       "      <td>NaN</td>\n",
       "      <td>2020-09-16</td>\n",
       "      <td>2152.55</td>\n",
       "      <td>...</td>\n",
       "      <td>NaN</td>\n",
       "      <td>NaN</td>\n",
       "      <td>2016-11-28</td>\n",
       "      <td>311.440149</td>\n",
       "      <td>312.471896</td>\n",
       "      <td>298.469618</td>\n",
       "      <td>301.220942</td>\n",
       "      <td>1676934</td>\n",
       "      <td>NaN</td>\n",
       "      <td>NaN</td>\n",
       "    </tr>\n",
       "    <tr>\n",
       "      <th>4</th>\n",
       "      <td>2020-09-15</td>\n",
       "      <td>430.00</td>\n",
       "      <td>445.00</td>\n",
       "      <td>429.00</td>\n",
       "      <td>440.05</td>\n",
       "      <td>6044433.0</td>\n",
       "      <td>NaN</td>\n",
       "      <td>NaN</td>\n",
       "      <td>2020-09-15</td>\n",
       "      <td>2185.00</td>\n",
       "      <td>...</td>\n",
       "      <td>NaN</td>\n",
       "      <td>NaN</td>\n",
       "      <td>2016-11-29</td>\n",
       "      <td>300.680504</td>\n",
       "      <td>310.752318</td>\n",
       "      <td>299.943542</td>\n",
       "      <td>308.394039</td>\n",
       "      <td>1450559</td>\n",
       "      <td>NaN</td>\n",
       "      <td>NaN</td>\n",
       "    </tr>\n",
       "  </tbody>\n",
       "</table>\n",
       "<p>5 rows × 80 columns</p>\n",
       "</div>"
      ],
      "text/plain": [
       "        DATE  XNSE/BIOCON/OPEN  XNSE/BIOCON/HIGH  XNSE/BIOCON/LOW  \\\n",
       "0 2020-09-21            453.95            453.95           425.35   \n",
       "1 2020-09-18            442.75            463.90           442.75   \n",
       "2 2020-09-17            439.00            444.85           432.55   \n",
       "3 2020-09-16            440.05            453.90           434.55   \n",
       "4 2020-09-15            430.00            445.00           429.00   \n",
       "\n",
       "   XNSE/BIOCON/CLOSE  XNSE/BIOCON/VOLUME  XNSE/BIOCON/ADJUSTMENT FACTOR  \\\n",
       "0             429.35           4258326.0                            NaN   \n",
       "1             454.00          11410425.0                            NaN   \n",
       "2             442.20           4431118.0                            NaN   \n",
       "3             438.65          10058926.0                            NaN   \n",
       "4             440.05           6044433.0                            NaN   \n",
       "\n",
       "   XNSE/BIOCON/ADJUSTMENT TYPE     DATE.1  XNSE/DMART/OPEN  ...  \\\n",
       "0                          NaN 2020-09-21          2175.00  ...   \n",
       "1                          NaN 2020-09-18          2149.90  ...   \n",
       "2                          NaN 2020-09-17          2147.00  ...   \n",
       "3                          NaN 2020-09-16          2152.55  ...   \n",
       "4                          NaN 2020-09-15          2185.00  ...   \n",
       "\n",
       "   XNSE/SYNGENE/ADJUSTMENT FACTOR  XNSE/SYNGENE/ADJUSTMENT TYPE     DATE.9  \\\n",
       "0                             NaN                           NaN 2016-11-23   \n",
       "1                             NaN                           NaN 2016-11-24   \n",
       "2                             NaN                           NaN 2016-11-25   \n",
       "3                             NaN                           NaN 2016-11-28   \n",
       "4                             NaN                           NaN 2016-11-29   \n",
       "\n",
       "   XNSE/TITAN/OPEN  XNSE/TITAN/HIGH  XNSE/TITAN/LOW XNSE/TITAN/CLOSE  \\\n",
       "0       303.628352       308.541432      300.926158       307.067508   \n",
       "1       305.593584       309.229263      300.680504       302.203558   \n",
       "2       305.495322       313.651035      300.975288       310.654056   \n",
       "3       311.440149       312.471896      298.469618       301.220942   \n",
       "4       300.680504       310.752318      299.943542       308.394039   \n",
       "\n",
       "   XNSE/TITAN/VOLUME  XNSE/TITAN/ADJUSTMENT FACTOR  XNSE/TITAN/ADJUSTMENT TYPE  \n",
       "0            1250719                           NaN                         NaN  \n",
       "1            2751768                           NaN                         NaN  \n",
       "2            1285140                           NaN                         NaN  \n",
       "3            1676934                           NaN                         NaN  \n",
       "4            1450559                           NaN                         NaN  \n",
       "\n",
       "[5 rows x 80 columns]"
      ]
     },
     "execution_count": 61,
     "metadata": {},
     "output_type": "execute_result"
    }
   ],
   "source": [
    "# Import excel data file\n",
    "data = pd.read_excel(\"Time Series Sample.xlsx\")\n",
    "data.head()"
   ]
  },
  {
   "cell_type": "code",
   "execution_count": 62,
   "metadata": {},
   "outputs": [],
   "source": [
    "\n",
    "\n",
    "def atr(data, n=14):\n",
    "    data = data.copy()\n",
    "    high = data['XNSE/BIOCON/HIGH']\n",
    "    low = data['XNSE/BIOCON/LOW']\n",
    "    close = data['XNSE/BIOCON/CLOSE']\n",
    "    data['tr0'] = abs(high - low)\n",
    "    data['tr1'] = abs(high - close.shift())\n",
    "    data['tr2'] = abs(low - close.shift())\n",
    "    tr = data[['tr0', 'tr1', 'tr2']].max(axis=1)\n",
    "    atr = tr\n",
    "    return atr"
   ]
  },
  {
   "cell_type": "code",
   "execution_count": 63,
   "metadata": {},
   "outputs": [
    {
     "name": "stdout",
     "output_type": "stream",
     "text": [
      "10.23529632499999\n",
      "4.926750888888888\n",
      "5.276492499999996\n"
     ]
    }
   ],
   "source": [
    "ATR_1 = atr(data)\n",
    "print(ATR_1.mean())\n",
    "\n",
    "ten_1 = ATR_1[991:].mean()\n",
    "print(ten_1)\n",
    "\n",
    "fifteen_1 = ATR_1[996:].mean()\n",
    "print(fifteen_1)"
   ]
  },
  {
   "cell_type": "code",
   "execution_count": 64,
   "metadata": {},
   "outputs": [
    {
     "name": "stdout",
     "output_type": "stream",
     "text": [
      "57.037267759562894\n",
      "nan\n",
      "nan\n"
     ]
    }
   ],
   "source": [
    "def atr(data):\n",
    "    data = data.copy()\n",
    "    high = data['XNSE/DMART/HIGH']\n",
    "    low = data['XNSE/DMART/LOW']\n",
    "    close = data['XNSE/DMART/CLOSE']\n",
    "    data['tr0'] = abs(high - low)\n",
    "    data['tr1'] = abs(high - close.shift())\n",
    "    data['tr2'] = abs(low - close.shift())\n",
    "    tr = data[['tr0', 'tr1', 'tr2']].max(axis=1)\n",
    "    atr = tr\n",
    "    return atr\n",
    "\n",
    "ATR_2 = atr(data)\n",
    "print(ATR_2.mean())\n",
    "\n",
    "ten_2 = ATR_2[991:].mean()\n",
    "print(ten_2)\n",
    "\n",
    "fifteen_2 = ATR_2[996:].mean()\n",
    "print(fifteen_2)"
   ]
  },
  {
   "cell_type": "code",
   "execution_count": 65,
   "metadata": {},
   "outputs": [
    {
     "name": "stdout",
     "output_type": "stream",
     "text": [
      "30.203899404000012\n",
      "18.899995222222213\n",
      "22.05779149999998\n"
     ]
    }
   ],
   "source": [
    "def atr(data):\n",
    "    data = data.copy()\n",
    "    high = data['XNSE/COLPAL/HIGH']\n",
    "    low = data['XNSE/COLPAL/LOW']\n",
    "    close = data['XNSE/COLPAL/CLOSE']\n",
    "    data['tr0'] = abs(high - low)\n",
    "    data['tr1'] = abs(high - close.shift())\n",
    "    data['tr2'] = abs(low - close.shift())\n",
    "    tr = data[['tr0', 'tr1', 'tr2']].max(axis=1)\n",
    "    atr = tr\n",
    "    return atr\n",
    "\n",
    "ATR_3 = atr(data)\n",
    "print(ATR_3.mean())\n",
    "\n",
    "ten_3 = ATR_3[991:].mean()\n",
    "print(ten_3)\n",
    "\n",
    "fifteen_3 = ATR_3[996:].mean()\n",
    "print(fifteen_3)"
   ]
  },
  {
   "cell_type": "code",
   "execution_count": 66,
   "metadata": {},
   "outputs": [
    {
     "name": "stdout",
     "output_type": "stream",
     "text": [
      "33.91718449999994\n",
      "8.405838777777786\n",
      "9.023835750000003\n"
     ]
    }
   ],
   "source": [
    "def atr(data):\n",
    "    data = data.copy()\n",
    "    high = data['XNSE/RELIANCE/HIGH']\n",
    "    low = data['XNSE/RELIANCE/LOW']\n",
    "    close = data['XNSE/RELIANCE/CLOSE']\n",
    "    data['tr0'] = abs(high - low)\n",
    "    data['tr1'] = abs(high - close.shift())\n",
    "    data['tr2'] = abs(low - close.shift())\n",
    "    tr = data[['tr0', 'tr1', 'tr2']].max(axis=1)\n",
    "    atr = tr\n",
    "    return atr\n",
    "\n",
    "ATR_4 = atr(data)\n",
    "print(ATR_4.mean())\n",
    "\n",
    "ten_4 = ATR_4[991:].mean()\n",
    "print(ten_4)\n",
    "\n",
    "fifteen_4 = ATR_4[996:].mean()\n",
    "print(fifteen_4)"
   ]
  },
  {
   "cell_type": "code",
   "execution_count": 67,
   "metadata": {},
   "outputs": [
    {
     "name": "stdout",
     "output_type": "stream",
     "text": [
      "16.456720950999973\n",
      "10.645871777777788\n",
      "15.819443000000007\n"
     ]
    }
   ],
   "source": [
    "def atr(data):\n",
    "    data = data.copy()\n",
    "    high = data['XNSE/INFY/HIGH']\n",
    "    low = data['XNSE/INFY/LOW']\n",
    "    close = data['XNSE/INFY/CLOSE']\n",
    "    data['tr0'] = abs(high - low)\n",
    "    data['tr1'] = abs(high - close.shift())\n",
    "    data['tr2'] = abs(low - close.shift())\n",
    "    tr = data[['tr0', 'tr1', 'tr2']].max(axis=1)\n",
    "    atr =tr\n",
    "    return atr\n",
    "\n",
    "ATR_5 = atr(data)\n",
    "print(ATR_5.mean())\n",
    "\n",
    "ten_5 = ATR_5[991:].mean()\n",
    "print(ten_5)\n",
    "\n",
    "fifteen_5 = ATR_5[996:].mean()\n",
    "print(fifteen_5)"
   ]
  },
  {
   "cell_type": "code",
   "execution_count": 68,
   "metadata": {},
   "outputs": [
    {
     "name": "stdout",
     "output_type": "stream",
     "text": [
      "4.416682346000004\n",
      "6.211111111111115\n",
      "5.587500000000006\n"
     ]
    }
   ],
   "source": [
    "def atr(data, n=14):\n",
    "    data = data.copy()\n",
    "    high = data['XNSE/MANAPPURAM/HIGH']\n",
    "    low = data['XNSE/MANAPPURAM/LOW']\n",
    "    close = data['XNSE/MANAPPURAM/CLOSE']\n",
    "    data['tr0'] = abs(high - low)\n",
    "    data['tr1'] = abs(high - close.shift())\n",
    "    data['tr2'] = abs(low - close.shift())\n",
    "    tr = data[['tr0', 'tr1', 'tr2']].max(axis=1)\n",
    "    atr = tr\n",
    "    return atr\n",
    "\n",
    "ATR_6 = atr(data)\n",
    "print(ATR_6.mean())\n",
    "\n",
    "ten_6 = ATR_6[991:].mean()\n",
    "print(ten_6)\n",
    "\n",
    "fifteen_6 = ATR_6[996:].mean()\n",
    "print(fifteen_6)"
   ]
  },
  {
   "cell_type": "code",
   "execution_count": 69,
   "metadata": {},
   "outputs": [
    {
     "name": "stdout",
     "output_type": "stream",
     "text": [
      "9.772682086000001\n",
      "11.677777777777774\n",
      "12.537499999999994\n"
     ]
    }
   ],
   "source": [
    "def atr(data, n=14):\n",
    "    data = data.copy()\n",
    "    high = data['XNSE/ICICIBANK/HIGH']\n",
    "    low = data['XNSE/ICICIBANK/LOW']\n",
    "    close = data['XNSE/ICICIBANK/CLOSE']\n",
    "    data['tr0'] = abs(high - low)\n",
    "    data['tr1'] = abs(high - close.shift())\n",
    "    data['tr2'] = abs(low - close.shift())\n",
    "    tr = data[['tr0', 'tr1', 'tr2']].max(axis=1)\n",
    "    atr = tr\n",
    "    return atr\n",
    "\n",
    "ATR_7 = atr(data)\n",
    "print(ATR_7.mean())\n",
    "\n",
    "ten_7 = ATR_7[991:].mean()\n",
    "print(ten_7)\n",
    "\n",
    "fifteen_7 = ATR_7[996:].mean()\n",
    "print(fifteen_7)"
   ]
  },
  {
   "cell_type": "code",
   "execution_count": 70,
   "metadata": {},
   "outputs": [
    {
     "name": "stdout",
     "output_type": "stream",
     "text": [
      "69.96854497482023\n",
      "60.17222222222214\n",
      "67.09999999999991\n"
     ]
    }
   ],
   "source": [
    "def atr(data):\n",
    "    data = data.copy()\n",
    "    high = data['XNSE/HDFCAMC/HIGH']\n",
    "    low = data['XNSE/HDFCAMC/LOW']\n",
    "    close = data['XNSE/HDFCAMC/CLOSE']\n",
    "    data['tr0'] = abs(high - low)\n",
    "    data['tr1'] = abs(high - close.shift())\n",
    "    data['tr2'] = abs(low - close.shift())\n",
    "    tr = data[['tr0', 'tr1', 'tr2']].max(axis=1)\n",
    "    atr = tr\n",
    "    return atr\n",
    "\n",
    "ATR_8 = atr(data)\n",
    "print(ATR_8.mean())\n",
    "\n",
    "ten_8 = ATR_8[991:].mean()\n",
    "print(ten_8)\n",
    "\n",
    "fifteen_8 = ATR_8[996:].mean()\n",
    "print(fifteen_8)"
   ]
  },
  {
   "cell_type": "code",
   "execution_count": 71,
   "metadata": {},
   "outputs": [
    {
     "name": "stdout",
     "output_type": "stream",
     "text": [
      "9.925654124000006\n",
      "38.12222222222222\n",
      "38.12222222222222\n"
     ]
    }
   ],
   "source": [
    "def atr(data):\n",
    "    data = data.copy()\n",
    "    high = data['XNSE/SYNGENE/HIGH']\n",
    "    low = data['XNSE/SYNGENE/LOW']\n",
    "    close = data['XNSE/SYNGENE/CLOSE']\n",
    "    data['tr0'] = abs(high - low)\n",
    "    data['tr1'] = abs(high - close.shift())\n",
    "    data['tr2'] = abs(low - close.shift())\n",
    "    tr = data[['tr0', 'tr1', 'tr2']].max(axis=1)\n",
    "    atr = tr\n",
    "    return atr\n",
    "\n",
    "ATR_9 = atr(data)\n",
    "print(ATR_9.mean())\n",
    "\n",
    "ten_9 = ATR_9[991:].mean()\n",
    "print(ten_9)\n",
    "\n",
    "fifteen_9 = ATR_9[991:].mean()\n",
    "print(fifteen_9)"
   ]
  },
  {
   "cell_type": "code",
   "execution_count": 72,
   "metadata": {},
   "outputs": [
    {
     "name": "stdout",
     "output_type": "stream",
     "text": [
      "24.706987587999983\n",
      "34.66666666666664\n",
      "37.17500000000001\n"
     ]
    }
   ],
   "source": [
    "def atr(data):\n",
    "    data = data.copy()\n",
    "    high = data['XNSE/TITAN/HIGH']\n",
    "    low = data['XNSE/TITAN/LOW']\n",
    "    close = data['XNSE/TITAN/CLOSE']\n",
    "    data['tr0'] = abs(high - low)\n",
    "    data['tr1'] = abs(high - close.shift())\n",
    "    data['tr2'] = abs(low - close.shift())\n",
    "    tr = data[['tr0', 'tr1', 'tr2']].max(axis=1)\n",
    "    atr = tr\n",
    "    return atr\n",
    "\n",
    "ATR_10 = atr(data)\n",
    "print(ATR_10.mean())\n",
    "\n",
    "ten_10 = ATR_10[991:].mean()\n",
    "print(ten_10)\n",
    "\n",
    "fifteen_10 = ATR_10[996:].mean()\n",
    "print(fifteen_10)"
   ]
  },
  {
   "cell_type": "code",
   "execution_count": 73,
   "metadata": {},
   "outputs": [
    {
     "data": {
      "text/html": [
       "<div>\n",
       "<style scoped>\n",
       "    .dataframe tbody tr th:only-of-type {\n",
       "        vertical-align: middle;\n",
       "    }\n",
       "\n",
       "    .dataframe tbody tr th {\n",
       "        vertical-align: top;\n",
       "    }\n",
       "\n",
       "    .dataframe thead th {\n",
       "        text-align: right;\n",
       "    }\n",
       "</style>\n",
       "<table border=\"1\" class=\"dataframe\">\n",
       "  <thead>\n",
       "    <tr style=\"text-align: right;\">\n",
       "      <th></th>\n",
       "      <th>Stock name</th>\n",
       "      <th>Mean_ATR_1000</th>\n",
       "      <th>ten_day_ATR</th>\n",
       "      <th>fifteen_day_ATR</th>\n",
       "    </tr>\n",
       "  </thead>\n",
       "  <tbody>\n",
       "    <tr>\n",
       "      <th>0</th>\n",
       "      <td>BIOCON</td>\n",
       "      <td>10.235296</td>\n",
       "      <td>4.926751</td>\n",
       "      <td>5.276492</td>\n",
       "    </tr>\n",
       "    <tr>\n",
       "      <th>1</th>\n",
       "      <td>DMART</td>\n",
       "      <td>57.037268</td>\n",
       "      <td>NaN</td>\n",
       "      <td>NaN</td>\n",
       "    </tr>\n",
       "    <tr>\n",
       "      <th>2</th>\n",
       "      <td>COLPAL</td>\n",
       "      <td>30.203899</td>\n",
       "      <td>18.899995</td>\n",
       "      <td>22.057791</td>\n",
       "    </tr>\n",
       "    <tr>\n",
       "      <th>3</th>\n",
       "      <td>RELIANCE</td>\n",
       "      <td>33.917184</td>\n",
       "      <td>8.405839</td>\n",
       "      <td>9.023836</td>\n",
       "    </tr>\n",
       "    <tr>\n",
       "      <th>4</th>\n",
       "      <td>INFY</td>\n",
       "      <td>16.456721</td>\n",
       "      <td>10.645872</td>\n",
       "      <td>15.819443</td>\n",
       "    </tr>\n",
       "    <tr>\n",
       "      <th>5</th>\n",
       "      <td>MANAPPURAM</td>\n",
       "      <td>4.416682</td>\n",
       "      <td>6.211111</td>\n",
       "      <td>5.587500</td>\n",
       "    </tr>\n",
       "    <tr>\n",
       "      <th>6</th>\n",
       "      <td>ICICIBANK</td>\n",
       "      <td>9.772682</td>\n",
       "      <td>11.677778</td>\n",
       "      <td>12.537500</td>\n",
       "    </tr>\n",
       "    <tr>\n",
       "      <th>7</th>\n",
       "      <td>HDFCAMC</td>\n",
       "      <td>69.968545</td>\n",
       "      <td>60.172222</td>\n",
       "      <td>67.100000</td>\n",
       "    </tr>\n",
       "    <tr>\n",
       "      <th>8</th>\n",
       "      <td>SYNCENE</td>\n",
       "      <td>9.925654</td>\n",
       "      <td>38.122222</td>\n",
       "      <td>38.122222</td>\n",
       "    </tr>\n",
       "    <tr>\n",
       "      <th>9</th>\n",
       "      <td>TITAN</td>\n",
       "      <td>24.706988</td>\n",
       "      <td>34.666667</td>\n",
       "      <td>37.175000</td>\n",
       "    </tr>\n",
       "  </tbody>\n",
       "</table>\n",
       "</div>"
      ],
      "text/plain": [
       "   Stock name  Mean_ATR_1000  ten_day_ATR  fifteen_day_ATR\n",
       "0      BIOCON      10.235296     4.926751         5.276492\n",
       "1       DMART      57.037268          NaN              NaN\n",
       "2      COLPAL      30.203899    18.899995        22.057791\n",
       "3    RELIANCE      33.917184     8.405839         9.023836\n",
       "4        INFY      16.456721    10.645872        15.819443\n",
       "5  MANAPPURAM       4.416682     6.211111         5.587500\n",
       "6   ICICIBANK       9.772682    11.677778        12.537500\n",
       "7     HDFCAMC      69.968545    60.172222        67.100000\n",
       "8     SYNCENE       9.925654    38.122222        38.122222\n",
       "9       TITAN      24.706988    34.666667        37.175000"
      ]
     },
     "execution_count": 73,
     "metadata": {},
     "output_type": "execute_result"
    }
   ],
   "source": [
    "ATR = pd.DataFrame({\"Stock name\":[\"BIOCON\",\"DMART\",\"COLPAL\",\"RELIANCE\",\"INFY\",\"MANAPPURAM\",\"ICICIBANK\",\"HDFCAMC\",\"SYNCENE\",\"TITAN\"],\n",
    "                  \"Mean_ATR_1000\":[ATR_1.mean(),ATR_2.mean(),ATR_3.mean(),ATR_4.mean(),ATR_5.mean(),ATR_6.mean(),ATR_7.mean(),ATR_8.mean(),ATR_9.mean(),ATR_10.mean()],\n",
    "                  \"ten_day_ATR\":[ten_1,ten_2,ten_3,ten_4,ten_5,ten_6,ten_7,ten_8,ten_9,ten_10],\n",
    "                    \"fifteen_day_ATR\":[fifteen_1,fifteen_2,fifteen_3,fifteen_4,fifteen_5,fifteen_6,fifteen_7,fifteen_8,fifteen_9,fifteen_10]})\n",
    "\n",
    "ATR"
   ]
  },
  {
   "cell_type": "code",
   "execution_count": null,
   "metadata": {},
   "outputs": [],
   "source": []
  },
  {
   "cell_type": "code",
   "execution_count": 74,
   "metadata": {},
   "outputs": [],
   "source": [
    "data1 = df2[\"XNSE/BIOCON/CLOSE\"][:]\n",
    "data1 = data1.pct_change()"
   ]
  },
  {
   "cell_type": "code",
   "execution_count": 75,
   "metadata": {},
   "outputs": [
    {
     "data": {
      "text/plain": [
       "[<matplotlib.lines.Line2D at 0x1409983b448>]"
      ]
     },
     "execution_count": 75,
     "metadata": {},
     "output_type": "execute_result"
    },
    {
     "data": {
      "image/png": "[encoded data removed]",
      "text/plain": [
       "<Figure size 864x576 with 1 Axes>"
      ]
     },
     "metadata": {
      "needs_background": "light"
     },
     "output_type": "display_data"
    }
   ],
   "source": [
    "index = 100*(1+data1).cumprod()\n",
    "previous_peaks = index.cummax()\n",
    "drawdown = (index - previous_peaks)/previous_peaks\n",
    "#drawdown.plot()\n",
    "plt.figure(figsize=(12,8))\n",
    "plt.plot(drawdown)"
   ]
  },
  {
   "cell_type": "code",
   "execution_count": 76,
   "metadata": {},
   "outputs": [
    {
     "data": {
      "text/plain": [
       "-0.3885887321103864"
      ]
     },
     "execution_count": 76,
     "metadata": {},
     "output_type": "execute_result"
    }
   ],
   "source": [
    "# Get the worst drawdown \n",
    "drawdown.min()"
   ]
  },
  {
   "cell_type": "code",
   "execution_count": 77,
   "metadata": {},
   "outputs": [
    {
     "data": {
      "text/plain": [
       "741"
      ]
     },
     "execution_count": 77,
     "metadata": {},
     "output_type": "execute_result"
    }
   ],
   "source": [
    "drawdown.idxmin()"
   ]
  },
  {
   "cell_type": "code",
   "execution_count": 78,
   "metadata": {},
   "outputs": [
    {
     "name": "stdout",
     "output_type": "stream",
     "text": [
      "The worst drawdown since 100 days was -0.3885887321103864 on 741\n"
     ]
    }
   ],
   "source": [
    "# Get the worst drawdown since 1975\n",
    "print(f\"The worst drawdown since 100 days was {drawdown.min()} on {drawdown.idxmin()}\")"
   ]
  },
  {
   "cell_type": "code",
   "execution_count": 80,
   "metadata": {},
   "outputs": [
    {
     "data": {
      "text/plain": [
       "0.0"
      ]
     },
     "execution_count": 80,
     "metadata": {},
     "output_type": "execute_result"
    }
   ],
   "source": [
    "drawdown.max()"
   ]
  },
  {
   "cell_type": "code",
   "execution_count": null,
   "metadata": {},
   "outputs": [],
   "source": []
  },
  {
   "cell_type": "code",
   "execution_count": 79,
   "metadata": {},
   "outputs": [
    {
     "data": {
      "text/plain": [
       "<matplotlib.axes._subplots.AxesSubplot at 0x14099842288>"
      ]
     },
     "execution_count": 79,
     "metadata": {},
     "output_type": "execute_result"
    },
    {
     "data": {
      "image/png": "[encoded data removed]",
      "text/plain": [
       "<Figure size 432x288 with 1 Axes>"
      ]
     },
     "metadata": {
      "needs_background": "light"
     },
     "output_type": "display_data"
    }
   ],
   "source": [
    "# Combine Plots \n",
    "index.plot.line()\n",
    "previous_peaks.plot.line()"
   ]
  },
  {
   "cell_type": "code",
   "execution_count": null,
   "metadata": {},
   "outputs": [],
   "source": []
  },
  {
   "cell_type": "code",
   "execution_count": null,
   "metadata": {},
   "outputs": [],
   "source": [
    " "
   ]
  }
 ],
 "metadata": {
  "kernelspec": {
   "display_name": "Python 3",
   "language": "python",
   "name": "python3"
  },
  "language_info": {
   "codemirror_mode": {
    "name": "ipython",
    "version": 3
   },
   "file_extension": ".py",
   "mimetype": "text/x-python",
   "name": "python",
   "nbconvert_exporter": "python",
   "pygments_lexer": "ipython3",
   "version": "3.7.6"
  }
 },
 "nbformat": 4,
 "nbformat_minor": 4
}
