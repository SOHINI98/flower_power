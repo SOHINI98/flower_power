{
  "nbformat": 4,
  "nbformat_minor": 0,
  "metadata": {
    "colab": {
      "name": "Twitter Data Analysis - Mental Health",
      "provenance": []
    },
    "kernelspec": {
      "name": "python3",
      "display_name": "Python 3"
    }
  },
  "cells": [
    {
      "cell_type": "code",
      "metadata": {
        "id": "Tza6K2lMRggs",
        "outputId": "3efaf056-7134-49d4-d40a-db585511e6f9",
        "colab": {
          "base_uri": "https://localhost:8080/",
          "height": 187
        }
      },
      "source": [
        "pip install tweepy\n"
      ],
      "execution_count": null,
      "outputs": [
        {
          "output_type": "stream",
          "text": [
            "Requirement already satisfied: tweepy in /usr/local/lib/python3.6/dist-packages (3.6.0)\n",
            "Requirement already satisfied: requests>=2.11.1 in /usr/local/lib/python3.6/dist-packages (from tweepy) (2.23.0)\n",
            "Requirement already satisfied: PySocks>=1.5.7 in /usr/local/lib/python3.6/dist-packages (from tweepy) (1.7.1)\n",
            "Requirement already satisfied: six>=1.10.0 in /usr/local/lib/python3.6/dist-packages (from tweepy) (1.12.0)\n",
            "Requirement already satisfied: requests-oauthlib>=0.7.0 in /usr/local/lib/python3.6/dist-packages (from tweepy) (1.3.0)\n",
            "Requirement already satisfied: idna<3,>=2.5 in /usr/local/lib/python3.6/dist-packages (from requests>=2.11.1->tweepy) (2.10)\n",
            "Requirement already satisfied: urllib3!=1.25.0,!=1.25.1,<1.26,>=1.21.1 in /usr/local/lib/python3.6/dist-packages (from requests>=2.11.1->tweepy) (1.24.3)\n",
            "Requirement already satisfied: chardet<4,>=3.0.2 in /usr/local/lib/python3.6/dist-packages (from requests>=2.11.1->tweepy) (3.0.4)\n",
            "Requirement already satisfied: certifi>=2017.4.17 in /usr/local/lib/python3.6/dist-packages (from requests>=2.11.1->tweepy) (2020.6.20)\n",
            "Requirement already satisfied: oauthlib>=3.0.0 in /usr/local/lib/python3.6/dist-packages (from requests-oauthlib>=0.7.0->tweepy) (3.1.0)\n"
          ],
          "name": "stdout"
        }
      ]
    },
    {
      "cell_type": "code",
      "metadata": {
        "id": "lmP0OtFBzvEz",
        "outputId": "a906558f-43c1-4de9-a9db-5b24ae86cff3",
        "colab": {
          "base_uri": "https://localhost:8080/",
          "height": 204
        }
      },
      "source": [
        "pip install twython"
      ],
      "execution_count": null,
      "outputs": [
        {
          "output_type": "stream",
          "text": [
            "Collecting twython\n",
            "  Downloading https://files.pythonhosted.org/packages/24/80/579b96dfaa9b536efde883d4f0df7ea2598a6f3117a6dd572787f4a2bcfb/twython-3.8.2-py3-none-any.whl\n",
            "Requirement already satisfied: requests-oauthlib>=0.4.0 in /usr/local/lib/python3.6/dist-packages (from twython) (1.3.0)\n",
            "Requirement already satisfied: requests>=2.1.0 in /usr/local/lib/python3.6/dist-packages (from twython) (2.23.0)\n",
            "Requirement already satisfied: oauthlib>=3.0.0 in /usr/local/lib/python3.6/dist-packages (from requests-oauthlib>=0.4.0->twython) (3.1.0)\n",
            "Requirement already satisfied: idna<3,>=2.5 in /usr/local/lib/python3.6/dist-packages (from requests>=2.1.0->twython) (2.10)\n",
            "Requirement already satisfied: certifi>=2017.4.17 in /usr/local/lib/python3.6/dist-packages (from requests>=2.1.0->twython) (2020.6.20)\n",
            "Requirement already satisfied: chardet<4,>=3.0.2 in /usr/local/lib/python3.6/dist-packages (from requests>=2.1.0->twython) (3.0.4)\n",
            "Requirement already satisfied: urllib3!=1.25.0,!=1.25.1,<1.26,>=1.21.1 in /usr/local/lib/python3.6/dist-packages (from requests>=2.1.0->twython) (1.24.3)\n",
            "Installing collected packages: twython\n",
            "Successfully installed twython-3.8.2\n"
          ],
          "name": "stdout"
        }
      ]
    },
    {
      "cell_type": "code",
      "metadata": {
        "id": "U2CZtMtYRpU2"
      },
      "source": [
        "import tweepy"
      ],
      "execution_count": null,
      "outputs": []
    },
    {
      "cell_type": "code",
      "metadata": {
        "id": "kyyP9HLPRq65"
      },
      "source": [
        ""
      ],
      "execution_count": null,
      "outputs": []
    },
    {
      "cell_type": "code",
      "metadata": {
        "id": "NFOz135HxIkQ"
      },
      "source": [
        "import os\n",
        "import pandas as pd\n",
        "import tweepy as tw"
      ],
      "execution_count": null,
      "outputs": []
    },
    {
      "cell_type": "code",
      "metadata": {
        "id": "QSee62dVxIt1"
      },
      "source": [
        "auth = tw.OAuthHandler(twitterkey['consumer key'], twitterkey['consumer secret'])\n",
        "auth.set_access_token(twitterkey['acess token'], twitterkey['acess token secret'])\n",
        "api = tw.API(auth,wait_on_rate_limit=True)"
      ],
      "execution_count": null,
      "outputs": []
    },
    {
      "cell_type": "code",
      "metadata": {
        "id": "aJaeaBYvC3LH",
        "outputId": "f10876ff-dda7-4691-eaf4-16634f4d818a",
        "colab": {
          "base_uri": "https://localhost:8080/",
          "height": 255
        }
      },
      "source": [
        "tweets = api.search(q=\"place:%s\" % place_id)\n",
        "for tweet in tweets:\n",
        "    print (tweet.text + \" | \" + tweet.place.name if tweet.place else \"Undefined place\")"
      ],
      "execution_count": null,
      "outputs": [
        {
          "output_type": "stream",
          "text": [
            "YALL!! My car will be paid off NEXT MONTH 😩🙌🏻🙌🏻🙌🏻 | Brent\n",
            "@TruHedRick Well I call Bullshit on the cases because the deaths don’t make sense OR the death rate is significantl… https://t.co/JOsUPqzo1x | Orlando\n",
            "We really havin’ over here shawty I got what you need | East Point\n",
            "Remember when holding a fidget spinner was cool. | Wake Forest\n",
            "https://t.co/bw9LPuJ9uV | Manhattan\n",
            "As they should https://t.co/2UbOZB55F3 | South Houston\n",
            "@RadioKimmie Pours coffee down drain 😳 | Phoenix\n",
            "This will not go over well with some@of the Walmart crowd. https://t.co/lUMXyTmbcb | Virginia\n",
            "#MariahCarey\n",
            "\n",
            "#MC30 Teaser - Every Friday\n",
            "\n",
            "https://t.co/Q4q3ecmTjd | Bronx\n",
            "Enfrentando retos , amando lo que hago, dejando huellas , haciendo una firma ... #tinavivolo #tuhairstylist… https://t.co/XVVjnPo00v | Miami\n"
          ],
          "name": "stdout"
        }
      ]
    },
    {
      "cell_type": "code",
      "metadata": {
        "id": "o0U2q4ouTihi"
      },
      "source": [
        "search_words = \"#mental health , #lockdown\"\n",
        "date_since = \"2019-12-12\"\n",
        "date_until = \"2020-07-07\""
      ],
      "execution_count": null,
      "outputs": []
    },
    {
      "cell_type": "code",
      "metadata": {
        "id": "bDwEmif_DC3q",
        "outputId": "d8260941-97a9-4082-a53e-a192bfa39b56",
        "colab": {
          "base_uri": "https://localhost:8080/",
          "height": 129
        }
      },
      "source": [
        "tweets = tweepy.Cursor(api.search,\n",
        "              q=search_words, q=\"place:%s\" % place_id\n",
        "              lang=\"en\",).items(10)\n",
        "tweets"
      ],
      "execution_count": null,
      "outputs": [
        {
          "output_type": "error",
          "ename": "SyntaxError",
          "evalue": "ignored",
          "traceback": [
            "\u001b[0;36m  File \u001b[0;32m\"<ipython-input-12-423e16d913f9>\"\u001b[0;36m, line \u001b[0;32m3\u001b[0m\n\u001b[0;31m    lang=\"en\",).items(10)\u001b[0m\n\u001b[0m       ^\u001b[0m\n\u001b[0;31mSyntaxError\u001b[0m\u001b[0;31m:\u001b[0m invalid syntax\n"
          ]
        }
      ]
    },
    {
      "cell_type": "code",
      "metadata": {
        "id": "AKl8BOB1TjxT",
        "outputId": "64fb1a9c-88c8-4c2f-90fc-db58bd6c26f7",
        "colab": {
          "base_uri": "https://localhost:8080/",
          "height": 34
        }
      },
      "source": [
        "tweets = tweepy.Cursor(api.search,\n",
        "              q=search_words,\n",
        "              lang=\"en\",\n",
        "              since=date_since , until = date_until ).items(1000)\n",
        "tweets"
      ],
      "execution_count": null,
      "outputs": [
        {
          "output_type": "execute_result",
          "data": {
            "text/plain": [
              "<tweepy.cursor.ItemIterator at 0x7f6a492485f8>"
            ]
          },
          "metadata": {
            "tags": []
          },
          "execution_count": 6
        }
      ]
    },
    {
      "cell_type": "code",
      "metadata": {
        "id": "qSsS_Z6wToMu"
      },
      "source": [
        "for tweet in tweets:\n",
        "    print(tweet.text)"
      ],
      "execution_count": null,
      "outputs": []
    },
    {
      "cell_type": "code",
      "metadata": {
        "id": "uxW2B_GtToaV",
        "outputId": "2f42c62c-0e92-4ba1-89d8-64b9d22059f5",
        "colab": {
          "base_uri": "https://localhost:8080/",
          "height": 35
        }
      },
      "source": [
        "new_search = search_words + \" -filter:retweets\"\n",
        "new_search"
      ],
      "execution_count": null,
      "outputs": [
        {
          "output_type": "execute_result",
          "data": {
            "application/vnd.google.colaboratory.intrinsic": {
              "type": "string"
            },
            "text/plain": [
              "'#mental health , #lockdown -filter:retweets'"
            ]
          },
          "metadata": {
            "tags": []
          },
          "execution_count": 8
        }
      ]
    },
    {
      "cell_type": "code",
      "metadata": {
        "id": "SfWaX7JATofC",
        "outputId": "d76343d6-b3e0-42b8-d504-d5c718253366",
        "colab": {
          "base_uri": "https://localhost:8080/",
          "height": 34
        }
      },
      "source": [
        "tweets = tweepy.Cursor(api.search,\n",
        "                       q=new_search,\n",
        "                       lang=\"en\",\n",
        "                       since=date_since , until = date_until).items(1000)\n",
        "\n",
        "[tweet.text for tweet in tweets]"
      ],
      "execution_count": null,
      "outputs": [
        {
          "output_type": "execute_result",
          "data": {
            "text/plain": [
              "[]"
            ]
          },
          "metadata": {
            "tags": []
          },
          "execution_count": 9
        }
      ]
    },
    {
      "cell_type": "code",
      "metadata": {
        "id": "Blig8er5TokD",
        "outputId": "f2e6e382-8008-4b52-bd0d-854588145e0e",
        "colab": {
          "base_uri": "https://localhost:8080/",
          "height": 34
        }
      },
      "source": [
        "users_locs = [[tweet.user.screen_name, tweet.user.location] for tweet in tweets]\n",
        "users_locs"
      ],
      "execution_count": null,
      "outputs": [
        {
          "output_type": "execute_result",
          "data": {
            "text/plain": [
              "[]"
            ]
          },
          "metadata": {
            "tags": []
          },
          "execution_count": 10
        }
      ]
    },
    {
      "cell_type": "code",
      "metadata": {
        "id": "VMTm3YlsTorb"
      },
      "source": [
        "import pandas as pd"
      ],
      "execution_count": null,
      "outputs": []
    },
    {
      "cell_type": "code",
      "metadata": {
        "id": "Zw4pntCvToxj",
        "outputId": "e9b20569-7a0f-4699-81a0-6945304f7e87",
        "colab": {
          "base_uri": "https://localhost:8080/",
          "height": 1000
        }
      },
      "source": [
        "new_search = \"mental health + lockdown -filter:retweets\"\n",
        "\n",
        "tweets = tweepy.Cursor(api.search,\n",
        "                   q=new_search,\n",
        "                   lang=\"en\",\n",
        "                   since='2019-12-12' , until = '2020-07-07').items(1000)\n",
        "\n",
        "all_tweets = [tweet.text for tweet in tweets]\n",
        "all_tweets"
      ],
      "execution_count": null,
      "outputs": [
        {
          "output_type": "execute_result",
          "data": {
            "text/plain": [
              "['@littlest_laura Could it be added stress or something from lockdown and having to adjust to society under coronavir… https://t.co/EcvTMR4aMc',\n",
              " 'Lockdown has been awful for mental health!',\n",
              " 'People are bottling up mental health issues in lockdown, says research https://t.co/XRFfARdV4R via @MetroUK',\n",
              " 'In observation, lockdown has caused many forms of stress impacting on many peoples mental health. The sooner we get… https://t.co/3AsgISxyn8',\n",
              " 'Where is the DfE guidance on: Coping with bereavement? Dealing with anxiety? Supporting children who have been livi… https://t.co/nHMdq7XlO6',\n",
              " \"Being a little rodent, he won't live a long life, but hopefully he is living a happy life with us. He certainly mak… https://t.co/1eXmZJWzDU\",\n",
              " '@HeatherWheeler The amount of women that have died during this lockdown, the amount of children that are gonna grow… https://t.co/Gar8TuL1D5',\n",
              " 'If I let go, if I was able to breathe out I think I wouldn’t have survived. I feel traumatised thinking back to day… https://t.co/jNe83leOd5',\n",
              " 'My mental health during lockdown https://t.co/Jgbma6BbjK',\n",
              " 'idk if its just lockdown but this is the worst i’ve ever felt mentally n I honestly don’t think my life n mental he… https://t.co/uDjAmy5cys',\n",
              " 'Council leader reveals mental health battle during lockdown #Gloucester https://t.co/I3TfLvtgiE',\n",
              " 'Must read from resident: “While we have heard announcements of a co-ordinated effort involving doctors, social work… https://t.co/xmO8iMjiWT',\n",
              " 'Really hope borris and co have planned 2 put more money into mental health as this past few months and lockdown can… https://t.co/mo803XV9R9',\n",
              " \"@BenJamesPhotos It really has been such a positive thing. We have a big 'Lockdown Family' now, who support each oth… https://t.co/bziM5h8Dzm\",\n",
              " 'Addiction and mental health concerns rise for people in coronavirus tower lockdown https://t.co/oP2nd5EYmp',\n",
              " 'The Independent: Four simple changes to make to improve your mental health in tough times.\\nhttps://t.co/lIFCuE7xcL\\n\\nvia @GoogleNews',\n",
              " 'Stylist Magazine: Coronavirus lockdown lifts: how to take care of your mental health as we enter a ‘new normal’.… https://t.co/ntou4BqvDa',\n",
              " 'Gloucestershire Live: Council leader reveals anxiety diagnosis and mental health battle during lockdown.… https://t.co/YZ1A4fGYJA',\n",
              " 'GLAMOUR UK: Lessons Learnt During Lockdown: How To Care For Our Health And Mental Health.\\nhttps://t.co/OLjQq5DqvC\\n\\nvia @GoogleNews',\n",
              " 'Can we not go back to that Level 0 where crushing the maximum amount of people into the smallest possible space is… https://t.co/xvCCg4WVGI',\n",
              " \"I really hope that as a society we don't go back to the overwhelming pressures we created around both work and soci… https://t.co/25DR6YxuPW\",\n",
              " \"My mental health has been rough lately. I've been sad. Experiencing lots of imposter syndrome. Second guessing myse… https://t.co/s0bik6BWzn\",\n",
              " 'School have let me down so much since lockdown started, I’d speak to someone 2+ times a week about stuff going on a… https://t.co/JNCFLGEbJ0',\n",
              " 'Melbourne residents in coronavirus hard lockdown fear a lack of access to mental health and addiction services - AB… https://t.co/zLDTTi37z0',\n",
              " '@BBCNews The Govt better lookout, they abused all our rights by introducing Lockdown &amp; creating mental health problems for many ppl.',\n",
              " \"@FrDidymus I missed the vote unfortunately as I've only just seen this.  I lost my job because of the lockdown whic… https://t.co/LP8trzyPsH\",\n",
              " \"I feel like I need a whole week off to rest and fix my mental health. I'm really struggling at the moment.\\n\\nOne up-… https://t.co/kA9Cqa8Vu7\",\n",
              " 'Melbourne residents in coronavirus hard lockdown fear a lack of access to mental health and addiction services… https://t.co/zRVpZoVZkP',\n",
              " 'when the lockdown began, I finally started Focusing on myself. my mental health became better. i used to wake up ha… https://t.co/uxVFqRIwGC',\n",
              " 'AGPA member and 2019 Harold Bernard Training Award Recipient Dr. Judith Coche was quoted in The Phliadelphia Inquir… https://t.co/cyzDPReRR4',\n",
              " '@tomhfh Stopped watching BBC since the beginning of lockdown and I have to confess, I feel so much better now.  Nex… https://t.co/MjkA1UEP5D',\n",
              " 'How to manage your mental health and anxiety as lockdown lifts. Worried about the new normal? You are not alone. Ne… https://t.co/EiIeu7ggxj',\n",
              " 'Addiction and mental health concerns rise for people in coronavirus tower lockdown https://t.co/ZlEt554c5p',\n",
              " 'Lost another 3 pounds. Really happy as I was so worried that my mental health would deteriorate during lockdown wit… https://t.co/SFFsPCydp8',\n",
              " \"@MeikeZane I just felt annoyed!! I guess I'm still feeling the effects of lockdown on my mental health and seeing p… https://t.co/rDMpLQ0DLn\",\n",
              " '@SkyNews Ffs where do you get that figure from? That’s 100/day ! Currently we are below 100/day if we don’t come ou… https://t.co/Pg6sZW1axa',\n",
              " 'lockdown has positively and negatively impacted my mental health',\n",
              " 'Hi @LilyBaileyUK , me and my partner have put together a little lockdown video about the effects of #lockdown on me… https://t.co/9ioJbmil8W',\n",
              " 'Addiction and mental health concerns rise for people in coronavirus tower lockdown https://t.co/4VqBxcG9X3',\n",
              " 'There is nothing in my life that has been as much of a challenge as parenting a teen who already had poor mental he… https://t.co/T0dJGf5ooL',\n",
              " '@ratemyplatenow This shows just how pernicious mental health breakdowns have been during Covid-19 lockdown. This wi… https://t.co/N9bU6JaHJn',\n",
              " 'Addiction and mental health concerns rise for people in tower lockdown https://t.co/4x4iMY2h88',\n",
              " '@DCSSueClarke @lyouansamouth @Visible_Boy We going to emerge from  lockdown with a mental well-being crisis so this… https://t.co/82sc8ZPLgl',\n",
              " 'Even my university is at it. Surveys on mental health and wellbeing, but no mention of physical health, even though… https://t.co/sCE61U01fM',\n",
              " '@lydiaaimee @ZJAyres Thank you :) yes, I feel we need to speak louder than ever especially with lockdown on mental… https://t.co/YXAoCzhQzc',\n",
              " 'To be fair. I really wasn’t trying to lose weight at the beginning. I just needed to control something with lockdow… https://t.co/KPiGrSlSrQ',\n",
              " \"Wanna know something crazy?\\n\\nSince mid-May I've managed 2 uploads on the Another Station, Another Mile channel. Loc… https://t.co/wCrACBZJjx\",\n",
              " 'As another week of homeschooling starts, you may be worrying about the long term effects of Covid-19 and lockdown o… https://t.co/9BwciCnO1K',\n",
              " 'I’m amazed that as much as we have talked about mental health the last few years that people are not taking about t… https://t.co/RARVt1t63r',\n",
              " '@Cumbrian_Carer @simondolan Lockdown has prevented thousands from getting chemo, cancer screening, accessing mental… https://t.co/2P3okFcKjP',\n",
              " 'Two ambulance paramedics stabbed in Wolverhampton. Someone said no goes to work to suffer this much harm. But on th… https://t.co/I4Anij1K4h',\n",
              " '@sportscotland A1. Sport can have a huge role in bringing communities together, reducing isolation and promoting po… https://t.co/3BmaTEuVmH',\n",
              " '3rd post, thoughts this week, friendship, mental health, lockdown ending? #everydaydad #blogging #newblogger… https://t.co/fLJoMevSel',\n",
              " 'A1. Sport brings communities together, breaks social barriers &amp; improves health &amp; mental wellbeing. It’s even more… https://t.co/PVrf5tTlIY',\n",
              " 'A1) Sport will play a massive role whilst we move through the phases of lockdown. Whether it be improving both our… https://t.co/6fwothY76s',\n",
              " '@couchsecurity @AlexBerenson The Houston County Judge, @lenahidalgo  wants the lockdown to be 100% for the indefini… https://t.co/5h9HZylkby',\n",
              " 'Empathy and compassion can provide healing and solace to our beautiful mind in these turbulent times, writes… https://t.co/ZiFGuCreqa',\n",
              " '#sporthour A1: Sport has many benefits incl positive impacts on physical &amp; mental health, and social relationships.… https://t.co/IICpH7HWB3',\n",
              " 'We understand you might feel anxious around lockdown in #Leicester and beyond. We are here for you, with our partne… https://t.co/50gPyvWmWK',\n",
              " '#SportHour | A1 - Sport is a way of life for many people - it helps with physical, mental and emotional health. Sin… https://t.co/VRjAY8nr1B',\n",
              " '⏰💙 \\n\\nA1: Sport will make such a positive impact on Wellbeing &amp; Mental Health following lockdown 💙\\n\\nCheck out the SA… https://t.co/pqyGL2ve5J',\n",
              " 'Thank you for joining us tonight. The Mental Health Foundation have some great info on their website for coming out… https://t.co/cvWrPNRt8y',\n",
              " 'i feel like lockdown has massively affected everyone’s mental health',\n",
              " '@damekellyholmes I’d love to send you a copy of a children’s book I’ve written in lockdown. Yasmine Yogi and Phoebe… https://t.co/nnsVSZo1KP',\n",
              " '@amsELTwell @fabenglishteach @bhrbahar @IPSENSIG Lots on how to teach/learn digitally though I haven’t seen much/an… https://t.co/lJuNHayjeV',\n",
              " 'Canadian mental health remains low even as country reopens from coronavirus lockdown https://t.co/8EBkgLP1RI https://t.co/5t8YDOpuJc',\n",
              " '@HarryJosieGiles And people from other protected characteristics need to be vigilant to this type of skullduggery t… https://t.co/UVDbcxKe6m',\n",
              " '@raj_psyc @bmj_latest @ahimza @DOTW_UK Absolutely YES!\\n\\nAnd this is not a problem for one nation alone.  Perhaps no… https://t.co/AhCQHFFaB6',\n",
              " \"Check out @Delecia_K's vlog  about her mental health during lockdown, growth on YouTube &amp; risking it all to buy a B… https://t.co/6mu3rLbPYp\",\n",
              " '@globalnews It was bound to happen.  Covid + lockdown + protest allowed + still in lockdown + your racist = mental health issues.',\n",
              " 'When I say I love my job i truly and genuinely mean it.. my mental health got so bad over lockdown and can honestly… https://t.co/8MqLYyoc0J',\n",
              " 'Women discuss playing TTRPGs during lockdown.\\n\\n\"If D&amp;D games have shown me anything, it\\'s that problems don\\'t have… https://t.co/ZIsSRrIhRk',\n",
              " '@SmithTarquin It was always because of lockdown. Many of us pointed out the danger to cancer patients and those wit… https://t.co/yWifXw4jkf',\n",
              " 'What are the mental health challenges facing us as we come out of lockdown? #BipolarHour',\n",
              " \"Man. The lockdown is definitely seriously messing up people's mental health. Not a joke. Even for me it's getting s… https://t.co/TXjHNHukOv\",\n",
              " '@SamZComedy @thejtlewis @realDonaldTrump Do some research, bruh! Kids infection rate is next to nothing. Mental hea… https://t.co/LD6lS0UE5n',\n",
              " 'Are you feeling apprehensive about life after lockdown and what it will look like? Read this blog post by our brill… https://t.co/1CKix2iVtr',\n",
              " 'the lovely @LukeCutforth ’s recent video ‘mental health in lockdown’ is truly beautiful and empowering. it was post… https://t.co/1zJ2ycCq3t',\n",
              " 'The easing of lockdown has seen unprecedented referrals in to CAMHS services, at a time when services should be res… https://t.co/e8eXWeD9Rn',\n",
              " \"I've been hearing a lot of people say their mental illness has spiked being in lockdown and I'm here to say,,,, yes… https://t.co/OUSAs929mS\",\n",
              " '\"When I get into bed at night, all I can hear is those phone calls, having to FaceTime my children to tell them the… https://t.co/aixXajwzZm',\n",
              " '@simondolan Not for people with mental health issues..Dementia? Communication via technology had little benefit to… https://t.co/2EentrMjQE',\n",
              " '@cnni So what do the medical experts suggest? Stay in lockdown to prevent Covid spread, regardless of the impact on… https://t.co/BgW1CLvDIx',\n",
              " \"Recently @itvnews ran a feature on us.  Find it here if you didn't catch it!  We are now running some sessions ever… https://t.co/rhd9e302Mb\",\n",
              " \"@manuparida1\\n@vpsbadnore\\n@grewal_sharma\\n@thetribunechd\\nAs India's lockdown ends, a mental health crisis is looming… https://t.co/xjdSrDE85n\",\n",
              " 'People are losing their mind over this lockdown. It’s truly a mental health pandemic as well as a physical one. https://t.co/Bk4IcBiS9y',\n",
              " 'Kashmir, Under Siege and Lockdown, Faces a Mental Health Crisis https://t.co/CSFd6GtUD8',\n",
              " 'If anything needs to be given to the American people, it is free therapy sessions after this covid lockdown. We are… https://t.co/DmZ8KfR0Iq',\n",
              " '@malikhunterr LMFAO whats so fake about this, im not trying to be woke????? sorry that your seeing all this from a… https://t.co/U3JjNXNLMo',\n",
              " 'Lockdown makes your mental health go haywire..anyone next to you could be suffering..even you could be suffering..s… https://t.co/ZQrYaoso4m',\n",
              " '@FlyingMariner @flyingbeast320 @dhruv_rathee Also sir, sit back and think\\nI think lockdown has taken quite a toll u… https://t.co/N805bNHAIG',\n",
              " '@dorithoeee Just did,she said YES there is always hope for the hopeless,but then she also told me that this lockdow… https://t.co/aUiV7sHQv3',\n",
              " 'Coronavirus lockdown lifts: how to take care of your mental health as we enter a ‘new normal’\\n#coronavirus… https://t.co/JNPoLhlMcH',\n",
              " 'Council leader reveals mental health battle during lockdown Cotswold District Council leader Joe Harris said he has… https://t.co/8ElqIw352y',\n",
              " '📣 #NewEpisode\\xa0Lockdown Interview - The arts, relationships and following my cat’s approach with @LomSmith \\n\\nFind th… https://t.co/N3lsFKt02y',\n",
              " 'surprise from my amazing big bro jacob\\U0001f97alil dolly was kept a secret from me for 4 weeks though Jacob wanted to give… https://t.co/MtSvLc1qMz',\n",
              " 'Lockdown has seen the gender gap widen, with women suffering pay cuts, job losses, mental ill health and shoulderin… https://t.co/Om2yEP8Q9D',\n",
              " 'What impact is coronavirus having on your mental health and wellbeing?\\n\\nCan you spare 15 minutes to complete a ques… https://t.co/8HYmWVZjnk',\n",
              " 'Some great advice here on understanding the impact of lockdown on our teens and how to support them plus the chance… https://t.co/7t3ySuzksp',\n",
              " '@DavidAlfieWard While doing your lockdown coffee chats for those with mental health issues, did you find it helped with your own?',\n",
              " '@narendramodi @PMOIndia \\nDear Narendra Modi ji, examination for final semester to be conducted by the end of Septem… https://t.co/GOd1xObRn9',\n",
              " '@isnt_it_red @NHSuk @MattHancock To say nothing of the mental health issues. \\nDomestic violence. \\nThe cognitive dec… https://t.co/aBRJmkhanY',\n",
              " '@MarcKayeXxx @ZaraDuRose @Belle_OHaraXXX @_PrincessOrgana Good to hear. Zara and Belle have done wonders for my men… https://t.co/oB9sooCZa5',\n",
              " 'How are muscle maniacs coping without the gym? Here five fitness fanatics tell us how the continued closure of gyms… https://t.co/JBa2yz7nHX',\n",
              " 'Coronavirus lockdown lifts: how to take care of your mental health as we enter a ‘new normal’ - #mentalhealth… https://t.co/XgBFO6YyKk',\n",
              " 'Interesting article on the mental and physical well being of children when they return to schools. Sports Coach app… https://t.co/EIhYNB6hKi',\n",
              " \"As #lockdown's around Covid-19 around the world begin to ease, how can you keep your mental-health in check and sta… https://t.co/gna9PhqrBZ\",\n",
              " \"As many of us are restricting time outside and social contact, we've provided you with some mental health practices… https://t.co/3MgsHGGkCx\",\n",
              " 'Huge thanks to @MattJamesDeacon talking to the @YouthSportTrust Youth Board tonight and sharing your lockdown journ… https://t.co/c33g9D4chY',\n",
              " \"@quea_ali @wapimaskwa69 Agreed.\\n\\nThough I will say that from what I've read, this guy was in mental distress due to… https://t.co/CX4rryebOF\",\n",
              " \"How parents feel is most often mirrored by children. Research studies are showing that both parents and kids' menta… https://t.co/QQd5HkGXoy\",\n",
              " '@PIBHomeAffairs @PIB_India @HMOIndia @AmitShah @airnewsalerts @DDNewslive Do government really think that children… https://t.co/xTdSqAa7EA',\n",
              " 'One of the perks of our job is to showcase the work of our mentees. Current mentee, @SimonOLeary_, has produced a f… https://t.co/B7acbmUi9J',\n",
              " 'EP160 with super talent @youyve is out now! New album, mental health, living in lockdown and more!  https://t.co/wyel4O277Q',\n",
              " 'Mental health groups report huge surge in numbers of LGBT+ people at risk of suicide during lockdown  https://t.co/NCAVH7czL4',\n",
              " 'Can fully vouch for this!! \\nNot being able to go to gym classes during lockdown has made my mental health so much w… https://t.co/crqvMXrhcO',\n",
              " '@UtdGabee I struggled with my mental health a lot since the lockdown so I just took some time to myself and not bee… https://t.co/goluke8nab',\n",
              " '@AntvisionHD Suicides are way up among white people too. The lockdown has been awful for mental health. It was a huge mistake.',\n",
              " '#Lonely from #lockdown? How pandemic may leave behind a mental health crisis. #Mentalhealth #MentalHealthMatters… https://t.co/Sl6aHRp9gY',\n",
              " 'Throughout lockdown, @k8h123 who is in remission from #APL, has been keeping us updated on her garden and its benef… https://t.co/a15PXkuSRQ',\n",
              " '@MarkCheetham Really worrying that people have kept away like this. I’ve been doing some mental health studies duri… https://t.co/mmlZxKrJD1',\n",
              " 'It’s been a blessing continuing my Artist Residency with @sheffielduni in lockdown... Tonight me &amp; @adrm25 are back… https://t.co/V67vAa98sG',\n",
              " '@PAPYRUS_tweets What are the UK suicide figures since lockdown?  We are hearing very little about the impact on peo… https://t.co/3IVZQLbyHi',\n",
              " 'What’s your #mentalhealth achievement during lockdown? I #HoldMyHandsUp and say that I’m not afraid of money anymor… https://t.co/JkRK1Wm6D7',\n",
              " \"I thought I had lost my love of reading in adulthood bc I didn't have the energy to hold to book. During lockdown I… https://t.co/zTsIDUAWTL\",\n",
              " \"Swimming's the thing I've missed most during lockdown. It's great for my sleep and mental and physical health.\\n\\nBut… https://t.co/WHZWCksoU8\",\n",
              " '@Zer0Suicide What are the UK suicide figures since lockdown?  We are hearing very little about the impact on people… https://t.co/FRHG3yROPi',\n",
              " '\"Engaging and challenging course. I enjoyed taking action, interacting, and it really supported my mental health du… https://t.co/ZlLMoocBza',\n",
              " \"I'm so proud of our guys released during the most difficult few months of lockdown. No access to face 2 face meetin… https://t.co/4AXWqOyUJh\",\n",
              " \"A good read on the different ways COVID-19 is affecting many people's mental health. \\n\\nFor help and support with yo… https://t.co/Jh3fHApLtt\",\n",
              " 'How parents can build a positive mental health environment at home during lockdown https://t.co/WUZsZUOMXd',\n",
              " 'In this lockdown, I am very much worried about my mom’s mental &amp; physical health. She does all household chores sin… https://t.co/A91AVjua7Z',\n",
              " \"Pizza Hut, Wendy's franchisee files for bankruptcy protection\\nhttps://t.co/wrK9xQydDL Wendy's problems may have bee… https://t.co/86xaOuO4Wf\",\n",
              " 'Concerns over impact of lockdown on mental health of schoolchildren https://t.co/4KXkO5qw3z',\n",
              " \"As #lockdown's around Covid-19 around the world begin to ease, how can you keep your mental-health in check and sta… https://t.co/U440rf3bdj\",\n",
              " '66% of Brits credit regular exercise with maintaining their mental health during lockdown with 28% increasing the a… https://t.co/AzOnkDGhga',\n",
              " 'I know it’s difficult sometimes but remember it’s okay to not be okay. My mental health has been a rollercoaster du… https://t.co/SsL97gcTbX',\n",
              " 'things lockdown taught me !! i am not a stressed out person !! my job makes me like this !! i need a job that’s bet… https://t.co/cW1ocIz1r6',\n",
              " 'The lockdown that has been imposed by the #COVIDー19  outbreak has made us think about the importance of mental heal… https://t.co/R0HJ1zHZ4J',\n",
              " 'Been having a tough time of it through lockdown so took a pretty big step today. I don’t post here all that much th… https://t.co/8LJmZAHiiv',\n",
              " 'Catching up on German work has reminded me how much I love learning this language, and that actually doing this wor… https://t.co/mw883igWAv',\n",
              " 'Concerns over impact of lockdown on mental health of schoolchildren https://t.co/50HAdNvPDq',\n",
              " 'Has your mental and emotional health been impacted by lockdown? We discuss this next with @VanessaLouiseM on Drivet… https://t.co/MQLN51bTBr',\n",
              " 'Superdrug launches mental health services partnership in response to impact of lockdown easing https://t.co/Te54o1PPwp #DigitalHealth',\n",
              " 'Concerns over impact of lockdown on mental health of schoolchildren https://t.co/YE9yeRBdK4',\n",
              " '@PhoenixRecipes Human was on antidepressants before the lockdown started - she is not embarrassed to admit this, if… https://t.co/ira2oDIriI',\n",
              " \"@frankcottrell_b @PatienceAgbabi @candygourlay @dannywallace Have you read 'Lucy's Blue Day' by Chris Duke. Mental… https://t.co/08bnFARsj2\",\n",
              " 'Books to read, podcasts to listen to and tips on looking after your mental health. Read the @cables_cameras lockdow… https://t.co/yOgXPKHa4M',\n",
              " '@News24 This lockdown and all the pathetic rules and regs and red tape are causing economic pressure on people and… https://t.co/FlPNNdu802',\n",
              " '@LamandTheGlam Mental Health During Lockdown 💭 https://t.co/jzpAEHy4nM',\n",
              " '@CGIJeddah @airindiain @DrSJaishankar @HardeepSPuri @MOS_MEA @MEAIndia I would like to bring to your attention that… https://t.co/WEvx6d1ddt',\n",
              " '\"The unavailability of adequate study materials, wash-out of actual classes, uncertainty surrounding online exams a… https://t.co/SaKPqTsL2O',\n",
              " '@BlissGirlBlog Hi! My latest post is about mental health during lockdown if your interested ✨💭 https://t.co/jzpAEHy4nM',\n",
              " 'This is an interesting post seen on: Klear Minds\\nFollow link below to the Authors Post &amp; Credits\\n\\nCouple Anxiety: 4… https://t.co/Pp0Xm1gmq8',\n",
              " 'Mr great colleague @RachaelRevesz has no longer got fomo; she’s got foji, fear of joining in https://t.co/rzqEwE1xDZ',\n",
              " \"my city is in a lockdown and my mental health is in shambles, and fyi, mental health is important, if you didn't kn… https://t.co/u6lovWCvot\",\n",
              " '\" Universities and Institutions\" have been allowed to conduct examinations for final term \\n\\nThis is just shitty dec… https://t.co/W0ptn5Tz8i',\n",
              " 'Both surveys were not randomised &amp; limited to the 5 provinces that EE organises in. The 1st revealed the difficult… https://t.co/28k52DQ9tK',\n",
              " '@cosyblogclub Talking Mental Health lockdown edition in my recent post 💭 https://t.co/jzpAEHy4nM',\n",
              " 'Ngl, lockdown is starting to really destroy my mental health now 👋🏼👋🏼',\n",
              " 'Five people share what lockdown has taught them about their mental health, and what they hope to keep up as we ease… https://t.co/fIm52MY7nG',\n",
              " 'Exploring how online cultural content has been beneficial to mental health and wellbeing during the coronavirus loc… https://t.co/ZFlrGBjfCq',\n",
              " '@EnemyBeauty Having space (and particularly outdoor space) gives you better ability to whether something like the l… https://t.co/nC0cwJVku0',\n",
              " 'Back to Work: 19 Practical Tips For Post-Lockdown Mental Health https://t.co/EWffQGa2Zl',\n",
              " '•I did a Sharpe Way Show on March 24th, about the mental health effects of this health and economic crisis.\\n•You ca… https://t.co/o4oXKobrVk',\n",
              " 'Listen live tomorrow to @marknewey talking about the lessons we can learn to improve our mental health during… https://t.co/Fs69OsnrYK',\n",
              " 'I’ve shut down all my relationships in lockdown and focused on my own mental health, toxic shit ain’t it https://t.co/cPBZpXseoW',\n",
              " 'It’s been a blessing continuing my Artist Residency with @sheffielduni in lockdown... Tonight me &amp; @adrm25 are back… https://t.co/qoRdfsQ3Y8',\n",
              " 'Really lovely to be able to take my wee maw out. Lockdown has  been so, so bad for her mental, physical and emotion… https://t.co/VevbEH8dZU',\n",
              " 'Trendspotting: A human touch https://t.co/MX9Zi3qW79 https://t.co/kjCQxvXBYW',\n",
              " 'just a friendly reminder to wear your fucking masks. We would’ve been out of lockdown by now if people actually fol… https://t.co/jRQn02x0cG',\n",
              " \"Let's pray…\\nWe pray for the many men &amp; women in prison struggling with mental health challenges &amp; possibly unable t… https://t.co/KcJhwigbwU\",\n",
              " 'UNLOCKED TESTIMONIAL #2\\n\\n\"Life-hacks from experts. This book, whilst written in the context of COVID-19 Lockdown, i… https://t.co/HvomRGkmjE',\n",
              " 'We are not fit sir being in home lockdown since 5 months. We are not able to study online .or give exam with no pro… https://t.co/fnDNMLqkGV',\n",
              " '@CllrBSilvester @simondolan You have clearly lost your mind during lockdown -  for your own sake speak to your GP A… https://t.co/10ZEiWpyfe',\n",
              " 'Are you aged 13 - 25? Do you make art? When we re-open our building post-lockdown we want our first art exhibition… https://t.co/DwPNfE2KGo',\n",
              " '@girlyswot1956 @poz_woods @Manaxium Absolutely this! My dosage goes up and down according to how my mental health i… https://t.co/q9TgisRHne',\n",
              " '@ecotherapyTed @WillBall12 @rickwahs @mgtmccartney [...] &amp; you better believe I will be watching very carefully as… https://t.co/bpIc294yCs',\n",
              " 'So many cries for help on social media. Lockdown has been really bad on mental health.',\n",
              " 'Lockdown has really affected our mental health huhu https://t.co/xRmrtgGclk',\n",
              " 'Superdrug launches mental health services partnership in response to impact of lockdown easing… https://t.co/atbXtKhRd0',\n",
              " 'Next up @ClaireCNWL, National Mental Health Director for @NHSEngland, discusses some of the feedback they have rece… https://t.co/PQUXIbwXNM',\n",
              " '@mr_hoy94 What he said, lockdown combined with mental health issues is not good. Hopefully now lockdown is easing Tom will get better.',\n",
              " \"As #lockdown's around Covid-19 around the world begin to ease, how can you keep your mental-health in check and sta… https://t.co/xuMmcRTQiy\",\n",
              " \"@STWorg @carolecadwalla @MaibachEd @KHayhoe @MichaelEMann FB, ughh\\U0001f92e I came off of 'deactivate' due to 'lockdown bor… https://t.co/LyHHWjYITR\",\n",
              " '@OPCGhost @MollyJongFast She was in middle of divorce ,believed in Q stuff,this lockdown affected ppl different,she… https://t.co/bQ35h8XWwE',\n",
              " '@JenRoesch @KeeangaYamahtta Please do not forget that people are social and need to move for health. Actually, chil… https://t.co/WhjNuusf5Z',\n",
              " \"As #lockdown's around Covid-19 around the world begin to ease, how can you keep your mental-health in check and sta… https://t.co/fGm4kNtmHV\",\n",
              " 'A mental health charity is encouraging parents to be aware of the signs of mental health issues in children and you… https://t.co/EJEJFzZ6dd',\n",
              " '@mark_mclaughlin @gordonchree @NicolaSturgeon @TomEden11 2/2 eg suicides, lack of NHS treatment, delayed screenings… https://t.co/wZMdxH9ADK',\n",
              " \"Our 'new normal' needs to put #mentalhealth first https://t.co/xFmQGF0sHC\",\n",
              " 'Karen, a service user with lived experience of complex PTSD, anxiety and depression, is now speaking about the impa… https://t.co/fToDTqiesE',\n",
              " \"As #lockdown's around Covid-19 around the world begin to ease, how can you keep your mental-health in check and sta… https://t.co/jws7ZHxHHF\",\n",
              " 'Superdrug launches mental health services partnership in response to impact of lockdown easing… https://t.co/GFLKKFcD3e',\n",
              " '“Back to work: A guide to addressing employee mental health after the lockdown,\" a new ebook. Download your copy he… https://t.co/LEitZeAKhh',\n",
              " 'As we venture into the new normal with lockdown measures easing even further, it is now more important than ever th… https://t.co/ZGuT8HkhgW',\n",
              " 'Reflecting its emphasis on mental health, my first entry in the @commonplace_kfg media literacy toolkit is an illus… https://t.co/QDAeku1IqD',\n",
              " '@slp_95 Mate I lost my job am when lockdown started and honestly it’s been the worst thing for my mental health. Ho… https://t.co/VnKQhfkGtZ',\n",
              " 'If u live alone being in shielded lockdown is same as solitary confinement without the guards to talk to. So bad for mental health.',\n",
              " '@awelshrose @fmwales Zero deaths today from #covid that means all excess deaths are being caused by lockdown.… https://t.co/RFn2jZNJUL',\n",
              " 'Check out my radio segment with @samhuntley_  about the effects of #lockdown on mental health and the important rol… https://t.co/C26y4InEM5',\n",
              " 'Seen a marked increase in the number of suicides coming up while reporting on inquest openings since lockdown. If y… https://t.co/iKUzlx559g',\n",
              " \"As #lockdown's around Covid-19 around the world begin to ease, how can you keep your mental-health in check and sta… https://t.co/a1gmWbyY4V\",\n",
              " 'Empathy and compassion can provide healing and solace to our beautiful mind in these turbulent times, writes… https://t.co/A2U1AbPEsl',\n",
              " 'Trendspotting: A human touch https://t.co/K3DYVOxXNg',\n",
              " 'Trendspotting: A human touch\\nhttps://t.co/B34bTrZq85',\n",
              " 'The lockdown period has seen a change in how we work, socialise and spend our free time.\\n\\nOver the summer we will b… https://t.co/qd90fVVZX6',\n",
              " 'The lockdown period has seen a change in how we work, socialise and spend our free time. Over the summer we will be… https://t.co/J7jKo3AnOx',\n",
              " 'As lockdown continues, the potential for this to impact on our mental health increases. We have a number of links t… https://t.co/v3NPvoFZTC',\n",
              " 'Transitioning Out of Lockdown: Mental Health\\xa0Support https://t.co/0DxAWs1yMN',\n",
              " \"'Britain beyond lockdown is crying out for a new normal' According to @jonathanwatts with leadership communities &amp;… https://t.co/Iyz7Trcv3W\",\n",
              " '“If we harness our skills and use them creatively anything is achievable.” People with learning disabilities, autis… https://t.co/46odYzFjgO',\n",
              " 'Finding the idea of transitioning out of lockdown is causing you anxiety? Have a look at the advice and resources o… https://t.co/7Kr3IcbReJ',\n",
              " \"Small part of me is glad that I haven't been at home during lockdown so my parents didn't see how bad my mental health is\",\n",
              " '@Armando06068113 The lockdown measures in many places are certainly not ideal. They can be quite harmful for those… https://t.co/kdKBXPHXvw',\n",
              " '\"Different groups of people in the UK are experiencing the coronavirus (COVID-19) pandemic and the lockdown very di… https://t.co/D3jPpQ0gFW',\n",
              " 'Lockdown was the worst thing that could have happened for my mental health just as I was getting better... Even get… https://t.co/busn5wayIZ',\n",
              " 'If we harness our skills and use them creatively anything is achievable.” People with learning disabilities, autism… https://t.co/D11B24aOfS',\n",
              " \"'If we harness our skills and use them creatively anything is achievable.'\\n\\nPeople with learning disabilities, auti… https://t.co/M25dX6EKqj\",\n",
              " 'The Covid-19 pandemic and life under lockdown present a unique mental health challenge. \\n\\nHear former London Sport… https://t.co/b7I96RloY3',\n",
              " '“If we harness our skills and use them creatively anything is achievable.” \\n\\nPeople with learning disabilities, aut… https://t.co/h3EkrG4byT',\n",
              " 'I am blessed to have an income and a job at this time however my mental health is on another level 😭 I am not copin… https://t.co/NByvoDLUC8',\n",
              " 'Lockdown easing presents an unprecedented opportunity to destigmatise workplace mental health, says Aiimi:… https://t.co/gsuPo9zjbS',\n",
              " 'How To Manage Your Mental Health During Lockdown - Vital Minds Business Training https://t.co/OOVRTYgHF7 https://t.co/Dume5vx9uQ',\n",
              " 'Superdrug launches mental health services partnership in response to impact of lockdown\\xa0easing https://t.co/GxRbIBqHwa',\n",
              " 'YoungMinds are conducting a survey to better understand how the coronavirus lockdown has impacted your mental healt… https://t.co/Ycc76AQdpj',\n",
              " \"As #lockdown's around Covid-19 around the world begin to ease, how can you keep your mental-health in check and sta… https://t.co/R1Elg4PvVP\",\n",
              " \"Hitting new PBs on all workouts. Training in lockdown has really helped my mental health, and it's a step closer to… https://t.co/5MIjKdvQTP\",\n",
              " '@LaurenyCaton @BloggersHut @cosyblogclub Talking about mental health in lockdown in my latest post 💭 https://t.co/jzpAEHy4nM',\n",
              " \"@jamajestical @ed_son No no! I didn't take it like that and I totally respect your pov! There is a risk, but I genu… https://t.co/e4H3xPc56s\",\n",
              " 'Powerful article on the effects of lockdown on mental health. I think many of us can relate. https://t.co/Khj1DP2Xg5',\n",
              " 'CE of @NHSConfed_MHN @SeanDugganMHN predicts that as the consequences of COVID19 and lockdown begin to bite, an add… https://t.co/B79Fy4mhSZ',\n",
              " 'Cripple the economy, destroy people’s livelihoods, massively impact on people way of life and mental health with th… https://t.co/XKi90HIthv',\n",
              " \"Is it a lazy day or has the lockdown really just deteriorated my mental health? Guess we'll never know \\U0001f929🎉\\U0001f92d\\U0001f92a\",\n",
              " 'Lockdown hasn’t been the best for anybody - but for me I’ve been able to become friends with so many people I’d nev… https://t.co/AsJh1t3tES',\n",
              " '\"I wrote about death a lot: my death, the deaths of my family members and friends, the deaths of people whose names… https://t.co/LbKNNmF4Ta',\n",
              " '@HoCpetitions report recommends @GOVUK extend maternity &amp; parental leave for parents affected by COVID lockdown 👶… https://t.co/YIss5heU7n',\n",
              " 'With the easing of lockdown in Scotland, workplaces are beginning to reopen increasing the importance of discussing… https://t.co/psxZvZYcBv',\n",
              " 'This week, as part of the #CovidWellbeingNI Partnership, we are encouraging parents to be aware of the signs of men… https://t.co/cMKBOlrFCq',\n",
              " \"I've been managing my mental health... okay... for the majority of lockdown it was just anxiety but I am doing okay now 🙏🏽\",\n",
              " '@Superdrug and @myonlinetherap1 have partnered to offer qualified mental health services to people in the UK.\\n\\nhttps://t.co/L9U0TM8H07',\n",
              " \"I've been managing my mental health... okay... for the majority of lockdown but I'm getting to the point where I ju… https://t.co/jMJIqDEuqp\",\n",
              " '@MattHancock You will have more people using the NHS if the government don’t #OpenOurPools, gyms, and sports centre… https://t.co/6ZKFjjbDU6',\n",
              " 'As we all start to get back to a bit of normality remember to look after yourself, Lockdown and isolation may have… https://t.co/SRyxpFX69J',\n",
              " 'FINANCIAL SUPPORT/ MENTAL HEALTH SUPPORT / THEATRE INDUSTRY \\n\\nUPDATED 6 JULY\\n\\nThis page is for anyone in the theatr… https://t.co/GfNA8TGHu2',\n",
              " \"TW weight/\\nFr though this is a good thing as I've lost over 14lbs during lockdown due to mental health reasons and… https://t.co/DP86xiXcYc\",\n",
              " '@joeharrispark Thank you for your honesty and for sharing this Joe. I have also struggled with my mental health dur… https://t.co/d9U601CSU3',\n",
              " 'Meet our newest Young Ambassador Julie Rogers, Read Ella Dove’s brilliant new column, Boosting Mental Health in Loc… https://t.co/tRIbP33Dvi',\n",
              " 'Even as lockdown restrictions begin to ease it is still important we look after our mental health. With that in min… https://t.co/lczoe8WK09',\n",
              " 'Lots of people doing the 25 press ups a day for 25 days for PTSD and mental health which is brilliant. But please d… https://t.co/B2pZVB3LDU',\n",
              " 'Going back was hard, but by coming together we can find a way through this. \\nThe supportive spaces in our unionised… https://t.co/RJwUyYGws0',\n",
              " \"As #lockdown's around Covid-19 around the world begin to ease, how can you keep your mental-health in check and sta… https://t.co/LQNadSqqUK\",\n",
              " \"@GiggsyBlantyre @SkyNewsBreak @LockdownNo Yup, I've been affected by the coronavirus.  \\n\\nI've seen colleagues lose… https://t.co/Q6kBekorU2\",\n",
              " \"New survey up on our website - 'have you taken more care of your own mental health since lockdown started?' head ov… https://t.co/urek1AbtjY\",\n",
              " 'For older people, living under lockdown and dealing with fear for the future can impact their mental health. Read o… https://t.co/oZoQWQy0D9',\n",
              " '3. Make a substantial &amp; urgent investment in youth workers across suburbs experiencing lockdowns to ensure we prote… https://t.co/PsCnuY0bcq',\n",
              " 'Scout leader took own life during lockdown after struggling while not on the go\\n\\nBen Brown, 22, was living with his… https://t.co/3YSlsLBlWj',\n",
              " 'Still so many people not understanding what Art is important. How many of us have been creative during Lockdown and… https://t.co/zJCazCoXyl',\n",
              " 'Lockdown has impacted our mental health &amp; daily activities. Here’s how people with learning disabilities, autism &amp;… https://t.co/8dDwnacotR',\n",
              " '@_TeamKMB Our Management team have increased their knowledge during lockdown with webinars, I am joining a webinar… https://t.co/VWljySrTOa',\n",
              " 'There are clear links between our exposure to green spaces and our mental health. Taking a walk has proved a godsen… https://t.co/KqC4Mj6De5',\n",
              " \"We are delighted to have been invited to write a series of articles for @SecEd_Education Our first article 'SEN stu… https://t.co/ZCLSg9F1JR\",\n",
              " 'Despite lockdown restrictions being lifted, uncertainty remains and feeling anxious about money-related issues is n… https://t.co/IUUxiftqoE',\n",
              " 'Lockdown curfew, job losses, loneliness trigger mental health issues amid corona https://t.co/MLNUKc8LIT',\n",
              " 'The vital health lessons we have learnt during lockdown that we should all carry on with https://t.co/DPS8O4xwUe',\n",
              " 'Our schools knew we would be dealing with declines in mental health due to this lockdown and still decided to go ahead with exams',\n",
              " \"@parlonsrosbif The lockdown definitely contributed to depressive episodes for me too. Social media isn't exactly a… https://t.co/MNKU8e6jwu\",\n",
              " 'On top of allowing ourselves time to rest when we’re unwell, the pandemic has instilled vital behaviours that could… https://t.co/RQQtsgfhjS',\n",
              " '9 ways coaches can look after their athletes mental health during lockdown https://t.co/Xsjm23Us10',\n",
              " 'At YZ45, the mental health of our members is very important. Recent studies have shown that 80% of people… https://t.co/VmzOKTFfoy',\n",
              " \"Help needed: Looking to speak to anyone who's missed playing small-sided football during lockdown, and maybe feels… https://t.co/IaGxNvNCRv\",\n",
              " '@dumphimlove You are a specialist! What I meant is some ppl say people behave too optimistically cause we need  con… https://t.co/FfthQOiD3M',\n",
              " '@drneilstanley @simondolan @LawyerMonthly To get the public behind - the cast will cost in region of 800k plus - ju… https://t.co/ZJNjiU643t',\n",
              " 'eX-detainee “What you are witnessing at the flats is an extension of mandatory detention, unfortunately if the lock… https://t.co/lajD6saXnv',\n",
              " 'Want to know how to support pupil student health after lockdown?  Secure your place at our FREE webinars aimed at e… https://t.co/Ot40BVAKqq',\n",
              " \"Don't forget to take part in our Summer fundraising challenge #GirlsOutGardening!\\n\\nWe're aiming to raise £20k befor… https://t.co/mkOC2u8OWD\",\n",
              " 'a lot has been reported on people working at home during the lockdown and the effects of coronavirus, lockdown itse… https://t.co/T8Axhp7uJ8',\n",
              " 'We spoke about anxiety at the beginning of lockdown in our campaign: Small Talk. We broke it down over the week, an… https://t.co/IxgrUGzJV0',\n",
              " \"As #lockdown's around Covid-19 around the world begin to ease, how can you keep your mental-health in check and sta… https://t.co/8crDYMyca8\",\n",
              " 'Hear from @MindCharity about Mind’s physical activity work.\\n They will also share their thoughts on how the sport &amp;… https://t.co/bF7fOMNR3d',\n",
              " 'Maintaining good mental health can be very difficult in the current climate so we have come up with 3 practical tip… https://t.co/zjdR8z2ffu',\n",
              " 'Lockdown has impacted our mental health &amp; daily activities. Here’s how people with learning disabilities, autism &amp;… https://t.co/z50byIuAZ5',\n",
              " 'Our CEO, Marjorie Wallace, recently appeared in a BBC News report about the impact of lockdown on mental health. https://t.co/9eqT23lilo',\n",
              " 'Re-sharing a post from the past #OldPostLove  How to Protect Mental Health During Lockdown https://t.co/do5yAkYjvp',\n",
              " 'Lockdown has impacted our mental health &amp; daily activities. Here’s how people with learning disabilities, autism &amp;… https://t.co/8d94WImWpK',\n",
              " 'For #HIW2020, we take a look at how you can look after your mental health during lockdown because we all feel alone… https://t.co/TAiE0E3XsB',\n",
              " \"As the world slowly emerges from lockdown, it's important that employee mental wellbeing is still top of your prior… https://t.co/xYaK9ArlMz\",\n",
              " 'Lockdown has impacted our mental health &amp; daily activities. Here’s how people with learning disabilities, autism &amp;… https://t.co/pZdzVI58Ez',\n",
              " \"We invite you to take a moment to read Scott Beecroft's emotive poem about mental health which he penned during loc… https://t.co/qJRQoPjqMn\",\n",
              " 'Finally got some time off for first time this year. Worked at full pelt all through lockdown &amp; seriously starting t… https://t.co/E6CZCdCGuj',\n",
              " 'most likely will be going into lockdown again which means no plans and no school so my mental health will go downhi… https://t.co/2yxRsZl6uG',\n",
              " \"There are, however, small ways to help manage this fear, and we've asked psychologists to share their recommendatio… https://t.co/MxjwSZdBmt\",\n",
              " '@TheSun @LockdownNo @bowelbabe We have lost the 21 year old son of the lady in my life due to this insane lockdown.… https://t.co/yftvn6nFbk',\n",
              " '#ADayInTheLifeOf | A clinical psychologist in Manipur is helping her community cope with distress during the pandem… https://t.co/mYRhV39nsQ',\n",
              " 'On a day of better news for the arts, latest Living Better in Lockdown guest is actor and fellow mental health camp… https://t.co/cNcJhQ2Aqp',\n",
              " '@Variety ..ALL THOSE B*MORON💩s\\nWHO KEEP MOANING ABOUT COVID19 LOCKDOWN \\n&amp; THEIR THEATRE..BEER..HAIR..NAILS\\nTREATMEN… https://t.co/1sW9MswxKJ',\n",
              " 'Greatful to have been working through lockdown but my god I don’t know how much more I can cope. Mental health is at an all time low 🙄',\n",
              " 'So Uhuru knows that during this lockdown period cases of Gender Based Violence and Mental Health issues have increa… https://t.co/eeLjaQTZVB',\n",
              " '@itsmeganross I sent my 6 yr old back as soon as his school opened on June 10. He too is an only child and lockdown… https://t.co/T0IOBIKZzq',\n",
              " 'PAPYRUS is one of several leading charities warning officials about the impact the lockdown will have on mental hea… https://t.co/H95Z1tgr7G',\n",
              " 'What are some important health lessons that you have learnt during the lockdown period? 💆\\u200d♂️\\n\\nhttps://t.co/kQIdU3xMyi',\n",
              " 'The first (socially distant) pub visit of summer ☀️ You have no idea how much my mental health needed this \\U0001f970\\n- \\n-… https://t.co/UJnnHiQPTH',\n",
              " 'I do hope that any extreme behaviour by quarantined or detained people is considered through a health/mental health… https://t.co/OgPOff24SY',\n",
              " '@cropmad In my opinion the price was going to be high either way. There is no end in sight, nor is there a possible… https://t.co/94kZnvlM02',\n",
              " \"Prof Caffo: Italy's @telefonoazzurro offered 24/7 phone &amp; chat line in #lockdown dedicated to children and adolesce… https://t.co/9N3NwyA8L1\",\n",
              " '@TRJForBloggers New mental health post lockdown edition 💭 https://t.co/jzpAEHy4nM',\n",
              " 'Lockdown easing reducing workplace mental health stigmas https://t.co/CbwYQzyeFN',\n",
              " 'Nature can be a great resource to help with your mental health through lockdown. For some inspiration check out the… https://t.co/Ym01xXpyhi',\n",
              " \"@thismorning @Schofe First time in my life I've started to regularly exercise and I can say this let me get through… https://t.co/oi6ptVUQ6e\",\n",
              " \"A mental health crisis is brewing during the UK's COVID-19 lockdown - Business Insider - Business Insider… https://t.co/UauKGb5RWQ\",\n",
              " 'To know more about how you can support your mental health during these challenging times, visit… https://t.co/is4e7IVg0O',\n",
              " 'Chris Norton not on Twitter. @wenotno is but now expanding to #WildShow Facebook group. Mental health issues in loc… https://t.co/xITBwMe8XE',\n",
              " 'What a horrible white woman?\\nSome sick people are truly obsessed with skin colour, they are just abominable people… https://t.co/kXf2ig9hFj',\n",
              " 'Maybe lockdown is getting to him and mental health is affected he could potentially need a few days out with sunshi… https://t.co/8HCoyJJMg5',\n",
              " '@TRJForBloggers Morning! I have a blog post on mental health during lockdown 💭 https://t.co/jzpAEHy4nM',\n",
              " '@bobbyhud @GuidoFawkes Oh yes let’s make sure there a panto and not spend our limited resources on the mental healt… https://t.co/2tEwzIpJzx',\n",
              " 'Something that has helped my mental health through lockdown: discovering @LRDreaming! Their vlogs have offered me s… https://t.co/5AjZz7Urhw',\n",
              " 'If @NicolaSturgeon and @haughey_clare cared about mental health they would not have imposed lockdown on the whole p… https://t.co/gGUqFiCzOd',\n",
              " \"'It does make his day, just to see someone else. It improves our mental health as well. It means that at the end of… https://t.co/0YwBomMqUb\",\n",
              " '@DrMaireadDB @fb_fitz @FineGael Taking teachers from SEN is EXACTLY what will happen.\\n\\nThereby proving that the men… https://t.co/66HhfsTpqK',\n",
              " 'Has the lockdown affected your mental health or caused you unusual levels of stress or anxiety?… https://t.co/FptVI7waAh',\n",
              " '@hswfuk @atpblogforteens @sineadjohnson_ @rossclark2017 @JPBrown5 @purplhydrangea @harleystskin A pleasure. Our Lea… https://t.co/UX6MzXNR61',\n",
              " 'Wild Show on Social media https://t.co/iIZMX4epKj via @YouTube @jonathandaly12 @WenotNo @phonicfm @MariansFm… https://t.co/9D4eepQjXn',\n",
              " '@SCDCNews Thanks to Manning for serving the inmates watermelon on July 4th. It was enjoyed very much. Need more fre… https://t.co/d5A5Yw0SSl',\n",
              " 'WATCH: The former #LoveIsland contestant and NHS doctor gives his views on the current situation: https://t.co/A65LRJ8VZl',\n",
              " \"Opinion: I've no longer got FOMO, I've got fear of joining in. I've realised I need more time to myself https://t.co/LptmxjJDGq\",\n",
              " \"When #coronaphobia turns into #agoraphobia – 'I struggle to even go for a walk' https://t.co/FMJgMBqemR\",\n",
              " \"Mental Health Charity MIND create monthly MIND@work newsletters. \\n\\nJune's edition contains tips on how to manage yo… https://t.co/MmJicWequJ\",\n",
              " 'Loneliness can interrupt your daily life and may even pave the way for more severe mental health issues like anxiet… https://t.co/nomp83kTM1',\n",
              " 'Let Uhuru open bars &amp; churches so that we address our debauchery and avaricious dancing in the eyes of the Lord. Be… https://t.co/9n1FT9q46t',\n",
              " 'Achieving things and feeling better about my body during lockdown has been a big help on my mental health, feeling… https://t.co/zKEHP0PNbK',\n",
              " '\"Who help the helpers?\" \\n\\n\"Children LEARN us\"\\n\\nSchools have remained open throughout lockdown and over the past few… https://t.co/H9EAKKALl3',\n",
              " 'Beautifully said Leigh “we all have mental health” been great to chat in lockdown and thank you for your support of… https://t.co/3bY3T50nn3',\n",
              " 'Yesterday on \"The Nutters Club\" on @NewstalkZB had our first guest back in studio since lockdown! Josh Darby is a s… https://t.co/mKvoD4Ysyn',\n",
              " 'Please join our next OCF webinar, where we will talk to some organisations from the Henley area. We will have a foc… https://t.co/aMAMlmvsM6',\n",
              " 'The @worcester_uni Counselling and Mental Health team has shared some tips about overcoming post-lockdown worries.… https://t.co/vXSJV5niAQ',\n",
              " 'Half Of Construction Businesses Report Employees Experiencing Mental Health Issues\\n\\nhttps://t.co/0fphsEdCeN… https://t.co/Z8EqOJS9fe',\n",
              " 'As lockdown eases but with normality some way off, we spoke to Dr. Mandy Bryon from the hospital’s mental health te… https://t.co/9QGYAEMfVV',\n",
              " 'What impact has lockdown had on the mental health of children and young people? 👪 \\n\\nDr. Mandy Bryon from the hospit… https://t.co/8ZlAXgCTez',\n",
              " 'As businesses reopen post-lockdown, employers have a greater responsibility than ever to look after employees’ phys… https://t.co/W5gLBa8Hax',\n",
              " \"@10NewsFirstMelb @VictoriaPolice No one's talk about lockdown induced mental health issues here!!\",\n",
              " \"It's a privileged and, quite frankly, selfish opinion to have.  Lockdown has thrown me goodness knows how many step… https://t.co/ckoO9BMojx\",\n",
              " 'Daisy Fancourt @Daisy_Fancourt on Psychological and Social Impact of the Pandemic in the UK: Young people, people f… https://t.co/CCvIgHR5YO',\n",
              " 'I am lucky - I work from home, I have a husband, and I can walk in the countryside from my door, but just because y… https://t.co/iyAHzNcGbj',\n",
              " '@rachelparris The government have been cutting funds for arts, music, &amp; education for years yet (along w/ exercise)… https://t.co/y6vOmEMcXB',\n",
              " \"if anyone has mental health weather it's a boy or a girl and you feel lonely please talk to someone. I lost two co-… https://t.co/msGOvm9Xm3\",\n",
              " '@YoungMindsUK are an organisation fighting for young people’s mental health. \\nGo to https://t.co/xGbR7AKPzt to find… https://t.co/etyP0PXtEU',\n",
              " 'Everyone’s mental health was surely tested during lockdown. Happy for those that made it, praying for those still s… https://t.co/8Hh1VVr50p',\n",
              " \"Correct me if I'm wrong but Vic Government are not punishing people locked in the towers, they're protecting you! Y… https://t.co/DbAXi9h6lT\",\n",
              " \"@AlanBixter Mixed debate on the effects of lockdown, for some it's been mental health positive, removing stress/pre… https://t.co/CXBEIyucUV\",\n",
              " 'Victoria isn’t doing too well with Covid cases &amp; again some of us are in lockdown. It’s been half a year already &amp;… https://t.co/6kU1GuOd5p',\n",
              " '@MyRomanceAddict Wow...\\nYes some people in these towers may have addictions, mental health issues, past trauma etc… https://t.co/e9IC86C5t4',\n",
              " 'Wonderful to have Archbishop Justin Welby on a virtual visit to XLP . He was fabulous with the young people talking… https://t.co/PyZuqRIiD8',\n",
              " \"Point where I hardly leave my house anymore. My sleep is none exist (maybe 3 hours a night at best). I'm drinking e… https://t.co/LaXJATDjmB\",\n",
              " 'Our 1st FREE webinar ‘Supporting pupil student wellbeing after lockdown’ takes place at 11am on Wednesday 8th July,… https://t.co/T7xwtIc93H',\n",
              " 'Gardening with my daughter has really helped maintain good mental health for me during this lockdown period. Our fi… https://t.co/yZL1fqLazn',\n",
              " 'Lockdown has had big impacts on many of us from a career point of view. With redundancies and job security big conc… https://t.co/uFbaysKBLr',\n",
              " \"Prof Barry Carpenter from @brookes_edu has created a new curriculum to ease children's return to school after lockd… https://t.co/ETU3e2bFvH\",\n",
              " 'While the risk of a second wave is very real with devastating consequences, some doctors really need to remember th… https://t.co/4WWvuW5bg1',\n",
              " 'Let’s Talk About Mental Health - Lockdown Edition 💭 https://t.co/jzpAEHy4nM @cosyblogclub @BloggersHut… https://t.co/EUlG8kiy6p',\n",
              " 'Wonderful to have @JustinWelby on a virtual visit to  @xlplondon . He was fabulous with the young people talking ab… https://t.co/4kDyNhnjLb',\n",
              " 'Because there are certain elements of lockdown that are well worth continuing with when it eventually lifts, for ou… https://t.co/wHYuCGmHUN',\n",
              " '10 practices to help maintain mental health during lockdown\\n\\nHere are some mental health practices to help you main… https://t.co/X5SIFDueMv',\n",
              " \"As an employer are you prepared to support employees mental health? Something we've championed for years for employ… https://t.co/bc4XhmEwBJ\",\n",
              " 'Monday Thoughts are at your service! Every Monday we will release a video which will cover topics such as spiritual… https://t.co/YYHPaFwGNS',\n",
              " '@Johnny_Crash Lockdown has just gone on too long for some people’s mental health. Poor Toby. Hope he recovers and finds a new-normal.',\n",
              " '@LegendaryEnergy @CEOofGenZ I live in the uk and the number of people who have died from mental health during lockd… https://t.co/6Alu8ZIn2U',\n",
              " 'Weaponising mental health will get you nowhere. Speaking as someone with sever depression and anxiety who’s been in… https://t.co/AwXXijjvpQ',\n",
              " 'Actually fuck lockdown for messing up my mental health that I worked so hard on last year. Fuck being in your own head all of the time 😤',\n",
              " '@Tiffers1973 @5liveSport @RobbieSavage8 @eljonesuk I think mental health with children has been a major issue durin… https://t.co/5gSdEAcuTE',\n",
              " \"Most in #education agree that we were in a 'mental health crisis' before #Lockdown. \\n\\nNow that #exams are cancelled… https://t.co/jXrXDSXK6J\",\n",
              " '\"Everyone is quite agitated; the sad thing is the kids - they don\\'t understand.\"\\n\\n#LISTEN There are major concerns… https://t.co/35DlRgKH9f',\n",
              " 'Networking join us at 6pm this evening where Sinead Trinnaman will be helping everyone to pro tech their mental hea… https://t.co/k7SW6XHyfE',\n",
              " 'There has never been a more important time to talk about our mental health. And with talk of lockdown beginning to… https://t.co/KWwVVg8c0Y',\n",
              " \"Our Director Bernadette joined a conversation on @BBCR4Sunday yesterday about lockdown's impact on children's menta… https://t.co/lyr99RUXlo\",\n",
              " 'Samaritans volunteers in Stoke-on-Trent have received more than 7,000 calls, emails and letters during lockdown – w… https://t.co/X7NV39Ikpc',\n",
              " 'Prior to lockdown we had done a lot of work on removing the stigma around mental health at work and begun to focus… https://t.co/smHHmD6UB8',\n",
              " 'For people with anxiety, lockdown may have been a respite. Sharing this story: \\n\\n#mentalhealthawareness… https://t.co/teema9i5FA',\n",
              " '@elliejoypanic @Hadyn_Clark Likewise in the US, but the curve isnt flattening there. It was a lot crazier in the U.… https://t.co/NJi5FSVjfa',\n",
              " 'Mental health struggles during #Covid19 and #lockdown have been a big talking point but positive responses to this… https://t.co/5KtWCpFDwI',\n",
              " '\"Over half (58%) of under-18s who receive free school meals said their mental health was poor or very poor (vs 41%… https://t.co/mvXUrFUv2m',\n",
              " 'For @GuardianLabs - how I read my way through lockdown and stayed sane (ish) https://t.co/3D9rMVZwVh https://t.co/57T2XLlr60',\n",
              " 'Today as I woke up, Radio 4 was talking about the mental health concerns coming out of lockdown; if you are experie… https://t.co/G2kOiWVQpj',\n",
              " '1.85 million Indian women likely failed to get an abortion in the first 3 months of #lockdown, mostly due to contra… https://t.co/YBRHhLz4rK',\n",
              " 'Student wellbeing: Our #backtoschool 12-page guide offers practical advice/ideas for schools ahead of Sept. How has… https://t.co/yokRcIxkY2',\n",
              " '\"a significantly higher proportion of working age adults (aged 18–65) have experienced poor mental health (46%) dur… https://t.co/r8I3mfQnp1',\n",
              " '#Lockdown #mentalhealth: why do we bottle up our emotions when we know it’s bad for us? https://t.co/mQm7mY9gGG via… https://t.co/BJ7yQtKVdC',\n",
              " 'Coronavirus could cause 35,000 extra UK cancer deaths, experts warn. Now we are starting to see the negative effect… https://t.co/wWPPIlhIvb',\n",
              " 'Lockdown has had negative impacts on mental health and wellbeing for people in the UK.\\n\\nOur research shows that som… https://t.co/mfCx7PguO5',\n",
              " 'Honestly my mental health has taken a battering during this lockdown period. I just pace myself and take each day one at a time.',\n",
              " 'Great to be mentioned in @Independent\\nWe are working on support #women #girls now and planning for the tough weeks… https://t.co/aZLMAXCvTe',\n",
              " '61% of medical &amp; mental health experts said they expected kids to show emotional issues after lockdown, yet 94% of… https://t.co/GxSRJHnqj4',\n",
              " 'With lockdown coming to an end let’s hope all the people who posted how hard it is and how their mental health has… https://t.co/e7UPiwAKP6',\n",
              " 'It is great that Vic #police are getting more #mentalhealth training... But wouldn’t it be more logical to embed… https://t.co/epk7ERouL5',\n",
              " 'Student trauma and wellbeing post-lockdown https://t.co/0gHpZrcCKb  by @amysayer2010 for @SecEd_Education',\n",
              " '@Starwarsfan1974 This lockdown has take a huge room on mental health ... take care',\n",
              " '@Dat1BlackGuy786 @princebjz @baby5donquixote I in the same boat. I use work as a form of social interaction for my… https://t.co/ALLIyHl1u6',\n",
              " '#Mentalhealth #olor https://t.co/tBP5aemPQe Resources to help your children deal with their mental health during th… https://t.co/f3rHbjmt6M',\n",
              " '‘“There is a sense of people being more aware of their health... Our bodies and minds are pretty remarkable at givi… https://t.co/GtGTnrqokP',\n",
              " '“During the lockdown we have been giving support over 7,000 times a day. One in three contacts were about coronavir… https://t.co/gKgt2ggv3u',\n",
              " 'Travelling today + saw #parties throughout #lockdown. We need to think outside the box - instead of giving… https://t.co/jboEosaCiR',\n",
              " \"Police are now patrolling the estates which have been described as little different from 'vertical cruise ships' wh… https://t.co/0HkxEnNJnG\",\n",
              " \"With lockdown I've been quite productive in the 1st half of it.\\n\\nWith myself, work and personal projects. Then I ha… https://t.co/EAx5t7euKr\",\n",
              " 'Prioritise play when schools reopen, say mental health experts https://t.co/s0uTWtOHkz',\n",
              " \"New: Rising concerns for the mental health of 3,000 public housing residents placed into 'hard lockdown' in Melbour… https://t.co/LvvtRKmFDT\",\n",
              " 'Good article about mental health in lockdown. I think a sense of accomplishment supports mental health, as long as… https://t.co/Z9Sfdox1Gt',\n",
              " 'We cannot isolate children from society and disregard their other mental health needs.\\n\\nIt is the failure of the go… https://t.co/lI3tAGWeNT',\n",
              " 'Covid Lockdown \\nJobs Lockdown \\nPeaceful protesters Lockdown \\nHungry families Lockdown \\nMental health appointments Lockdown',\n",
              " 'Mental health groups report huge surge in numbers of LGBT+ people at risk of suicide during lockdown https://t.co/5Hn7GaNzKx',\n",
              " 'Just over 1/3 NZ parkrunners report negative mental health during #COVID19 lockdown, with parkrunners aged 25-34yrs… https://t.co/hbKvOdweQ5',\n",
              " 'We will shortly launch a series on the mental health impacts of the pandemic and the lockdown, as part of our fello… https://t.co/CUJICJyMWY',\n",
              " 'We will shortly launch a series on the mental health impacts of the pandemic and the lockdown, as part of our fello… https://t.co/1xuwI36wOV',\n",
              " 'I’m, not so secretly, both reminiscing on and longing for a #teacher5oclockclub that precedes a day’s work in the c… https://t.co/QmkfdhD5dj',\n",
              " 'Mental health groups report huge surge in numbers of LGBT+ people at risk of suicide during lockdown https://t.co/HprqXVl9il',\n",
              " 'Mental health is on a severe decline worldwide but I’m seeing it first hand here in my own backyard. \\n\\nHow do I kno… https://t.co/qTY4F4Ab1o',\n",
              " 'Many suffer in silence Andile. I really commend your strength to cry out for help, it’s a sign that you’re going to… https://t.co/KmTERnhCAs',\n",
              " 'To make the comments that Hanson made could be very damaging to any person who is confronting both the isolation th… https://t.co/tKZO1lO91V',\n",
              " 'i’m not ready to see how florida’s lockdown sequel is gonna effect my mental health',\n",
              " 'I am beginning to think that the previous lockdown caused some serious mental health issues throughout urban Americ… https://t.co/OowRe4ciLS',\n",
              " '@avtardhanaula @UNICEFIndia @PMOIndia Public-health experts have cautioned that the resultant financial insecurity… https://t.co/BCFNu2WSkJ',\n",
              " \"Most fitness influencers tout the importance of physical health, but @ToneItUp co-founder @KarenaDawn says it's jus… https://t.co/E654Fu0ORs\",\n",
              " 'https://t.co/WYL1cnxCH3 this is the worst most ableist \"advice\" I\\'ve ever seen. \"Eat heathy, exercise and sleep. Th… https://t.co/vJH7ScIRyI',\n",
              " \"Since lockdown began in March, Melbourne's mental health team from The Alfred have seen a 50 per cent increase in c… https://t.co/i1KEmDXnIm\",\n",
              " 'policies that lead to this moment. Were police a bad idea? In this environment, absolutely. But do we actually have… https://t.co/RHFbAWs4SA',\n",
              " '@Frankhaviland Lockdown has clearly not been good for her mental health, but I suspect she may have had a few issues before that!!',\n",
              " 'Would it be weird to make a picture of myself my background as a reminder of how much weight I’ve gained due to my… https://t.co/kdGzEqUHWo',\n",
              " '@steph_harlowe I have 3 kids, 5 year old high IQ son who constantly has to learn 24/7, a 4 year old son and a 2 yea… https://t.co/ltOM57SSNu',\n",
              " 'damn my mental health really went 📉📉📉 ever since lockdown started huh',\n",
              " \"Man this entire Covid/lockdown thing has more than fucked up my mental health. I'm blanked out till further notice. 🙏\",\n",
              " \"Mental health has been affected lately. Let's speak more about it. #pandemic #COVID19 #aftermath #lockdown https://t.co/PRyPGjp9sM\",\n",
              " 'Being isolated during the #pandemic has not been easy for many of us. Mental illnesses are rising due to #COVID19… https://t.co/JDPF7jIjUk',\n",
              " \"@george_t23 @covidliveau There's no way we should all go into lockdown again when those who broke the rules and cas… https://t.co/bPxxiQQeyg\",\n",
              " '1.85mn Indian women likely failed to get an abortion in the first 3 months of #lockdown, mostly due to contraceptiv… https://t.co/85cusEgNBq',\n",
              " \"How To Take Care Of Your Child's Mental Health During Lockdown?\\n\\nRead here: https://t.co/qfKkGZoSgT https://t.co/EgOlqZjZWW\",\n",
              " '@smithsmm My year 9 daughter has been attending online art classes (in addition to maths, science, &amp; computing clas… https://t.co/18W7UHli4C',\n",
              " '@Neoavatara This was predictable from day 1 of the lockdown. The suicide/OD data has been generally ignored here in… https://t.co/OSdDyLin9h',\n",
              " 'Life after coronavirus: as lockdown eases, our ‘new normal’ needs to be one which puts mental health first… https://t.co/KuIh1UB5Zu',\n",
              " '@kristiwelshies @CanArm2011 @cangal21 @zahadoom Have you ever heard of mental health support systems? Those are nee… https://t.co/2tEeBoTQEk',\n",
              " \"We locked down early &amp; hard. Cocooned as a family for the sake of my husband who is v.high risk.  \\n\\nBut we didn't e… https://t.co/Ix7KVLz2mo\",\n",
              " '@NickMcCallum7 Nick, doesn’t this contravene human rights laws of some kind? No fresh air or outdoor play for kids?… https://t.co/CzIHvrbJ3w',\n",
              " 'Minsan, di ko alam if ang OA na nating lahat sa pagqua-quarantine.\\n\\nWe are calling out people, NANG WALANG BASIS.… https://t.co/WXbA02g4Ps',\n",
              " '@myillumind I guess what would interest me would be: \\n1) the journey of your mental health meeting your creativity… https://t.co/weEEAbt5oX',\n",
              " 'i made a post on my private story and private instagram about how i’ve not been feeling good mental health wise thi… https://t.co/oRSyAny36a',\n",
              " '@TheTodayShow @PaulineHansonOz Hey @AllisonLangdon R the the people in the lockdown towers OK after you gave Paulin… https://t.co/PfBEibbRzn',\n",
              " 'There’s an app called Sanity &amp; Self and I’d recommend to anyone who is struggling with their mental health. Think t… https://t.co/uUVdS3pZHR',\n",
              " '@rmayemsinger Alternate take: the lockdown has led to a lot of serious mental health issues around the country, acc… https://t.co/F8LzvaVwms',\n",
              " 'On a related lockdown note - specifically, with respect to kids and their mental health (suicides)... Schools need… https://t.co/eUbpulOOB4',\n",
              " \"Is there a support group for people who's mental health is deteriorating on social media but because we're in a loc… https://t.co/nBmlZRyXCu\",\n",
              " \"@daver0611 Thank you! I find the 'keeping hours' thing endlessly interesting; it took me years to even consider it,… https://t.co/luJOlqQlEG\",\n",
              " 'It is vital that the public health response, to the public housing lockdown in Melbourne, is accompanied by social… https://t.co/kwTDWT8TcW',\n",
              " 'Everyones out here tweeting about all the shit theyv learnt or achieved during lockdown. And I’m just here trying t… https://t.co/9K6xagermx',\n",
              " 'After three months of staying at home, our pre-lockdown lives are unrecognisable.  https://t.co/h63pSq3ZVB',\n",
              " 'My mental health has taken such a nosedive during lockdown. Tried to go shopping, was in the shop for roughly 3 min… https://t.co/A6EUmS6vGQ',\n",
              " 'Mental health groups report huge surge in numbers of LGBT+ people at risk of suicide during lockdown https://t.co/NCAVH7ub9E',\n",
              " \"@HalsallDoug If any #employers are like 2 that cause the #nervousbreakdowns after bereavement and loss then I'd say… https://t.co/tn2UZMdMRL\",\n",
              " 'This lockdown &amp; self quarantine from last 4 months is now taking over my mental health.',\n",
              " \"I'm getting stuff out. You're going to see more writing from me, and a more diverse idea of what I can do. \\n\\nIt's d… https://t.co/9yc7kB2yOA\",\n",
              " 'A recent study reveals 100% of men are Experiencing Mental Health problems during lockdown. Find out more with… https://t.co/SEwU856zeY',\n",
              " 'Oh my word. Thank you, Democrats. Your civil liberties-robbing lockdown policies are making ppl insane!!  You were… https://t.co/9sPxXxTfFC',\n",
              " 'If we didn’t have the arts our mental health would be so much worse through lockdown ... #SaveTheArts',\n",
              " 'Mental health is awful due to all this lockdown stuff. I feel like nothing will ever be the same again and it scares me',\n",
              " '@xierh5 I think you are right my friend, the lockdown surely played a big part on wrecking havoc on some peoples mental health.',\n",
              " '@thekatrinaloos Sorry to hear that! It’s been a really difficult time. My mental health suffered at the start of lo… https://t.co/BPKFTnbwDB',\n",
              " '@opheliabyrne @Pol_Mac_Mathuna The ‘PBP’ gives him a supposed license to talk nonsense. He’d be the first to say lo… https://t.co/DXUbAiuFZ3',\n",
              " '3 Idiots actor Omi Vaidya has opened up about how severely the lockdown has hampered his mental health.\\n\\nhttps://t.co/S9oF7KKyH2',\n",
              " '@MadCornishBiker Are you actually serious? \\nThe lockdown has affected millions, the whole country. Jobs, businesses… https://t.co/Sc1xUkY9BL',\n",
              " 'Without the arts, the world would be a very dark place. The work we artists produce has contributed to the upkeep o… https://t.co/PbLkj1vyrf',\n",
              " '@BreakfastNews Lisa Miller seems to have negative outlooks on everything of a morning, if she wants to help mental… https://t.co/ONhNdaQv6S',\n",
              " '@hollytinsl3y Yay. Lockdown has been hell on my mental health and creativity. But Friday I finally finished my feat… https://t.co/HjhjdLjAzC',\n",
              " 'Brilliant little vid on SD and lockdown as established torture techniques. Impact on mental health is enough to phy… https://t.co/J6kb7K94qs',\n",
              " '@Grizabella86 @Johnbhoy712 @andrewkeates Sorry to hear about that but a balance has to be struck between the risk o… https://t.co/VfbQtOqq3L',\n",
              " 'Lockdown Sex Has Helped Keep Me Sane https://t.co/2KdpVWkyEq via @refinery29uk',\n",
              " '@Paul36804502 @WilliamSheers I have been shielding to support my vulnerable husband.....selfish? I think not..under… https://t.co/6KaH7fQLhB',\n",
              " \"So, if you are on the edge between well and not well in your mental health AND you've been on lockdown AND you been… https://t.co/qBz6sqevNa\",\n",
              " '#Lebanon | In the midst of the #coronavirus lockdown and the economic crisis, the mental health and well-being of m… https://t.co/TuCLQ6v5de',\n",
              " '@BreakfastNews I’d like to highlight that there’s been unexpected benefits to lockdown and these were positive to m… https://t.co/I7KaM31eFL',\n",
              " 'The chat on @bbc5live is interesting. Yes children’s mental health is suffering for having had everything taken awa… https://t.co/Gh44WPhNeh',\n",
              " '@Mandi42775549 Running- I have followed couch to 5k since lockdown and it’s been so good for my physical and mental… https://t.co/0ddURpVkrp',\n",
              " '@TheRussianQueen 1/2 nobody talked about SUICIDE rate going up ⬆, CANCER patients missing their vital appointments,… https://t.co/Y0rmooGdoL',\n",
              " '@yourkdramaqueen i worked in healthcare/ lockdown units for years before the military &amp; this series has truly hit c… https://t.co/R8uGVHCzkH',\n",
              " '#Lockdown #mentalhealth: why do we bottle up our #emotions when we know it’s bad for us? https://t.co/LAAhzxe2HX via @stylistmagazine',\n",
              " \"@shazzax66 @TheRightSideofC Before their time, okay sure.\\nWhat about the wellbeing of the 10's of thousands of peop… https://t.co/3IHcgwREON\",\n",
              " 'What have you painted over lockdown?  Doing something creative every day helps to aid good mental health and emotio… https://t.co/HV4nCE48aJ',\n",
              " '@Keysplice @nzherald Yes our lockdown was OTT as a reaction to not going soon enough and initially not quarantining… https://t.co/SlWlilsYbE',\n",
              " 'BBC Radio Cornwall July 2020: Help with anxiety after lockdown  https://t.co/EbZqZUmCrM',\n",
              " \"@beehartyeah Well I guess I'm a selfish cunt. Lockdown has been a complete failure so I'm not sure why helping my m… https://t.co/FMolbjPXMg\",\n",
              " '8 positive mental health behaviours parents can model during lockdown https://t.co/8vNv0OUwVf',\n",
              " '@stevebristoluk @BristolLive @devisridhar I will look into it. As someone who works around this field and had Covid… https://t.co/pXZ8WYsTuE',\n",
              " 'My kids behaviour has got worse since this lockdown, tantrums and answering back, being cheeky, there bored, cooped… https://t.co/HjNyUv7bMh',\n",
              " '@ElmParkRoyals Really great to hear mate think this lockdown has done some people the world of good including mysel… https://t.co/NCWkDef3Ff',\n",
              " '@RobbieSavage8 Mental health was soooooo important at the beginning of lockdown so we all needed to exercise. What… https://t.co/KaAJgazqBB',\n",
              " '@maz_pangs So important. We were saying today what an impact lockdown has had on our fitness as a family. It needs… https://t.co/Lxk9ji1uiJ',\n",
              " '#Lebanon | In the midst of the #coronavirus lockdown and the economic crisis, the mental health and well-being of m… https://t.co/WHoOcjgPTv',\n",
              " '@IainDale. Pease could you share this tweet. \\nHD Piano have helped with my mental health so much during lockdown. T… https://t.co/vVEd6j25Fm',\n",
              " 'NURTURE YOURSELF WITH NATURE! \\n\\nDURING LOCKDOWN THE ONLY THING THAT KEPT MY MENTAL HEALTH IN CHECK WAS MY DAILY WAL… https://t.co/Lfn5jvXsE3',\n",
              " 'Lockdown: *exists*\\n\\nMy mental health: https://t.co/skuVb4c8C6',\n",
              " '@CWNewser You just decided to do Twitter a public service by doggedly finding all the worst things you could about… https://t.co/Zb9z7aC665',\n",
              " 'People are bottling up mental health issues in lockdown, says research https://t.co/qZqz2bhjve via @MetroUK',\n",
              " 'UK’s mental health has deteriorated during lockdown, says @MindCharity   \\n#MentalHealth #MentalHealthMatters… https://t.co/zbU0jcmeWv',\n",
              " \"A mental health crisis is brewing during the UK's COVID-19 lockdown - Business Insider https://t.co/IFasgn5wJS\",\n",
              " '“I would recommend the course to anyone, even those who are not dealing with any mental health issues”\\n\\nStrong word… https://t.co/uGYnhmXnbQ',\n",
              " \"We've all been told to stay safe during lockdown but don't forget that staying safe includes looking after your men… https://t.co/WmA94A78qb\",\n",
              " 'Man the Lockdown Era was literally the best thing in my whole life, i wanna go back, i hate going out and interacti… https://t.co/tWFolBM7b0',\n",
              " 'Has this lockdown affected anyone else’s mental health or is it just me?🙃',\n",
              " '@KirstieMAllsopp Mental health also matters. Lockdown may have damaged the economy but it has also highlighted prob… https://t.co/0y4l4vK5aW',\n",
              " '@timlovejoy have u listened to any of Mo Gawdats podcasts?He has done quite a number with a theme of silver lining… https://t.co/ddJe84vZW2',\n",
              " 'Being single in a pandemic is tough. The way it affects mental health. You see all these mushy posts of couples spe… https://t.co/gTweO627uH',\n",
              " 'Check out my latest interview where I talk about lockdown, mental health and life growing up.\\n\\nDefinitely worth lis… https://t.co/saA9Iw6L8S',\n",
              " \"This is concerning: 'The report also highlighted the difficulty of providing mental health support to children in l… https://t.co/3j7TAFARBZ\",\n",
              " 'Gotta say I do feel absolutely awful for the people that are finding this pandemic hard on their mental health, the… https://t.co/VQh1mjYMb9',\n",
              " 'Cooing for all whose mental health has been affected by the lockdown 🕊 #Purrs4Peace',\n",
              " \"@yarloidian @LegendaryEnergy It's inevitable to reopen as clearly lockdown put people's mental health down the line… https://t.co/fjgXBR725k\",\n",
              " 'The SecEd Podcast: #Trauma #safeguarding looked after children #mentalhealth #SEND #PupilPremium – our expert panel… https://t.co/rc05UrWUub',\n",
              " 'Maternal 6w check. More important now than ever to ask re mental health. Lockdown has taken away support networks.… https://t.co/y252Ea8ywF',\n",
              " \"@MarkFranklin123 The same, just don't agree with your methods for achieving it and disregard for the effects of pro… https://t.co/IZNkc4kU79\",\n",
              " 'harry sat down with his team and they were thinking of us and our mental health during the lockdown :(( he just wan… https://t.co/uJc7a4Jdla',\n",
              " 'lockdown has really gotten to me .. my mental health really went 📉📉📉',\n",
              " \"t's time for me to spill the tea in my new video that has just gone live and to talk about why I haven't been uploa… https://t.co/7LO0Dokzgo\",\n",
              " 'Lockdown has destroyed my mental health hahaha fun times',\n",
              " 'One in ten of us say lockdown has boosted our mental health and a quarter say their physical health has improved. F… https://t.co/JgZQnTqJla',\n",
              " \"IT'S LIVEEEEE... time for me to spill the tea and talk about why I haven't been uploading on my youtube channel in… https://t.co/JlWECIsTKc\",\n",
              " \"The Covid-19 pandemic has caused immeasurable damage, especially to our mental health, but that doesn't mean we can… https://t.co/ZENvBF9A40\",\n",
              " 'It has been almost six months we are away from the pool now, lockdown has rigorously affected our mental as well as… https://t.co/NOFcsrCHAe',\n",
              " 'Genuinely don’t believe my mental health could survive another lockdown',\n",
              " 'wanted to post a quick message of solidarity for anyone suffering with their mental health during lockdown. you’re… https://t.co/tDSKKHxcfs',\n",
              " \"@gabrieloguda @StateHouseKenya This lockdown has screwed everyone's mental health even little kids are affected.  P… https://t.co/cBEXlIAKj7\",\n",
              " '@BlueGoesMew It’s sad that the mental hospitals and rehab centers don’t really do anything for said person. If said… https://t.co/FDWK4Q9Tcx',\n",
              " '@Spinglespot @RealDeniseWelch I don’t think opening at all was a good idea. As much as our health is important so i… https://t.co/xEvpj6TsoN',\n",
              " 'How is my mental health in lockdown? Much better now 😊 !!!\\n\\n#ride #bicycle #mtb @Strava #track #sunday #road #cycle… https://t.co/MyG099aXCT',\n",
              " 'in hindsight, those days were needed. I’ve got a whole new grip on my mental health and I wouldn’t have acquired th… https://t.co/wxV7zsGwHT',\n",
              " '@NatashaFatah I think the main issue is humans are social beings. \\nMany a study prove isolated living is detrimenta… https://t.co/fK1lBkXjjG',\n",
              " '@Kevin_Nichol I think lockdown and takeover saga has destroyed fellow geordies mental health',\n",
              " \"Today, I took a long walk to the lake, swam with my dog, had ice cream, and did the laundry!\\nOpinion: I've no longe… https://t.co/2Y4NzkXbS6\",\n",
              " 'The vital health lessons we have learnt during lockdown that we should all carry on with https://t.co/5p4WDPUEqP https://t.co/VoD4hETRM1',\n",
              " 'You’re not the only one...\\n\\nI have a short film coming out this week based on Mental health and the effects of lock… https://t.co/7lofYTKds2',\n",
              " 'Day 111 – A Mental Health\\xa0Emergency https://t.co/OP0J8vX0mY',\n",
              " \"I've lost 12 kgs during the lockdown without working out or dieting and I'm so scared. My mental health is fucking… https://t.co/DPSw0eMMQW\",\n",
              " 'Have you had a phone or video consultation about mental health during lock down? What’s your experience? \\n\\nhttps://t.co/46tZb67RfP',\n",
              " '3 months of lockdown with strain on people’s mental health and you’re criticising people for going to a pub when th… https://t.co/NUkiEiTwk1',\n",
              " 'So during lockdown I’ve been back at football, let me tell you I’ve missed it so much, don’t know why I ever stoppe… https://t.co/Te0DAPaZmk',\n",
              " 'Filmed this cute video with @mrskashadavis &amp; @brockmcgillis33 during lockdown, discussing mental health! It’s now u… https://t.co/rvRjCpbNZv',\n",
              " \"So, some of you know. But a lot do not. I'm no longer going to be uploading 2 videos a week. Due to work, lockdown,… https://t.co/M2Ce8dkNwZ\",\n",
              " '@AdamHenson Really nice report on mental health in farming Adam. Interesting to hear the struggles of people in loc… https://t.co/OqLt4fCmOF',\n",
              " 'Life after coronavirus: as lockdown eases, our ‘new normal’ needs to be one which puts mental health first… https://t.co/oOaAGX8Aov',\n",
              " \"@cjsnowdon I thought any mental health crisis might be the result of lockdown, but it's still Cummings Derangement… https://t.co/CzKkrnAC3Z\",\n",
              " \"@BBCNews You do know there's a mental health crisis due to the bad reporting?? If a town has 1 case and another 2 a… https://t.co/G93in2z5dR\",\n",
              " '@galacticxtears Hey ❤️some people don’t understand mental health issues &amp; under lying health conditions so being ar… https://t.co/246r5CD5rq',\n",
              " '@fmwales @WelshGovernment NHS are going to get a bigger problem than Covid. It’ll be a bigger mental health crisis… https://t.co/nciAci19rE',\n",
              " '@MorganJerkins Gut health and mental health 100% connected. I started taking good care of my gut health a decade ag… https://t.co/5BPmnGvTkR',\n",
              " '@rtenews Lockdown .... Lock ins....locked...\\nBe interesting to see statistics on off license sales and prescribed m… https://t.co/rlM0N8ub6A',\n",
              " \"Opinion: I've no longer got FOMO, I've got fear of joining in. I've realised I need more time to myself https://t.co/f4Bf2nA2XH\",\n",
              " '@WalkRunRideShf @theoutdoorcity @JoMaher8 @AndyDouglasGP @movemoresheff @LovetoRide_ @stevehaake @NHSSheffieldCCG… https://t.co/vW0dUoBB3x',\n",
              " 'During lockdown, mental health has declined. People need support. Please sign and share♡\\n\\nhttps://t.co/SinQ8DRdpA',\n",
              " 'Lessons Learnt During Lockdown: How To Care For Our Health And Mental\\xa0Health https://t.co/VY8jpHMdxy',\n",
              " \"February's qualifier was Jemma Hathaway!\\nShe likes to stick words next to one another and see if they hit it off. H… https://t.co/XZJkbtZhX9\",\n",
              " 'So today I completed my (lockdown) #Couchto5K programme. With a busted knee and kidneys issues I thought running as… https://t.co/KUwweqpcbY',\n",
              " '@therealhostman @biscuitsgod @joborg @deembe_ @DHSCgovuk @CMO_England @CMOWales @PHE_uk @publichealthni… https://t.co/kAR49w6HYQ',\n",
              " '•I did a Sharpe Way Show (3/24) about the mental health effects of this health and economic crisis.\\n•You can watch… https://t.co/ux95wafBxv',\n",
              " 'We have spent the entire lockdown period with no plan of other health burdens; NCDs, mental health, infectious dise… https://t.co/IKAigUs88R',\n",
              " 'Stop judging people at the pub this weekend – there are more reasons for supporting local boozers than getting drunk https://t.co/Jorasef9hA',\n",
              " \"Anyone else's lockdown mental health struggling right now? Watching real-time as people are lined up for unnecessar… https://t.co/4qVB5hvmqs\",\n",
              " '\"We cannot afford to look back on the next 10 years as the decade of picking up the pieces and rebuilding trust in… https://t.co/3CTxD1Xg7b',\n",
              " 'Has anyone noticed the excessive amount of mental health, depression commercials pushing meds since the #lockdown b… https://t.co/oytVKXVGPW',\n",
              " \"@lawrseb Not necessarily. I'm practising social distancing, but I would resist a second lockdown, because I think i… https://t.co/d5ooUalKxu\",\n",
              " \"'cos singling out poverty-striken housing estates w/ predominantly new migrants, indigenous folks, &amp; those w/ serio… https://t.co/ZlBZJpqe3R\",\n",
              " 'I was interviewed by @SimonOLeary_ @Sean__Clare @BBCNews along with Ben’s Dad about mental health and suicide durin… https://t.co/XpKOgBiOb2',\n",
              " 'I’ve been on a massive mental health downer since lockdown started... (well, since September but it has started pic… https://t.co/bfAphAQFaQ',\n",
              " 'The vital health lessons we have learnt during lockdown that we should all carry on with https://t.co/UqW7hVen40 https://t.co/RMT034WkbG',\n",
              " '@1ord_lucan @JOHNBUDGIEBIRD You seen all the smart lighting going up everywhere the last few weeks around wolves?So… https://t.co/VUhHnyIlMC',\n",
              " 'Froggy friend from yesterday’s walk in Derwenthaugh Park, Derwent Walk Country Park 🐸🐸\\n\\nI honestly believe walking… https://t.co/LZiLis7ukm',\n",
              " 'My gym @JDGymsLpool was 100% more cleaner then all pubs, before lockdown they put everything in place on social dis… https://t.co/5uXp7I1Qkb',\n",
              " 'Psychedelic Drugs Could Potentially Treat Impending Post-lockdown Mental Health Epidemic $LLY $JNJ https://t.co/lfZSMLA4t7']"
            ]
          },
          "metadata": {
            "tags": []
          },
          "execution_count": 12
        }
      ]
    },
    {
      "cell_type": "code",
      "metadata": {
        "id": "9DVgM5rqTo4A",
        "outputId": "363214c6-58de-4ce0-89e7-3b661e999463",
        "colab": {
          "base_uri": "https://localhost:8080/",
          "height": 71
        }
      },
      "source": [
        "import os\n",
        "import pandas as pd\n",
        "import matplotlib.pyplot as plt\n",
        "import seaborn as sns\n",
        "import itertools\n",
        "import collections\n",
        "\n",
        "import tweepy \n",
        "import nltk\n",
        "from nltk.corpus import stopwords\n",
        "import re\n",
        "import networkx\n",
        "\n",
        "import warnings\n",
        "warnings.filterwarnings(\"ignore\")\n",
        "\n",
        "sns.set(font_scale=1.5)\n",
        "sns.set_style(\"whitegrid\")"
      ],
      "execution_count": null,
      "outputs": [
        {
          "output_type": "stream",
          "text": [
            "/usr/local/lib/python3.6/dist-packages/statsmodels/tools/_testing.py:19: FutureWarning: pandas.util.testing is deprecated. Use the functions in the public API at pandas.testing instead.\n",
            "  import pandas.util.testing as tm\n"
          ],
          "name": "stderr"
        }
      ]
    },
    {
      "cell_type": "code",
      "metadata": {
        "id": "YEoo5S13Touu"
      },
      "source": [
        "def remove_url(txt):\n",
        "\n",
        "\n",
        "    return \" \".join(re.sub(\"([^0-9A-Za-z \\t])|(\\w+:\\/\\/\\S+)\", \"\", txt).split())"
      ],
      "execution_count": null,
      "outputs": []
    },
    {
      "cell_type": "code",
      "metadata": {
        "id": "Wvtmv2wnTopH",
        "outputId": "000b8b73-629e-4fa1-b934-d02eaadaaa07",
        "colab": {
          "base_uri": "https://localhost:8080/",
          "height": 1000
        }
      },
      "source": [
        "all_tweets_no_urls = [remove_url(tweet) for tweet in all_tweets]\n",
        "all_tweets_no_urls"
      ],
      "execution_count": null,
      "outputs": [
        {
          "output_type": "execute_result",
          "data": {
            "text/plain": [
              "['littlestlaura Could it be added stress or something from lockdown and having to adjust to society under coronavir',\n",
              " 'Lockdown has been awful for mental health',\n",
              " 'People are bottling up mental health issues in lockdown says research via MetroUK',\n",
              " 'In observation lockdown has caused many forms of stress impacting on many peoples mental health The sooner we get',\n",
              " 'Where is the DfE guidance on Coping with bereavement Dealing with anxiety Supporting children who have been livi',\n",
              " 'Being a little rodent he wont live a long life but hopefully he is living a happy life with us He certainly mak',\n",
              " 'HeatherWheeler The amount of women that have died during this lockdown the amount of children that are gonna grow',\n",
              " 'If I let go if I was able to breathe out I think I wouldnt have survived I feel traumatised thinking back to day',\n",
              " 'My mental health during lockdown',\n",
              " 'idk if its just lockdown but this is the worst ive ever felt mentally n I honestly dont think my life n mental he',\n",
              " 'Council leader reveals mental health battle during lockdown Gloucester',\n",
              " 'Must read from resident While we have heard announcements of a coordinated effort involving doctors social work',\n",
              " 'Really hope borris and co have planned 2 put more money into mental health as this past few months and lockdown can',\n",
              " 'BenJamesPhotos It really has been such a positive thing We have a big Lockdown Family now who support each oth',\n",
              " 'Addiction and mental health concerns rise for people in coronavirus tower lockdown',\n",
              " 'The Independent Four simple changes to make to improve your mental health in tough timesvia GoogleNews',\n",
              " 'Stylist Magazine Coronavirus lockdown lifts how to take care of your mental health as we enter a new normal',\n",
              " 'Gloucestershire Live Council leader reveals anxiety diagnosis and mental health battle during lockdown',\n",
              " 'GLAMOUR UK Lessons Learnt During Lockdown How To Care For Our Health And Mental Healthvia GoogleNews',\n",
              " 'Can we not go back to that Level 0 where crushing the maximum amount of people into the smallest possible space is',\n",
              " 'I really hope that as a society we dont go back to the overwhelming pressures we created around both work and soci',\n",
              " 'My mental health has been rough lately Ive been sad Experiencing lots of imposter syndrome Second guessing myse',\n",
              " 'School have let me down so much since lockdown started Id speak to someone 2 times a week about stuff going on a',\n",
              " 'Melbourne residents in coronavirus hard lockdown fear a lack of access to mental health and addiction services AB',\n",
              " 'BBCNews The Govt better lookout they abused all our rights by introducing Lockdown amp creating mental health problems for many ppl',\n",
              " 'FrDidymus I missed the vote unfortunately as Ive only just seen this I lost my job because of the lockdown whic',\n",
              " 'I feel like I need a whole week off to rest and fix my mental health Im really struggling at the momentOne up',\n",
              " 'Melbourne residents in coronavirus hard lockdown fear a lack of access to mental health and addiction services',\n",
              " 'when the lockdown began I finally started Focusing on myself my mental health became better i used to wake up ha',\n",
              " 'AGPA member and 2019 Harold Bernard Training Award Recipient Dr Judith Coche was quoted in The Phliadelphia Inquir',\n",
              " 'tomhfh Stopped watching BBC since the beginning of lockdown and I have to confess I feel so much better now Nex',\n",
              " 'How to manage your mental health and anxiety as lockdown lifts Worried about the new normal You are not alone Ne',\n",
              " 'Addiction and mental health concerns rise for people in coronavirus tower lockdown',\n",
              " 'Lost another 3 pounds Really happy as I was so worried that my mental health would deteriorate during lockdown wit',\n",
              " 'MeikeZane I just felt annoyed I guess Im still feeling the effects of lockdown on my mental health and seeing p',\n",
              " 'SkyNews Ffs where do you get that figure from Thats 100day Currently we are below 100day if we dont come ou',\n",
              " 'lockdown has positively and negatively impacted my mental health',\n",
              " 'Hi LilyBaileyUK me and my partner have put together a little lockdown video about the effects of lockdown on me',\n",
              " 'Addiction and mental health concerns rise for people in coronavirus tower lockdown',\n",
              " 'There is nothing in my life that has been as much of a challenge as parenting a teen who already had poor mental he',\n",
              " 'ratemyplatenow This shows just how pernicious mental health breakdowns have been during Covid19 lockdown This wi',\n",
              " 'Addiction and mental health concerns rise for people in tower lockdown',\n",
              " 'DCSSueClarke lyouansamouth VisibleBoy We going to emerge from lockdown with a mental wellbeing crisis so this',\n",
              " 'Even my university is at it Surveys on mental health and wellbeing but no mention of physical health even though',\n",
              " 'lydiaaimee ZJAyres Thank you yes I feel we need to speak louder than ever especially with lockdown on mental',\n",
              " 'To be fair I really wasnt trying to lose weight at the beginning I just needed to control something with lockdow',\n",
              " 'Wanna know something crazySince midMay Ive managed 2 uploads on the Another Station Another Mile channel Loc',\n",
              " 'As another week of homeschooling starts you may be worrying about the long term effects of Covid19 and lockdown o',\n",
              " 'Im amazed that as much as we have talked about mental health the last few years that people are not taking about t',\n",
              " 'CumbrianCarer simondolan Lockdown has prevented thousands from getting chemo cancer screening accessing mental',\n",
              " 'Two ambulance paramedics stabbed in Wolverhampton Someone said no goes to work to suffer this much harm But on th',\n",
              " 'sportscotland A1 Sport can have a huge role in bringing communities together reducing isolation and promoting po',\n",
              " '3rd post thoughts this week friendship mental health lockdown ending everydaydad blogging newblogger',\n",
              " 'A1 Sport brings communities together breaks social barriers amp improves health amp mental wellbeing Its even more',\n",
              " 'A1 Sport will play a massive role whilst we move through the phases of lockdown Whether it be improving both our',\n",
              " 'couchsecurity AlexBerenson The Houston County Judge lenahidalgo wants the lockdown to be 100 for the indefini',\n",
              " 'Empathy and compassion can provide healing and solace to our beautiful mind in these turbulent times writes',\n",
              " 'sporthour A1 Sport has many benefits incl positive impacts on physical amp mental health and social relationships',\n",
              " 'We understand you might feel anxious around lockdown in Leicester and beyond We are here for you with our partne',\n",
              " 'SportHour A1 Sport is a way of life for many people it helps with physical mental and emotional health Sin',\n",
              " 'A1 Sport will make such a positive impact on Wellbeing amp Mental Health following lockdown Check out the SA',\n",
              " 'Thank you for joining us tonight The Mental Health Foundation have some great info on their website for coming out',\n",
              " 'i feel like lockdown has massively affected everyones mental health',\n",
              " 'damekellyholmes Id love to send you a copy of a childrens book Ive written in lockdown Yasmine Yogi and Phoebe',\n",
              " 'amsELTwell fabenglishteach bhrbahar IPSENSIG Lots on how to teachlearn digitally though I havent seen muchan',\n",
              " 'Canadian mental health remains low even as country reopens from coronavirus lockdown',\n",
              " 'HarryJosieGiles And people from other protected characteristics need to be vigilant to this type of skullduggery t',\n",
              " 'rajpsyc bmjlatest ahimza DOTWUK Absolutely YESAnd this is not a problem for one nation alone Perhaps no',\n",
              " 'Check out DeleciaKs vlog about her mental health during lockdown growth on YouTube amp risking it all to buy a B',\n",
              " 'globalnews It was bound to happen Covid lockdown protest allowed still in lockdown your racist mental health issues',\n",
              " 'When I say I love my job i truly and genuinely mean it my mental health got so bad over lockdown and can honestly',\n",
              " 'Women discuss playing TTRPGs during lockdownIf DampD games have shown me anything its that problems dont have',\n",
              " 'SmithTarquin It was always because of lockdown Many of us pointed out the danger to cancer patients and those wit',\n",
              " 'What are the mental health challenges facing us as we come out of lockdown BipolarHour',\n",
              " 'Man The lockdown is definitely seriously messing up peoples mental health Not a joke Even for me its getting s',\n",
              " 'SamZComedy thejtlewis realDonaldTrump Do some research bruh Kids infection rate is next to nothing Mental hea',\n",
              " 'Are you feeling apprehensive about life after lockdown and what it will look like Read this blog post by our brill',\n",
              " 'the lovely LukeCutforth s recent video mental health in lockdown is truly beautiful and empowering it was post',\n",
              " 'The easing of lockdown has seen unprecedented referrals in to CAMHS services at a time when services should be res',\n",
              " 'Ive been hearing a lot of people say their mental illness has spiked being in lockdown and Im here to say yes',\n",
              " 'When I get into bed at night all I can hear is those phone calls having to FaceTime my children to tell them the',\n",
              " 'simondolan Not for people with mental health issuesDementia Communication via technology had little benefit to',\n",
              " 'cnni So what do the medical experts suggest Stay in lockdown to prevent Covid spread regardless of the impact on',\n",
              " 'Recently itvnews ran a feature on us Find it here if you didnt catch it We are now running some sessions ever',\n",
              " 'manuparida1vpsbadnoregrewalsharmathetribunechdAs Indias lockdown ends a mental health crisis is looming',\n",
              " 'People are losing their mind over this lockdown Its truly a mental health pandemic as well as a physical one',\n",
              " 'Kashmir Under Siege and Lockdown Faces a Mental Health Crisis',\n",
              " 'If anything needs to be given to the American people it is free therapy sessions after this covid lockdown We are',\n",
              " 'malikhunterr LMFAO whats so fake about this im not trying to be woke sorry that your seeing all this from a',\n",
              " 'Lockdown makes your mental health go haywireanyone next to you could be sufferingeven you could be sufferings',\n",
              " 'FlyingMariner flyingbeast320 dhruvrathee Also sir sit back and thinkI think lockdown has taken quite a toll u',\n",
              " 'dorithoeee Just didshe said YES there is always hope for the hopelessbut then she also told me that this lockdow',\n",
              " 'Coronavirus lockdown lifts how to take care of your mental health as we enter a new normalcoronavirus',\n",
              " 'Council leader reveals mental health battle during lockdown Cotswold District Council leader Joe Harris said he has',\n",
              " 'NewEpisodeLockdown Interview The arts relationships and following my cats approach with LomSmith Find th',\n",
              " 'surprise from my amazing big bro jacoblil dolly was kept a secret from me for 4 weeks though Jacob wanted to give',\n",
              " 'Lockdown has seen the gender gap widen with women suffering pay cuts job losses mental ill health and shoulderin',\n",
              " 'What impact is coronavirus having on your mental health and wellbeingCan you spare 15 minutes to complete a ques',\n",
              " 'Some great advice here on understanding the impact of lockdown on our teens and how to support them plus the chance',\n",
              " 'DavidAlfieWard While doing your lockdown coffee chats for those with mental health issues did you find it helped with your own',\n",
              " 'narendramodi PMOIndia Dear Narendra Modi ji examination for final semester to be conducted by the end of Septem',\n",
              " 'isntitred NHSuk MattHancock To say nothing of the mental health issues Domestic violence The cognitive dec',\n",
              " 'MarcKayeXxx ZaraDuRose BelleOHaraXXX PrincessOrgana Good to hear Zara and Belle have done wonders for my men',\n",
              " 'How are muscle maniacs coping without the gym Here five fitness fanatics tell us how the continued closure of gyms',\n",
              " 'Coronavirus lockdown lifts how to take care of your mental health as we enter a new normal mentalhealth',\n",
              " 'Interesting article on the mental and physical well being of children when they return to schools Sports Coach app',\n",
              " 'As lockdowns around Covid19 around the world begin to ease how can you keep your mentalhealth in check and sta',\n",
              " 'As many of us are restricting time outside and social contact weve provided you with some mental health practices',\n",
              " 'Huge thanks to MattJamesDeacon talking to the YouthSportTrust Youth Board tonight and sharing your lockdown journ',\n",
              " 'queaali wapimaskwa69 AgreedThough I will say that from what Ive read this guy was in mental distress due to',\n",
              " 'How parents feel is most often mirrored by children Research studies are showing that both parents and kids menta',\n",
              " 'PIBHomeAffairs PIBIndia HMOIndia AmitShah airnewsalerts DDNewslive Do government really think that children',\n",
              " 'One of the perks of our job is to showcase the work of our mentees Current mentee SimonOLeary has produced a f',\n",
              " 'EP160 with super talent youyve is out now New album mental health living in lockdown and more',\n",
              " 'Mental health groups report huge surge in numbers of LGBT people at risk of suicide during lockdown',\n",
              " 'Can fully vouch for this Not being able to go to gym classes during lockdown has made my mental health so much w',\n",
              " 'UtdGabee I struggled with my mental health a lot since the lockdown so I just took some time to myself and not bee',\n",
              " 'AntvisionHD Suicides are way up among white people too The lockdown has been awful for mental health It was a huge mistake',\n",
              " 'Lonely from lockdown How pandemic may leave behind a mental health crisis Mentalhealth MentalHealthMatters',\n",
              " 'Throughout lockdown k8h123 who is in remission from APL has been keeping us updated on her garden and its benef',\n",
              " 'MarkCheetham Really worrying that people have kept away like this Ive been doing some mental health studies duri',\n",
              " 'Its been a blessing continuing my Artist Residency with sheffielduni in lockdown Tonight me amp adrm25 are back',\n",
              " 'PAPYRUStweets What are the UK suicide figures since lockdown We are hearing very little about the impact on peo',\n",
              " 'Whats your mentalhealth achievement during lockdown I HoldMyHandsUp and say that Im not afraid of money anymor',\n",
              " 'I thought I had lost my love of reading in adulthood bc I didnt have the energy to hold to book During lockdown I',\n",
              " 'Swimmings the thing Ive missed most during lockdown Its great for my sleep and mental and physical healthBut',\n",
              " 'Zer0Suicide What are the UK suicide figures since lockdown We are hearing very little about the impact on people',\n",
              " 'Engaging and challenging course I enjoyed taking action interacting and it really supported my mental health du',\n",
              " 'Im so proud of our guys released during the most difficult few months of lockdown No access to face 2 face meetin',\n",
              " 'A good read on the different ways COVID19 is affecting many peoples mental health For help and support with yo',\n",
              " 'How parents can build a positive mental health environment at home during lockdown',\n",
              " 'In this lockdown I am very much worried about my moms mental amp physical health She does all household chores sin',\n",
              " 'Pizza Hut Wendys franchisee files for bankruptcy protection Wendys problems may have bee',\n",
              " 'Concerns over impact of lockdown on mental health of schoolchildren',\n",
              " 'As lockdowns around Covid19 around the world begin to ease how can you keep your mentalhealth in check and sta',\n",
              " '66 of Brits credit regular exercise with maintaining their mental health during lockdown with 28 increasing the a',\n",
              " 'I know its difficult sometimes but remember its okay to not be okay My mental health has been a rollercoaster du',\n",
              " 'things lockdown taught me i am not a stressed out person my job makes me like this i need a job thats bet',\n",
              " 'The lockdown that has been imposed by the COVID19 outbreak has made us think about the importance of mental heal',\n",
              " 'Been having a tough time of it through lockdown so took a pretty big step today I dont post here all that much th',\n",
              " 'Catching up on German work has reminded me how much I love learning this language and that actually doing this wor',\n",
              " 'Concerns over impact of lockdown on mental health of schoolchildren',\n",
              " 'Has your mental and emotional health been impacted by lockdown We discuss this next with VanessaLouiseM on Drivet',\n",
              " 'Superdrug launches mental health services partnership in response to impact of lockdown easing DigitalHealth',\n",
              " 'Concerns over impact of lockdown on mental health of schoolchildren',\n",
              " 'PhoenixRecipes Human was on antidepressants before the lockdown started she is not embarrassed to admit this if',\n",
              " 'frankcottrellb PatienceAgbabi candygourlay dannywallace Have you read Lucys Blue Day by Chris Duke Mental',\n",
              " 'Books to read podcasts to listen to and tips on looking after your mental health Read the cablescameras lockdow',\n",
              " 'News24 This lockdown and all the pathetic rules and regs and red tape are causing economic pressure on people and',\n",
              " 'LamandTheGlam Mental Health During Lockdown',\n",
              " 'CGIJeddah airindiain DrSJaishankar HardeepSPuri MOSMEA MEAIndia I would like to bring to your attention that',\n",
              " 'The unavailability of adequate study materials washout of actual classes uncertainty surrounding online exams a',\n",
              " 'BlissGirlBlog Hi My latest post is about mental health during lockdown if your interested',\n",
              " 'This is an interesting post seen on Klear MindsFollow link below to the Authors Post amp CreditsCouple Anxiety 4',\n",
              " 'Mr great colleague RachaelRevesz has no longer got fomo shes got foji fear of joining in',\n",
              " 'my city is in a lockdown and my mental health is in shambles and fyi mental health is important if you didnt kn',\n",
              " 'Universities and Institutions have been allowed to conduct examinations for final term This is just shitty dec',\n",
              " 'Both surveys were not randomised amp limited to the 5 provinces that EE organises in The 1st revealed the difficult',\n",
              " 'cosyblogclub Talking Mental Health lockdown edition in my recent post',\n",
              " 'Ngl lockdown is starting to really destroy my mental health now',\n",
              " 'Five people share what lockdown has taught them about their mental health and what they hope to keep up as we ease',\n",
              " 'Exploring how online cultural content has been beneficial to mental health and wellbeing during the coronavirus loc',\n",
              " 'EnemyBeauty Having space and particularly outdoor space gives you better ability to whether something like the l',\n",
              " 'Back to Work 19 Practical Tips For PostLockdown Mental Health',\n",
              " 'I did a Sharpe Way Show on March 24th about the mental health effects of this health and economic crisisYou ca',\n",
              " 'Listen live tomorrow to marknewey talking about the lessons we can learn to improve our mental health during',\n",
              " 'Ive shut down all my relationships in lockdown and focused on my own mental health toxic shit aint it',\n",
              " 'Its been a blessing continuing my Artist Residency with sheffielduni in lockdown Tonight me amp adrm25 are back',\n",
              " 'Really lovely to be able to take my wee maw out Lockdown has been so so bad for her mental physical and emotion',\n",
              " 'Trendspotting A human touch',\n",
              " 'just a friendly reminder to wear your fucking masks We wouldve been out of lockdown by now if people actually fol',\n",
              " 'Lets prayWe pray for the many men amp women in prison struggling with mental health challenges amp possibly unable t',\n",
              " 'UNLOCKED TESTIMONIAL 2Lifehacks from experts This book whilst written in the context of COVID19 Lockdown i',\n",
              " 'We are not fit sir being in home lockdown since 5 months We are not able to study online or give exam with no pro',\n",
              " 'CllrBSilvester simondolan You have clearly lost your mind during lockdown for your own sake speak to your GP A',\n",
              " 'Are you aged 13 25 Do you make art When we reopen our building postlockdown we want our first art exhibition',\n",
              " 'girlyswot1956 pozwoods Manaxium Absolutely this My dosage goes up and down according to how my mental health i',\n",
              " 'ecotherapyTed WillBall12 rickwahs mgtmccartney amp you better believe I will be watching very carefully as',\n",
              " 'So many cries for help on social media Lockdown has been really bad on mental health',\n",
              " 'Lockdown has really affected our mental health huhu',\n",
              " 'Superdrug launches mental health services partnership in response to impact of lockdown easing',\n",
              " 'Next up ClaireCNWL National Mental Health Director for NHSEngland discusses some of the feedback they have rece',\n",
              " 'mrhoy94 What he said lockdown combined with mental health issues is not good Hopefully now lockdown is easing Tom will get better',\n",
              " 'As lockdowns around Covid19 around the world begin to ease how can you keep your mentalhealth in check and sta',\n",
              " 'STWorg carolecadwalla MaibachEd KHayhoe MichaelEMann FB ughh I came off of deactivate due to lockdown bor',\n",
              " 'OPCGhost MollyJongFast She was in middle of divorce believed in Q stuffthis lockdown affected ppl differentshe',\n",
              " 'JenRoesch KeeangaYamahtta Please do not forget that people are social and need to move for health Actually chil',\n",
              " 'As lockdowns around Covid19 around the world begin to ease how can you keep your mentalhealth in check and sta',\n",
              " 'A mental health charity is encouraging parents to be aware of the signs of mental health issues in children and you',\n",
              " 'markmclaughlin gordonchree NicolaSturgeon TomEden11 22 eg suicides lack of NHS treatment delayed screenings',\n",
              " 'Our new normal needs to put mentalhealth first',\n",
              " 'Karen a service user with lived experience of complex PTSD anxiety and depression is now speaking about the impa',\n",
              " 'As lockdowns around Covid19 around the world begin to ease how can you keep your mentalhealth in check and sta',\n",
              " 'Superdrug launches mental health services partnership in response to impact of lockdown easing',\n",
              " 'Back to work A guide to addressing employee mental health after the lockdown a new ebook Download your copy he',\n",
              " 'As we venture into the new normal with lockdown measures easing even further it is now more important than ever th',\n",
              " 'Reflecting its emphasis on mental health my first entry in the commonplacekfg media literacy toolkit is an illus',\n",
              " 'slp95 Mate I lost my job am when lockdown started and honestly its been the worst thing for my mental health Ho',\n",
              " 'If u live alone being in shielded lockdown is same as solitary confinement without the guards to talk to So bad for mental health',\n",
              " 'awelshrose fmwales Zero deaths today from covid that means all excess deaths are being caused by lockdown',\n",
              " 'Check out my radio segment with samhuntley about the effects of lockdown on mental health and the important rol',\n",
              " 'Seen a marked increase in the number of suicides coming up while reporting on inquest openings since lockdown If y',\n",
              " 'As lockdowns around Covid19 around the world begin to ease how can you keep your mentalhealth in check and sta',\n",
              " 'Empathy and compassion can provide healing and solace to our beautiful mind in these turbulent times writes',\n",
              " 'Trendspotting A human touch',\n",
              " 'Trendspotting A human touch',\n",
              " 'The lockdown period has seen a change in how we work socialise and spend our free timeOver the summer we will b',\n",
              " 'The lockdown period has seen a change in how we work socialise and spend our free time Over the summer we will be',\n",
              " 'As lockdown continues the potential for this to impact on our mental health increases We have a number of links t',\n",
              " 'Transitioning Out of Lockdown Mental HealthSupport',\n",
              " 'Britain beyond lockdown is crying out for a new normal According to jonathanwatts with leadership communities amp',\n",
              " 'If we harness our skills and use them creatively anything is achievable People with learning disabilities autis',\n",
              " 'Finding the idea of transitioning out of lockdown is causing you anxiety Have a look at the advice and resources o',\n",
              " 'Small part of me is glad that I havent been at home during lockdown so my parents didnt see how bad my mental health is',\n",
              " 'Armando06068113 The lockdown measures in many places are certainly not ideal They can be quite harmful for those',\n",
              " 'Different groups of people in the UK are experiencing the coronavirus COVID19 pandemic and the lockdown very di',\n",
              " 'Lockdown was the worst thing that could have happened for my mental health just as I was getting better Even get',\n",
              " 'If we harness our skills and use them creatively anything is achievable People with learning disabilities autism',\n",
              " 'If we harness our skills and use them creatively anything is achievablePeople with learning disabilities auti',\n",
              " 'The Covid19 pandemic and life under lockdown present a unique mental health challenge Hear former London Sport',\n",
              " 'If we harness our skills and use them creatively anything is achievable People with learning disabilities aut',\n",
              " 'I am blessed to have an income and a job at this time however my mental health is on another level I am not copin',\n",
              " 'Lockdown easing presents an unprecedented opportunity to destigmatise workplace mental health says Aiimi',\n",
              " 'How To Manage Your Mental Health During Lockdown Vital Minds Business Training',\n",
              " 'Superdrug launches mental health services partnership in response to impact of lockdowneasing',\n",
              " 'YoungMinds are conducting a survey to better understand how the coronavirus lockdown has impacted your mental healt',\n",
              " 'As lockdowns around Covid19 around the world begin to ease how can you keep your mentalhealth in check and sta',\n",
              " 'Hitting new PBs on all workouts Training in lockdown has really helped my mental health and its a step closer to',\n",
              " 'LaurenyCaton BloggersHut cosyblogclub Talking about mental health in lockdown in my latest post',\n",
              " 'jamajestical edson No no I didnt take it like that and I totally respect your pov There is a risk but I genu',\n",
              " 'Powerful article on the effects of lockdown on mental health I think many of us can relate',\n",
              " 'CE of NHSConfedMHN SeanDugganMHN predicts that as the consequences of COVID19 and lockdown begin to bite an add',\n",
              " 'Cripple the economy destroy peoples livelihoods massively impact on people way of life and mental health with th',\n",
              " 'Is it a lazy day or has the lockdown really just deteriorated my mental health Guess well never know',\n",
              " 'Lockdown hasnt been the best for anybody but for me Ive been able to become friends with so many people Id nev',\n",
              " 'I wrote about death a lot my death the deaths of my family members and friends the deaths of people whose names',\n",
              " 'HoCpetitions report recommends GOVUK extend maternity amp parental leave for parents affected by COVID lockdown',\n",
              " 'With the easing of lockdown in Scotland workplaces are beginning to reopen increasing the importance of discussing',\n",
              " 'This week as part of the CovidWellbeingNI Partnership we are encouraging parents to be aware of the signs of men',\n",
              " 'Ive been managing my mental health okay for the majority of lockdown it was just anxiety but I am doing okay now',\n",
              " 'Superdrug and myonlinetherap1 have partnered to offer qualified mental health services to people in the UK',\n",
              " 'Ive been managing my mental health okay for the majority of lockdown but Im getting to the point where I ju',\n",
              " 'MattHancock You will have more people using the NHS if the government dont OpenOurPools gyms and sports centre',\n",
              " 'As we all start to get back to a bit of normality remember to look after yourself Lockdown and isolation may have',\n",
              " 'FINANCIAL SUPPORT MENTAL HEALTH SUPPORT THEATRE INDUSTRY UPDATED 6 JULYThis page is for anyone in the theatr',\n",
              " 'TW weightFr though this is a good thing as Ive lost over 14lbs during lockdown due to mental health reasons and',\n",
              " 'joeharrispark Thank you for your honesty and for sharing this Joe I have also struggled with my mental health dur',\n",
              " 'Meet our newest Young Ambassador Julie Rogers Read Ella Doves brilliant new column Boosting Mental Health in Loc',\n",
              " 'Even as lockdown restrictions begin to ease it is still important we look after our mental health With that in min',\n",
              " 'Lots of people doing the 25 press ups a day for 25 days for PTSD and mental health which is brilliant But please d',\n",
              " 'Going back was hard but by coming together we can find a way through this The supportive spaces in our unionised',\n",
              " 'As lockdowns around Covid19 around the world begin to ease how can you keep your mentalhealth in check and sta',\n",
              " 'GiggsyBlantyre SkyNewsBreak LockdownNo Yup Ive been affected by the coronavirus Ive seen colleagues lose',\n",
              " 'New survey up on our website have you taken more care of your own mental health since lockdown started head ov',\n",
              " 'For older people living under lockdown and dealing with fear for the future can impact their mental health Read o',\n",
              " '3 Make a substantial amp urgent investment in youth workers across suburbs experiencing lockdowns to ensure we prote',\n",
              " 'Scout leader took own life during lockdown after struggling while not on the goBen Brown 22 was living with his',\n",
              " 'Still so many people not understanding what Art is important How many of us have been creative during Lockdown and',\n",
              " 'Lockdown has impacted our mental health amp daily activities Heres how people with learning disabilities autism amp',\n",
              " 'TeamKMB Our Management team have increased their knowledge during lockdown with webinars I am joining a webinar',\n",
              " 'There are clear links between our exposure to green spaces and our mental health Taking a walk has proved a godsen',\n",
              " 'We are delighted to have been invited to write a series of articles for SecEdEducation Our first article SEN stu',\n",
              " 'Despite lockdown restrictions being lifted uncertainty remains and feeling anxious about moneyrelated issues is n',\n",
              " 'Lockdown curfew job losses loneliness trigger mental health issues amid corona',\n",
              " 'The vital health lessons we have learnt during lockdown that we should all carry on with',\n",
              " 'Our schools knew we would be dealing with declines in mental health due to this lockdown and still decided to go ahead with exams',\n",
              " 'parlonsrosbif The lockdown definitely contributed to depressive episodes for me too Social media isnt exactly a',\n",
              " 'On top of allowing ourselves time to rest when were unwell the pandemic has instilled vital behaviours that could',\n",
              " '9 ways coaches can look after their athletes mental health during lockdown',\n",
              " 'At YZ45 the mental health of our members is very important Recent studies have shown that 80 of people',\n",
              " 'Help needed Looking to speak to anyone whos missed playing smallsided football during lockdown and maybe feels',\n",
              " 'dumphimlove You are a specialist What I meant is some ppl say people behave too optimistically cause we need con',\n",
              " 'drneilstanley simondolan LawyerMonthly To get the public behind the cast will cost in region of 800k plus ju',\n",
              " 'eXdetainee What you are witnessing at the flats is an extension of mandatory detention unfortunately if the lock',\n",
              " 'Want to know how to support pupil student health after lockdown Secure your place at our FREE webinars aimed at e',\n",
              " 'Dont forget to take part in our Summer fundraising challenge GirlsOutGardeningWere aiming to raise 20k befor',\n",
              " 'a lot has been reported on people working at home during the lockdown and the effects of coronavirus lockdown itse',\n",
              " 'We spoke about anxiety at the beginning of lockdown in our campaign Small Talk We broke it down over the week an',\n",
              " 'As lockdowns around Covid19 around the world begin to ease how can you keep your mentalhealth in check and sta',\n",
              " 'Hear from MindCharity about Minds physical activity work They will also share their thoughts on how the sport amp',\n",
              " 'Maintaining good mental health can be very difficult in the current climate so we have come up with 3 practical tip',\n",
              " 'Lockdown has impacted our mental health amp daily activities Heres how people with learning disabilities autism amp',\n",
              " 'Our CEO Marjorie Wallace recently appeared in a BBC News report about the impact of lockdown on mental health',\n",
              " 'Resharing a post from the past OldPostLove How to Protect Mental Health During Lockdown',\n",
              " 'Lockdown has impacted our mental health amp daily activities Heres how people with learning disabilities autism amp',\n",
              " 'For HIW2020 we take a look at how you can look after your mental health during lockdown because we all feel alone',\n",
              " 'As the world slowly emerges from lockdown its important that employee mental wellbeing is still top of your prior',\n",
              " 'Lockdown has impacted our mental health amp daily activities Heres how people with learning disabilities autism amp',\n",
              " 'We invite you to take a moment to read Scott Beecrofts emotive poem about mental health which he penned during loc',\n",
              " 'Finally got some time off for first time this year Worked at full pelt all through lockdown amp seriously starting t',\n",
              " 'most likely will be going into lockdown again which means no plans and no school so my mental health will go downhi',\n",
              " 'There are however small ways to help manage this fear and weve asked psychologists to share their recommendatio',\n",
              " 'TheSun LockdownNo bowelbabe We have lost the 21 year old son of the lady in my life due to this insane lockdown',\n",
              " 'ADayInTheLifeOf A clinical psychologist in Manipur is helping her community cope with distress during the pandem',\n",
              " 'On a day of better news for the arts latest Living Better in Lockdown guest is actor and fellow mental health camp',\n",
              " 'Variety ALL THOSE BMORONsWHO KEEP MOANING ABOUT COVID19 LOCKDOWN amp THEIR THEATREBEERHAIRNAILSTREATMEN',\n",
              " 'Greatful to have been working through lockdown but my god I dont know how much more I can cope Mental health is at an all time low',\n",
              " 'So Uhuru knows that during this lockdown period cases of Gender Based Violence and Mental Health issues have increa',\n",
              " 'itsmeganross I sent my 6 yr old back as soon as his school opened on June 10 He too is an only child and lockdown',\n",
              " 'PAPYRUS is one of several leading charities warning officials about the impact the lockdown will have on mental hea',\n",
              " 'What are some important health lessons that you have learnt during the lockdown period',\n",
              " 'The first socially distant pub visit of summer You have no idea how much my mental health needed this',\n",
              " 'I do hope that any extreme behaviour by quarantined or detained people is considered through a healthmental health',\n",
              " 'cropmad In my opinion the price was going to be high either way There is no end in sight nor is there a possible',\n",
              " 'Prof Caffo Italys telefonoazzurro offered 247 phone amp chat line in lockdown dedicated to children and adolesce',\n",
              " 'TRJForBloggers New mental health post lockdown edition',\n",
              " 'Lockdown easing reducing workplace mental health stigmas',\n",
              " 'Nature can be a great resource to help with your mental health through lockdown For some inspiration check out the',\n",
              " 'thismorning Schofe First time in my life Ive started to regularly exercise and I can say this let me get through',\n",
              " 'A mental health crisis is brewing during the UKs COVID19 lockdown Business Insider Business Insider',\n",
              " 'To know more about how you can support your mental health during these challenging times visit',\n",
              " 'Chris Norton not on Twitter wenotno is but now expanding to WildShow Facebook group Mental health issues in loc',\n",
              " 'What a horrible white womanSome sick people are truly obsessed with skin colour they are just abominable people',\n",
              " 'Maybe lockdown is getting to him and mental health is affected he could potentially need a few days out with sunshi',\n",
              " 'TRJForBloggers Morning I have a blog post on mental health during lockdown',\n",
              " 'bobbyhud GuidoFawkes Oh yes lets make sure there a panto and not spend our limited resources on the mental healt',\n",
              " 'Something that has helped my mental health through lockdown discovering LRDreaming Their vlogs have offered me s',\n",
              " 'If NicolaSturgeon and haugheyclare cared about mental health they would not have imposed lockdown on the whole p',\n",
              " 'It does make his day just to see someone else It improves our mental health as well It means that at the end of',\n",
              " 'DrMaireadDB fbfitz FineGael Taking teachers from SEN is EXACTLY what will happenThereby proving that the men',\n",
              " 'Has the lockdown affected your mental health or caused you unusual levels of stress or anxiety',\n",
              " 'hswfuk atpblogforteens sineadjohnson rossclark2017 JPBrown5 purplhydrangea harleystskin A pleasure Our Lea',\n",
              " 'Wild Show on Social media via YouTube jonathandaly12 WenotNo phonicfm MariansFm',\n",
              " 'SCDCNews Thanks to Manning for serving the inmates watermelon on July 4th It was enjoyed very much Need more fre',\n",
              " 'WATCH The former LoveIsland contestant and NHS doctor gives his views on the current situation',\n",
              " 'Opinion Ive no longer got FOMO Ive got fear of joining in Ive realised I need more time to myself',\n",
              " 'When coronaphobia turns into agoraphobia I struggle to even go for a walk',\n",
              " 'Mental Health Charity MIND create monthly MINDwork newsletters Junes edition contains tips on how to manage yo',\n",
              " 'Loneliness can interrupt your daily life and may even pave the way for more severe mental health issues like anxiet',\n",
              " 'Let Uhuru open bars amp churches so that we address our debauchery and avaricious dancing in the eyes of the Lord Be',\n",
              " 'Achieving things and feeling better about my body during lockdown has been a big help on my mental health feeling',\n",
              " 'Who help the helpers Children LEARN usSchools have remained open throughout lockdown and over the past few',\n",
              " 'Beautifully said Leigh we all have mental health been great to chat in lockdown and thank you for your support of',\n",
              " 'Yesterday on The Nutters Club on NewstalkZB had our first guest back in studio since lockdown Josh Darby is a s',\n",
              " 'Please join our next OCF webinar where we will talk to some organisations from the Henley area We will have a foc',\n",
              " 'The worcesteruni Counselling and Mental Health team has shared some tips about overcoming postlockdown worries',\n",
              " 'Half Of Construction Businesses Report Employees Experiencing Mental Health Issues',\n",
              " 'As lockdown eases but with normality some way off we spoke to Dr Mandy Bryon from the hospitals mental health te',\n",
              " 'What impact has lockdown had on the mental health of children and young people Dr Mandy Bryon from the hospit',\n",
              " 'As businesses reopen postlockdown employers have a greater responsibility than ever to look after employees phys',\n",
              " '10NewsFirstMelb VictoriaPolice No ones talk about lockdown induced mental health issues here',\n",
              " 'Its a privileged and quite frankly selfish opinion to have Lockdown has thrown me goodness knows how many step',\n",
              " 'Daisy Fancourt DaisyFancourt on Psychological and Social Impact of the Pandemic in the UK Young people people f',\n",
              " 'I am lucky I work from home I have a husband and I can walk in the countryside from my door but just because y',\n",
              " 'rachelparris The government have been cutting funds for arts music amp education for years yet along w exercise',\n",
              " 'if anyone has mental health weather its a boy or a girl and you feel lonely please talk to someone I lost two co',\n",
              " 'YoungMindsUK are an organisation fighting for young peoples mental health Go to to find',\n",
              " 'Everyones mental health was surely tested during lockdown Happy for those that made it praying for those still s',\n",
              " 'Correct me if Im wrong but Vic Government are not punishing people locked in the towers theyre protecting you Y',\n",
              " 'AlanBixter Mixed debate on the effects of lockdown for some its been mental health positive removing stresspre',\n",
              " 'Victoria isnt doing too well with Covid cases amp again some of us are in lockdown Its been half a year already amp',\n",
              " 'MyRomanceAddict WowYes some people in these towers may have addictions mental health issues past trauma etc',\n",
              " 'Wonderful to have Archbishop Justin Welby on a virtual visit to XLP He was fabulous with the young people talking',\n",
              " 'Point where I hardly leave my house anymore My sleep is none exist maybe 3 hours a night at best Im drinking e',\n",
              " 'Our 1st FREE webinar Supporting pupil student wellbeing after lockdown takes place at 11am on Wednesday 8th July',\n",
              " 'Gardening with my daughter has really helped maintain good mental health for me during this lockdown period Our fi',\n",
              " 'Lockdown has had big impacts on many of us from a career point of view With redundancies and job security big conc',\n",
              " 'Prof Barry Carpenter from brookesedu has created a new curriculum to ease childrens return to school after lockd',\n",
              " 'While the risk of a second wave is very real with devastating consequences some doctors really need to remember th',\n",
              " 'Lets Talk About Mental Health Lockdown Edition cosyblogclub BloggersHut',\n",
              " 'Wonderful to have JustinWelby on a virtual visit to xlplondon He was fabulous with the young people talking ab',\n",
              " 'Because there are certain elements of lockdown that are well worth continuing with when it eventually lifts for ou',\n",
              " '10 practices to help maintain mental health during lockdownHere are some mental health practices to help you main',\n",
              " 'As an employer are you prepared to support employees mental health Something weve championed for years for employ',\n",
              " 'Monday Thoughts are at your service Every Monday we will release a video which will cover topics such as spiritual',\n",
              " 'JohnnyCrash Lockdown has just gone on too long for some peoples mental health Poor Toby Hope he recovers and finds a newnormal',\n",
              " 'LegendaryEnergy CEOofGenZ I live in the uk and the number of people who have died from mental health during lockd',\n",
              " 'Weaponising mental health will get you nowhere Speaking as someone with sever depression and anxiety whos been in',\n",
              " 'Actually fuck lockdown for messing up my mental health that I worked so hard on last year Fuck being in your own head all of the time',\n",
              " 'Tiffers1973 5liveSport RobbieSavage8 eljonesuk I think mental health with children has been a major issue durin',\n",
              " 'Most in education agree that we were in a mental health crisis before Lockdown Now that exams are cancelled',\n",
              " 'Everyone is quite agitated the sad thing is the kids they dont understandLISTEN There are major concerns',\n",
              " 'Networking join us at 6pm this evening where Sinead Trinnaman will be helping everyone to pro tech their mental hea',\n",
              " 'There has never been a more important time to talk about our mental health And with talk of lockdown beginning to',\n",
              " 'Our Director Bernadette joined a conversation on BBCR4Sunday yesterday about lockdowns impact on childrens menta',\n",
              " 'Samaritans volunteers in StokeonTrent have received more than 7000 calls emails and letters during lockdown w',\n",
              " 'Prior to lockdown we had done a lot of work on removing the stigma around mental health at work and begun to focus',\n",
              " 'For people with anxiety lockdown may have been a respite Sharing this story mentalhealthawareness',\n",
              " 'elliejoypanic HadynClark Likewise in the US but the curve isnt flattening there It was a lot crazier in the U',\n",
              " 'Mental health struggles during Covid19 and lockdown have been a big talking point but positive responses to this',\n",
              " 'Over half 58 of under18s who receive free school meals said their mental health was poor or very poor vs 41',\n",
              " 'For GuardianLabs how I read my way through lockdown and stayed sane ish',\n",
              " 'Today as I woke up Radio 4 was talking about the mental health concerns coming out of lockdown if you are experie',\n",
              " '185 million Indian women likely failed to get an abortion in the first 3 months of lockdown mostly due to contra',\n",
              " 'Student wellbeing Our backtoschool 12page guide offers practical adviceideas for schools ahead of Sept How has',\n",
              " 'a significantly higher proportion of working age adults aged 1865 have experienced poor mental health 46 dur',\n",
              " 'Lockdown mentalhealth why do we bottle up our emotions when we know its bad for us via',\n",
              " 'Coronavirus could cause 35000 extra UK cancer deaths experts warn Now we are starting to see the negative effect',\n",
              " 'Lockdown has had negative impacts on mental health and wellbeing for people in the UKOur research shows that som',\n",
              " 'Honestly my mental health has taken a battering during this lockdown period I just pace myself and take each day one at a time',\n",
              " 'Great to be mentioned in IndependentWe are working on support women girls now and planning for the tough weeks',\n",
              " '61 of medical amp mental health experts said they expected kids to show emotional issues after lockdown yet 94 of',\n",
              " 'With lockdown coming to an end lets hope all the people who posted how hard it is and how their mental health has',\n",
              " 'It is great that Vic police are getting more mentalhealth training But wouldnt it be more logical to embed',\n",
              " 'Student trauma and wellbeing postlockdown by amysayer2010 for SecEdEducation',\n",
              " 'Starwarsfan1974 This lockdown has take a huge room on mental health take care',\n",
              " 'Dat1BlackGuy786 princebjz baby5donquixote I in the same boat I use work as a form of social interaction for my',\n",
              " 'Mentalhealth olor Resources to help your children deal with their mental health during th',\n",
              " 'There is a sense of people being more aware of their health Our bodies and minds are pretty remarkable at givi',\n",
              " 'During the lockdown we have been giving support over 7000 times a day One in three contacts were about coronavir',\n",
              " 'Travelling today saw parties throughout lockdown We need to think outside the box instead of giving',\n",
              " 'Police are now patrolling the estates which have been described as little different from vertical cruise ships wh',\n",
              " 'With lockdown Ive been quite productive in the 1st half of itWith myself work and personal projects Then I ha',\n",
              " 'Prioritise play when schools reopen say mental health experts',\n",
              " 'New Rising concerns for the mental health of 3000 public housing residents placed into hard lockdown in Melbour',\n",
              " 'Good article about mental health in lockdown I think a sense of accomplishment supports mental health as long as',\n",
              " 'We cannot isolate children from society and disregard their other mental health needsIt is the failure of the go',\n",
              " 'Covid Lockdown Jobs Lockdown Peaceful protesters Lockdown Hungry families Lockdown Mental health appointments Lockdown',\n",
              " 'Mental health groups report huge surge in numbers of LGBT people at risk of suicide during lockdown',\n",
              " 'Just over 13 NZ parkrunners report negative mental health during COVID19 lockdown with parkrunners aged 2534yrs',\n",
              " 'We will shortly launch a series on the mental health impacts of the pandemic and the lockdown as part of our fello',\n",
              " 'We will shortly launch a series on the mental health impacts of the pandemic and the lockdown as part of our fello',\n",
              " 'Im not so secretly both reminiscing on and longing for a teacher5oclockclub that precedes a days work in the c',\n",
              " 'Mental health groups report huge surge in numbers of LGBT people at risk of suicide during lockdown',\n",
              " 'Mental health is on a severe decline worldwide but Im seeing it first hand here in my own backyard How do I kno',\n",
              " 'Many suffer in silence Andile I really commend your strength to cry out for help its a sign that youre going to',\n",
              " 'To make the comments that Hanson made could be very damaging to any person who is confronting both the isolation th',\n",
              " 'im not ready to see how floridas lockdown sequel is gonna effect my mental health',\n",
              " 'I am beginning to think that the previous lockdown caused some serious mental health issues throughout urban Americ',\n",
              " 'avtardhanaula UNICEFIndia PMOIndia Publichealth experts have cautioned that the resultant financial insecurity',\n",
              " 'Most fitness influencers tout the importance of physical health but ToneItUp cofounder KarenaDawn says its jus',\n",
              " 'this is the worst most ableist advice Ive ever seen Eat heathy exercise and sleep Th',\n",
              " 'Since lockdown began in March Melbournes mental health team from The Alfred have seen a 50 per cent increase in c',\n",
              " 'policies that lead to this moment Were police a bad idea In this environment absolutely But do we actually have',\n",
              " 'Frankhaviland Lockdown has clearly not been good for her mental health but I suspect she may have had a few issues before that',\n",
              " 'Would it be weird to make a picture of myself my background as a reminder of how much weight Ive gained due to my',\n",
              " 'stephharlowe I have 3 kids 5 year old high IQ son who constantly has to learn 247 a 4 year old son and a 2 yea',\n",
              " 'damn my mental health really went ever since lockdown started huh',\n",
              " 'Man this entire Covidlockdown thing has more than fucked up my mental health Im blanked out till further notice',\n",
              " 'Mental health has been affected lately Lets speak more about it pandemic COVID19 aftermath lockdown',\n",
              " 'Being isolated during the pandemic has not been easy for many of us Mental illnesses are rising due to COVID19',\n",
              " 'georget23 covidliveau Theres no way we should all go into lockdown again when those who broke the rules and cas',\n",
              " '185mn Indian women likely failed to get an abortion in the first 3 months of lockdown mostly due to contraceptiv',\n",
              " 'How To Take Care Of Your Childs Mental Health During LockdownRead here',\n",
              " 'smithsmm My year 9 daughter has been attending online art classes in addition to maths science amp computing clas',\n",
              " 'Neoavatara This was predictable from day 1 of the lockdown The suicideOD data has been generally ignored here in',\n",
              " 'Life after coronavirus as lockdown eases our new normal needs to be one which puts mental health first',\n",
              " 'kristiwelshies CanArm2011 cangal21 zahadoom Have you ever heard of mental health support systems Those are nee',\n",
              " 'We locked down early amp hard Cocooned as a family for the sake of my husband who is vhigh risk But we didnt e',\n",
              " 'NickMcCallum7 Nick doesnt this contravene human rights laws of some kind No fresh air or outdoor play for kids',\n",
              " 'Minsan di ko alam if ang OA na nating lahat sa pagquaquarantineWe are calling out people NANG WALANG BASIS',\n",
              " 'myillumind I guess what would interest me would be 1 the journey of your mental health meeting your creativity',\n",
              " 'i made a post on my private story and private instagram about how ive not been feeling good mental health wise thi',\n",
              " 'TheTodayShow PaulineHansonOz Hey AllisonLangdon R the the people in the lockdown towers OK after you gave Paulin',\n",
              " 'Theres an app called Sanity amp Self and Id recommend to anyone who is struggling with their mental health Think t',\n",
              " 'rmayemsinger Alternate take the lockdown has led to a lot of serious mental health issues around the country acc',\n",
              " 'On a related lockdown note specifically with respect to kids and their mental health suicides Schools need',\n",
              " 'Is there a support group for people whos mental health is deteriorating on social media but because were in a loc',\n",
              " 'daver0611 Thank you I find the keeping hours thing endlessly interesting it took me years to even consider it',\n",
              " 'It is vital that the public health response to the public housing lockdown in Melbourne is accompanied by social',\n",
              " 'Everyones out here tweeting about all the shit theyv learnt or achieved during lockdown And Im just here trying t',\n",
              " 'After three months of staying at home our prelockdown lives are unrecognisable',\n",
              " 'My mental health has taken such a nosedive during lockdown Tried to go shopping was in the shop for roughly 3 min',\n",
              " 'Mental health groups report huge surge in numbers of LGBT people at risk of suicide during lockdown',\n",
              " 'HalsallDoug If any employers are like 2 that cause the nervousbreakdowns after bereavement and loss then Id say',\n",
              " 'This lockdown amp self quarantine from last 4 months is now taking over my mental health',\n",
              " 'Im getting stuff out Youre going to see more writing from me and a more diverse idea of what I can do Its d',\n",
              " 'A recent study reveals 100 of men are Experiencing Mental Health problems during lockdown Find out more with',\n",
              " 'Oh my word Thank you Democrats Your civil libertiesrobbing lockdown policies are making ppl insane You were',\n",
              " 'If we didnt have the arts our mental health would be so much worse through lockdown SaveTheArts',\n",
              " 'Mental health is awful due to all this lockdown stuff I feel like nothing will ever be the same again and it scares me',\n",
              " 'xierh5 I think you are right my friend the lockdown surely played a big part on wrecking havoc on some peoples mental health',\n",
              " 'thekatrinaloos Sorry to hear that Its been a really difficult time My mental health suffered at the start of lo',\n",
              " 'opheliabyrne PolMacMathuna The PBP gives him a supposed license to talk nonsense Hed be the first to say lo',\n",
              " '3 Idiots actor Omi Vaidya has opened up about how severely the lockdown has hampered his mental health',\n",
              " 'MadCornishBiker Are you actually serious The lockdown has affected millions the whole country Jobs businesses',\n",
              " 'Without the arts the world would be a very dark place The work we artists produce has contributed to the upkeep o',\n",
              " 'BreakfastNews Lisa Miller seems to have negative outlooks on everything of a morning if she wants to help mental',\n",
              " 'hollytinsl3y Yay Lockdown has been hell on my mental health and creativity But Friday I finally finished my feat',\n",
              " 'Brilliant little vid on SD and lockdown as established torture techniques Impact on mental health is enough to phy',\n",
              " 'Grizabella86 Johnbhoy712 andrewkeates Sorry to hear about that but a balance has to be struck between the risk o',\n",
              " 'Lockdown Sex Has Helped Keep Me Sane via refinery29uk',\n",
              " 'Paul36804502 WilliamSheers I have been shielding to support my vulnerable husbandselfish I think notunder',\n",
              " 'So if you are on the edge between well and not well in your mental health AND youve been on lockdown AND you been',\n",
              " 'Lebanon In the midst of the coronavirus lockdown and the economic crisis the mental health and wellbeing of m',\n",
              " 'BreakfastNews Id like to highlight that theres been unexpected benefits to lockdown and these were positive to m',\n",
              " 'The chat on bbc5live is interesting Yes childrens mental health is suffering for having had everything taken awa',\n",
              " 'Mandi42775549 Running I have followed couch to 5k since lockdown and its been so good for my physical and mental',\n",
              " 'TheRussianQueen 12 nobody talked about SUICIDE rate going up CANCER patients missing their vital appointments',\n",
              " 'yourkdramaqueen i worked in healthcare lockdown units for years before the military amp this series has truly hit c',\n",
              " 'Lockdown mentalhealth why do we bottle up our emotions when we know its bad for us via stylistmagazine',\n",
              " 'shazzax66 TheRightSideofC Before their time okay sureWhat about the wellbeing of the 10s of thousands of peop',\n",
              " 'What have you painted over lockdown Doing something creative every day helps to aid good mental health and emotio',\n",
              " 'Keysplice nzherald Yes our lockdown was OTT as a reaction to not going soon enough and initially not quarantining',\n",
              " 'BBC Radio Cornwall July 2020 Help with anxiety after lockdown',\n",
              " 'beehartyeah Well I guess Im a selfish cunt Lockdown has been a complete failure so Im not sure why helping my m',\n",
              " '8 positive mental health behaviours parents can model during lockdown',\n",
              " 'stevebristoluk BristolLive devisridhar I will look into it As someone who works around this field and had Covid',\n",
              " 'My kids behaviour has got worse since this lockdown tantrums and answering back being cheeky there bored cooped',\n",
              " 'ElmParkRoyals Really great to hear mate think this lockdown has done some people the world of good including mysel',\n",
              " 'RobbieSavage8 Mental health was soooooo important at the beginning of lockdown so we all needed to exercise What',\n",
              " 'mazpangs So important We were saying today what an impact lockdown has had on our fitness as a family It needs',\n",
              " 'Lebanon In the midst of the coronavirus lockdown and the economic crisis the mental health and wellbeing of m',\n",
              " 'IainDale Pease could you share this tweet HD Piano have helped with my mental health so much during lockdown T',\n",
              " 'NURTURE YOURSELF WITH NATURE DURING LOCKDOWN THE ONLY THING THAT KEPT MY MENTAL HEALTH IN CHECK WAS MY DAILY WAL',\n",
              " 'Lockdown existsMy mental health',\n",
              " 'CWNewser You just decided to do Twitter a public service by doggedly finding all the worst things you could about',\n",
              " 'People are bottling up mental health issues in lockdown says research via MetroUK',\n",
              " 'UKs mental health has deteriorated during lockdown says MindCharity MentalHealth MentalHealthMatters',\n",
              " 'A mental health crisis is brewing during the UKs COVID19 lockdown Business Insider',\n",
              " 'I would recommend the course to anyone even those who are not dealing with any mental health issuesStrong word',\n",
              " 'Weve all been told to stay safe during lockdown but dont forget that staying safe includes looking after your men',\n",
              " 'Man the Lockdown Era was literally the best thing in my whole life i wanna go back i hate going out and interacti',\n",
              " 'Has this lockdown affected anyone elses mental health or is it just me',\n",
              " 'KirstieMAllsopp Mental health also matters Lockdown may have damaged the economy but it has also highlighted prob',\n",
              " 'timlovejoy have u listened to any of Mo Gawdats podcastsHe has done quite a number with a theme of silver lining',\n",
              " 'Being single in a pandemic is tough The way it affects mental health You see all these mushy posts of couples spe',\n",
              " 'Check out my latest interview where I talk about lockdown mental health and life growing upDefinitely worth lis',\n",
              " 'This is concerning The report also highlighted the difficulty of providing mental health support to children in l',\n",
              " 'Gotta say I do feel absolutely awful for the people that are finding this pandemic hard on their mental health the',\n",
              " 'Cooing for all whose mental health has been affected by the lockdown Purrs4Peace',\n",
              " 'yarloidian LegendaryEnergy Its inevitable to reopen as clearly lockdown put peoples mental health down the line',\n",
              " 'The SecEd Podcast Trauma safeguarding looked after children mentalhealth SEND PupilPremium our expert panel',\n",
              " 'Maternal 6w check More important now than ever to ask re mental health Lockdown has taken away support networks',\n",
              " 'MarkFranklin123 The same just dont agree with your methods for achieving it and disregard for the effects of pro',\n",
              " 'harry sat down with his team and they were thinking of us and our mental health during the lockdown he just wan',\n",
              " 'lockdown has really gotten to me my mental health really went',\n",
              " 'ts time for me to spill the tea in my new video that has just gone live and to talk about why I havent been uploa',\n",
              " 'Lockdown has destroyed my mental health hahaha fun times',\n",
              " 'One in ten of us say lockdown has boosted our mental health and a quarter say their physical health has improved F',\n",
              " 'ITS LIVEEEEE time for me to spill the tea and talk about why I havent been uploading on my youtube channel in',\n",
              " 'The Covid19 pandemic has caused immeasurable damage especially to our mental health but that doesnt mean we can',\n",
              " 'It has been almost six months we are away from the pool now lockdown has rigorously affected our mental as well as',\n",
              " 'Genuinely dont believe my mental health could survive another lockdown',\n",
              " 'wanted to post a quick message of solidarity for anyone suffering with their mental health during lockdown youre',\n",
              " 'gabrieloguda StateHouseKenya This lockdown has screwed everyones mental health even little kids are affected P',\n",
              " 'BlueGoesMew Its sad that the mental hospitals and rehab centers dont really do anything for said person If said',\n",
              " 'Spinglespot RealDeniseWelch I dont think opening at all was a good idea As much as our health is important so i',\n",
              " 'How is my mental health in lockdown Much better now ride bicycle mtb Strava track sunday road cycle',\n",
              " 'in hindsight those days were needed Ive got a whole new grip on my mental health and I wouldnt have acquired th',\n",
              " 'NatashaFatah I think the main issue is humans are social beings Many a study prove isolated living is detrimenta',\n",
              " 'KevinNichol I think lockdown and takeover saga has destroyed fellow geordies mental health',\n",
              " 'Today I took a long walk to the lake swam with my dog had ice cream and did the laundryOpinion Ive no longe',\n",
              " 'The vital health lessons we have learnt during lockdown that we should all carry on with',\n",
              " 'Youre not the only oneI have a short film coming out this week based on Mental health and the effects of lock',\n",
              " 'Day 111 A Mental HealthEmergency',\n",
              " 'Ive lost 12 kgs during the lockdown without working out or dieting and Im so scared My mental health is fucking',\n",
              " 'Have you had a phone or video consultation about mental health during lock down Whats your experience',\n",
              " '3 months of lockdown with strain on peoples mental health and youre criticising people for going to a pub when th',\n",
              " 'So during lockdown Ive been back at football let me tell you Ive missed it so much dont know why I ever stoppe',\n",
              " 'Filmed this cute video with mrskashadavis amp brockmcgillis33 during lockdown discussing mental health Its now u',\n",
              " 'So some of you know But a lot do not Im no longer going to be uploading 2 videos a week Due to work lockdown',\n",
              " 'AdamHenson Really nice report on mental health in farming Adam Interesting to hear the struggles of people in loc',\n",
              " 'Life after coronavirus as lockdown eases our new normal needs to be one which puts mental health first',\n",
              " 'cjsnowdon I thought any mental health crisis might be the result of lockdown but its still Cummings Derangement',\n",
              " 'BBCNews You do know theres a mental health crisis due to the bad reporting If a town has 1 case and another 2 a',\n",
              " 'galacticxtears Hey some people dont understand mental health issues amp under lying health conditions so being ar',\n",
              " 'fmwales WelshGovernment NHS are going to get a bigger problem than Covid Itll be a bigger mental health crisis',\n",
              " 'MorganJerkins Gut health and mental health 100 connected I started taking good care of my gut health a decade ag',\n",
              " 'rtenews Lockdown Lock inslockedBe interesting to see statistics on off license sales and prescribed m',\n",
              " 'Opinion Ive no longer got FOMO Ive got fear of joining in Ive realised I need more time to myself',\n",
              " 'WalkRunRideShf theoutdoorcity JoMaher8 AndyDouglasGP movemoresheff LovetoRide stevehaake NHSSheffieldCCG',\n",
              " 'During lockdown mental health has declined People need support Please sign and share',\n",
              " 'Lessons Learnt During Lockdown How To Care For Our Health And MentalHealth',\n",
              " 'Februarys qualifier was Jemma HathawayShe likes to stick words next to one another and see if they hit it off H',\n",
              " 'So today I completed my lockdown Couchto5K programme With a busted knee and kidneys issues I thought running as',\n",
              " 'therealhostman biscuitsgod joborg deembe DHSCgovuk CMOEngland CMOWales PHEuk publichealthni',\n",
              " 'I did a Sharpe Way Show 324 about the mental health effects of this health and economic crisisYou can watch',\n",
              " 'We have spent the entire lockdown period with no plan of other health burdens NCDs mental health infectious dise',\n",
              " 'Stop judging people at the pub this weekend there are more reasons for supporting local boozers than getting drunk',\n",
              " 'Anyone elses lockdown mental health struggling right now Watching realtime as people are lined up for unnecessar',\n",
              " 'We cannot afford to look back on the next 10 years as the decade of picking up the pieces and rebuilding trust in',\n",
              " 'Has anyone noticed the excessive amount of mental health depression commercials pushing meds since the lockdown b',\n",
              " 'lawrseb Not necessarily Im practising social distancing but I would resist a second lockdown because I think i',\n",
              " 'cos singling out povertystriken housing estates w predominantly new migrants indigenous folks amp those w serio',\n",
              " 'I was interviewed by SimonOLeary SeanClare BBCNews along with Bens Dad about mental health and suicide durin',\n",
              " 'Ive been on a massive mental health downer since lockdown started well since September but it has started pic',\n",
              " 'The vital health lessons we have learnt during lockdown that we should all carry on with',\n",
              " '1ordlucan JOHNBUDGIEBIRD You seen all the smart lighting going up everywhere the last few weeks around wolvesSo',\n",
              " 'Froggy friend from yesterdays walk in Derwenthaugh Park Derwent Walk Country Park I honestly believe walking',\n",
              " 'My gym JDGymsLpool was 100 more cleaner then all pubs before lockdown they put everything in place on social dis',\n",
              " 'Psychedelic Drugs Could Potentially Treat Impending Postlockdown Mental Health Epidemic LLY JNJ']"
            ]
          },
          "metadata": {
            "tags": []
          },
          "execution_count": 15
        }
      ]
    },
    {
      "cell_type": "code",
      "metadata": {
        "id": "VmVD8W4NTonB"
      },
      "source": [
        "lower_case = [word.lower() for word in all_tweets_no_urls]\n"
      ],
      "execution_count": null,
      "outputs": []
    },
    {
      "cell_type": "code",
      "metadata": {
        "id": "5d-ZoLMAHpDK"
      },
      "source": [
        "collection_words = ['mental', 'health', 'lockdown']\n",
        "tweets1 = [[w for w in word if not w in collection_words]\n",
        "                 for word in lower_case]"
      ],
      "execution_count": null,
      "outputs": []
    },
    {
      "cell_type": "code",
      "metadata": {
        "id": "Q4brGFs-ZRSq",
        "outputId": "906e78ff-a253-4292-d9d1-24697965af97",
        "colab": {
          "base_uri": "https://localhost:8080/",
          "height": 419
        }
      },
      "source": [
        "df1 = pd.DataFrame(lower_case,columns=['words'])\n",
        "df1"
      ],
      "execution_count": null,
      "outputs": [
        {
          "output_type": "execute_result",
          "data": {
            "text/html": [
              "<div>\n",
              "<style scoped>\n",
              "    .dataframe tbody tr th:only-of-type {\n",
              "        vertical-align: middle;\n",
              "    }\n",
              "\n",
              "    .dataframe tbody tr th {\n",
              "        vertical-align: top;\n",
              "    }\n",
              "\n",
              "    .dataframe thead th {\n",
              "        text-align: right;\n",
              "    }\n",
              "</style>\n",
              "<table border=\"1\" class=\"dataframe\">\n",
              "  <thead>\n",
              "    <tr style=\"text-align: right;\">\n",
              "      <th></th>\n",
              "      <th>words</th>\n",
              "    </tr>\n",
              "  </thead>\n",
              "  <tbody>\n",
              "    <tr>\n",
              "      <th>0</th>\n",
              "      <td>littlestlaura could it be added stress or some...</td>\n",
              "    </tr>\n",
              "    <tr>\n",
              "      <th>1</th>\n",
              "      <td>lockdown has been awful for mental health</td>\n",
              "    </tr>\n",
              "    <tr>\n",
              "      <th>2</th>\n",
              "      <td>people are bottling up mental health issues in...</td>\n",
              "    </tr>\n",
              "    <tr>\n",
              "      <th>3</th>\n",
              "      <td>in observation lockdown has caused many forms ...</td>\n",
              "    </tr>\n",
              "    <tr>\n",
              "      <th>4</th>\n",
              "      <td>where is the dfe guidance on coping with berea...</td>\n",
              "    </tr>\n",
              "    <tr>\n",
              "      <th>...</th>\n",
              "      <td>...</td>\n",
              "    </tr>\n",
              "    <tr>\n",
              "      <th>567</th>\n",
              "      <td>the vital health lessons we have learnt during...</td>\n",
              "    </tr>\n",
              "    <tr>\n",
              "      <th>568</th>\n",
              "      <td>1ordlucan johnbudgiebird you seen all the smar...</td>\n",
              "    </tr>\n",
              "    <tr>\n",
              "      <th>569</th>\n",
              "      <td>froggy friend from yesterdays walk in derwenth...</td>\n",
              "    </tr>\n",
              "    <tr>\n",
              "      <th>570</th>\n",
              "      <td>my gym jdgymslpool was 100 more cleaner then a...</td>\n",
              "    </tr>\n",
              "    <tr>\n",
              "      <th>571</th>\n",
              "      <td>psychedelic drugs could potentially treat impe...</td>\n",
              "    </tr>\n",
              "  </tbody>\n",
              "</table>\n",
              "<p>572 rows × 1 columns</p>\n",
              "</div>"
            ],
            "text/plain": [
              "                                                 words\n",
              "0    littlestlaura could it be added stress or some...\n",
              "1            lockdown has been awful for mental health\n",
              "2    people are bottling up mental health issues in...\n",
              "3    in observation lockdown has caused many forms ...\n",
              "4    where is the dfe guidance on coping with berea...\n",
              "..                                                 ...\n",
              "567  the vital health lessons we have learnt during...\n",
              "568  1ordlucan johnbudgiebird you seen all the smar...\n",
              "569  froggy friend from yesterdays walk in derwenth...\n",
              "570  my gym jdgymslpool was 100 more cleaner then a...\n",
              "571  psychedelic drugs could potentially treat impe...\n",
              "\n",
              "[572 rows x 1 columns]"
            ]
          },
          "metadata": {
            "tags": []
          },
          "execution_count": 18
        }
      ]
    },
    {
      "cell_type": "code",
      "metadata": {
        "id": "3IorutkvToh0"
      },
      "source": [
        "def unigram(all_tweets1):\n",
        "    text = \" \".join(all_tweets1)\n",
        "    CleanedText = re.sub(r'[^a-zA-Z]',\" \",text)\n",
        "    CleanedText = \" \".join([WordNetLemmatizer().lemmatize(word) for word in nltk.word_tokenize(CleanedText) if word not in stopwords.words(\"english\") and len(word) > 3])\n",
        "    return CleanedText"
      ],
      "execution_count": null,
      "outputs": []
    },
    {
      "cell_type": "code",
      "metadata": {
        "id": "IK7_hOPMGqwY"
      },
      "source": [
        "import re\n",
        "import nltk\n",
        "from nltk.corpus import stopwords #To Remove the StopWords like \"the\",\"in\" ect\n",
        "from nltk.stem import PorterStemmer\n",
        "from nltk.stem import WordNetLemmatizer"
      ],
      "execution_count": null,
      "outputs": []
    },
    {
      "cell_type": "code",
      "metadata": {
        "id": "wlyyiyehF_rC",
        "outputId": "fdcf4ae2-b516-491e-af65-6533de44d352",
        "colab": {
          "base_uri": "https://localhost:8080/",
          "height": 136
        }
      },
      "source": [
        "import nltk\n",
        "nltk.download('stopwords')\n",
        "nltk.download('wordnet')\n",
        "nltk.download('punkt')"
      ],
      "execution_count": null,
      "outputs": [
        {
          "output_type": "stream",
          "text": [
            "[nltk_data] Downloading package stopwords to /root/nltk_data...\n",
            "[nltk_data]   Unzipping corpora/stopwords.zip.\n",
            "[nltk_data] Downloading package wordnet to /root/nltk_data...\n",
            "[nltk_data]   Unzipping corpora/wordnet.zip.\n",
            "[nltk_data] Downloading package punkt to /root/nltk_data...\n",
            "[nltk_data]   Unzipping tokenizers/punkt.zip.\n"
          ],
          "name": "stdout"
        },
        {
          "output_type": "execute_result",
          "data": {
            "text/plain": [
              "True"
            ]
          },
          "metadata": {
            "tags": []
          },
          "execution_count": 21
        }
      ]
    },
    {
      "cell_type": "code",
      "metadata": {
        "id": "SyFJI77OHah2",
        "outputId": "dd27e853-6175-49ff-fd61-9c48fb0dd8d0",
        "colab": {
          "base_uri": "https://localhost:8080/",
          "height": 197
        }
      },
      "source": [
        "collection_words = ['mental', 'health','lockdown']\n",
        "tweets_nsw_nc = [[w for w in word if not w in collection_words]\n",
        "                 for word in tweets_nsw]"
      ],
      "execution_count": null,
      "outputs": [
        {
          "output_type": "error",
          "ename": "NameError",
          "evalue": "ignored",
          "traceback": [
            "\u001b[0;31m---------------------------------------------------------------------------\u001b[0m",
            "\u001b[0;31mNameError\u001b[0m                                 Traceback (most recent call last)",
            "\u001b[0;32m<ipython-input-22-9b906cec186b>\u001b[0m in \u001b[0;36m<module>\u001b[0;34m()\u001b[0m\n\u001b[1;32m      1\u001b[0m \u001b[0mcollection_words\u001b[0m \u001b[0;34m=\u001b[0m \u001b[0;34m[\u001b[0m\u001b[0;34m'mental'\u001b[0m\u001b[0;34m,\u001b[0m \u001b[0;34m'health'\u001b[0m\u001b[0;34m,\u001b[0m\u001b[0;34m'lockdown'\u001b[0m\u001b[0;34m]\u001b[0m\u001b[0;34m\u001b[0m\u001b[0;34m\u001b[0m\u001b[0m\n\u001b[1;32m      2\u001b[0m tweets_nsw_nc = [[w for w in word if not w in collection_words]\n\u001b[0;32m----> 3\u001b[0;31m                  for word in tweets_nsw]\n\u001b[0m",
            "\u001b[0;31mNameError\u001b[0m: name 'tweets_nsw' is not defined"
          ]
        }
      ]
    },
    {
      "cell_type": "code",
      "metadata": {
        "id": "VdlC4jZxHarb"
      },
      "source": [
        ""
      ],
      "execution_count": null,
      "outputs": []
    },
    {
      "cell_type": "code",
      "metadata": {
        "id": "12gMSnwrF_y0"
      },
      "source": [
        "CleanedText = unigram(df1['words'])"
      ],
      "execution_count": null,
      "outputs": []
    },
    {
      "cell_type": "code",
      "metadata": {
        "id": "xb_s77Y_GAAe"
      },
      "source": [
        "from wordcloud import WordCloud\n",
        "%matplotlib inline\n",
        "import matplotlib.pyplot as plt\n",
        "wordcloud = WordCloud(random_state=21).generate(CleanedText)\n",
        "plt.figure(figsize = (10,8))\n",
        "plt.imshow(wordcloud,interpolation = 'bilinear')\n",
        "plt.axis(\"off\")\n",
        "plt.show()"
      ],
      "execution_count": null,
      "outputs": []
    },
    {
      "cell_type": "code",
      "metadata": {
        "id": "iTY4XOnnF_9t"
      },
      "source": [
        "import networkx as nx"
      ],
      "execution_count": null,
      "outputs": []
    },
    {
      "cell_type": "code",
      "metadata": {
        "id": "JNE-5bbgF_45"
      },
      "source": [
        "d = df1.set_index('words').T.to_dict('records')\n",
        "G = nx.Graph()\n",
        "for k, v in d[0].items():\n",
        "    G.add_edge(k[0], k[1], weight=(v * 10))\n",
        "G.add_node(\"china\", weight=100)\n",
        "fig, ax = plt.subplots(figsize=(10, 8))\n",
        "\n",
        "pos = nx.spring_layout(G, k=2)\n",
        "nx.draw_networkx(G, pos,\n",
        "                 font_size=16,\n",
        "                 width=3,\n",
        "                 edge_color='green',\n",
        "                 node_color='red',\n",
        "                 with_labels = False,\n",
        "                 ax=ax)\n",
        "for key, value in pos.items():\n",
        "    x, y = value[0]+.135, value[1]+.045\n",
        "    ax.text(x, y,\n",
        "            s=key,\n",
        "            bbox=dict(facecolor='red', alpha=0.25),\n",
        "            horizontalalignment='center', fontsize=13)\n",
        "    \n",
        "plt.show()"
      ],
      "execution_count": null,
      "outputs": []
    },
    {
      "cell_type": "code",
      "metadata": {
        "id": "dfCyO4zDF_pA"
      },
      "source": [
        ""
      ],
      "execution_count": null,
      "outputs": []
    },
    {
      "cell_type": "code",
      "metadata": {
        "id": "Yqj-NxgkF_nC"
      },
      "source": [
        ""
      ],
      "execution_count": null,
      "outputs": []
    },
    {
      "cell_type": "code",
      "metadata": {
        "id": "3aM2ozGyF_j4"
      },
      "source": [
        ""
      ],
      "execution_count": null,
      "outputs": []
    },
    {
      "cell_type": "code",
      "metadata": {
        "id": "6KKkriMzF_gs"
      },
      "source": [
        ""
      ],
      "execution_count": null,
      "outputs": []
    },
    {
      "cell_type": "code",
      "metadata": {
        "id": "LS2_AE0EF_eI"
      },
      "source": [
        ""
      ],
      "execution_count": null,
      "outputs": []
    },
    {
      "cell_type": "code",
      "metadata": {
        "id": "r18TXtqtF_aT"
      },
      "source": [
        ""
      ],
      "execution_count": null,
      "outputs": []
    },
    {
      "cell_type": "code",
      "metadata": {
        "id": "wnXLjkR4Toc3"
      },
      "source": [
        "words_in_tweet = [tweet.lower().split() for tweet in all_tweets_no_urls]\n",
        "words_in_tweet[:2]"
      ],
      "execution_count": null,
      "outputs": []
    },
    {
      "cell_type": "code",
      "metadata": {
        "id": "dZ6rjBu2UlBy"
      },
      "source": [
        "all_words_no_urls = list(itertools.chain(*words_in_tweet))\n",
        "\n",
        "# Create counter\n",
        "counts_no_urls = collections.Counter(all_words_no_urls)"
      ],
      "execution_count": null,
      "outputs": []
    },
    {
      "cell_type": "code",
      "metadata": {
        "id": "We85C3JiUlMe"
      },
      "source": [
        "counts_no_urls.most_common(15)"
      ],
      "execution_count": null,
      "outputs": []
    },
    {
      "cell_type": "code",
      "metadata": {
        "id": "Gm9Zsrr1UlR1"
      },
      "source": [
        "clean_tweets_no_urls = pd.DataFrame(counts_no_urls.most_common(15),\n",
        "                             columns=['words', 'count'])\n",
        "\n",
        "clean_tweets_no_urls.info()"
      ],
      "execution_count": null,
      "outputs": []
    },
    {
      "cell_type": "code",
      "metadata": {
        "id": "XU6_zzK0Uld6"
      },
      "source": [
        "fig, ax = plt.subplots(figsize=(8, 8))\n",
        "\n",
        "# Plot horizontal bar graph\n",
        "clean_tweets_no_urls.sort_values(by='count').plot.barh(x='words',\n",
        "                      y='count',\n",
        "                      ax=ax,\n",
        "                      color=\"blue\")\n",
        "\n",
        "ax.set_title(\"Common Words Found in Tweets (Including All Words)\")\n",
        "\n",
        "plt.show()"
      ],
      "execution_count": null,
      "outputs": []
    },
    {
      "cell_type": "code",
      "metadata": {
        "id": "9n0b-w3vVD4M"
      },
      "source": [
        "import nltk\n",
        "nltk.download('stopwords')"
      ],
      "execution_count": null,
      "outputs": []
    },
    {
      "cell_type": "code",
      "metadata": {
        "id": "oyLS2pn_UlrO"
      },
      "source": [
        "stop_words = set(stopwords.words('english'))"
      ],
      "execution_count": null,
      "outputs": []
    },
    {
      "cell_type": "code",
      "metadata": {
        "id": "IW-avfqBUl0F"
      },
      "source": [
        "tweets_nsw = [[word for word in tweet_words if not word in stop_words]\n",
        "              for tweet_words in words_in_tweet]\n",
        "\n",
        "tweets_nsw[0]"
      ],
      "execution_count": null,
      "outputs": []
    },
    {
      "cell_type": "code",
      "metadata": {
        "id": "m2Eq_0PDUl8w"
      },
      "source": [
        "all_words_nsw = list(itertools.chain(*tweets_nsw))\n",
        "counts_nsw = collections.Counter(all_words_nsw)\n",
        "counts_nsw.most_common(15)"
      ],
      "execution_count": null,
      "outputs": []
    },
    {
      "cell_type": "code",
      "metadata": {
        "id": "VUxu9mOhUmEu"
      },
      "source": [
        "clean_tweets_nsw = pd.DataFrame(counts_nsw.most_common(15),\n",
        "                             columns=['words', 'count'])\n",
        "clean_tweets_nsw"
      ],
      "execution_count": null,
      "outputs": []
    },
    {
      "cell_type": "code",
      "metadata": {
        "id": "RfVeZjCoUmK1"
      },
      "source": [
        "fig, ax = plt.subplots(figsize=(8, 8))\n",
        "clean_tweets_nsw.sort_values(by='count').plot.barh(x='words',\n",
        "                      y='count',\n",
        "                      ax=ax,\n",
        "                      color=\"green\")\n",
        "\n",
        "ax.set_title(\"Common Words Found in Tweets (Without Stop Words)\")\n",
        "\n",
        "plt.show()"
      ],
      "execution_count": null,
      "outputs": []
    },
    {
      "cell_type": "code",
      "metadata": {
        "id": "O4e00fUcUmSx"
      },
      "source": [
        "collection_words = ['job loss', 'job','loss','mental','fed', 'put', 'get','n','im','might','didnt','amp','many','causing','ou' , 'could']\n",
        "tweets_nsw_nc = [[w for w in word if not w in collection_words]\n",
        "                 for word in tweets_nsw]"
      ],
      "execution_count": null,
      "outputs": []
    },
    {
      "cell_type": "code",
      "metadata": {
        "id": "lMqO-r-XUmdB"
      },
      "source": [
        ""
      ],
      "execution_count": null,
      "outputs": []
    },
    {
      "cell_type": "code",
      "metadata": {
        "id": "srt879_LUmZK"
      },
      "source": [
        "all_words_nsw_nc = list(itertools.chain(*tweets_nsw_nc))\n",
        "counts_nsw_nc = collections.Counter(all_words_nsw_nc)\n",
        "\n",
        "counts_nsw_nc.most_common(15)"
      ],
      "execution_count": null,
      "outputs": []
    },
    {
      "cell_type": "code",
      "metadata": {
        "id": "Ceazr98aUmW5"
      },
      "source": [
        "clean_tweets1 = pd.DataFrame(counts_nsw_nc.most_common(15),\n",
        "                             columns=['words', 'count'])\n",
        "clean_tweets1.head()"
      ],
      "execution_count": null,
      "outputs": []
    },
    {
      "cell_type": "code",
      "metadata": {
        "id": "em3cZT_bUmQb"
      },
      "source": [
        "fig, ax = plt.subplots(figsize=(8, 8))\n",
        "clean_tweets1.sort_values(by='count').plot.barh(x='words',\n",
        "                      y='count',\n",
        "                      ax=ax,\n",
        "                      color=\"pink\")\n",
        "\n",
        "ax.set_title(\"Common Words Found in Tweets (Without Stopwords and Collection Words)\")\n",
        "\n",
        "plt.show()"
      ],
      "execution_count": null,
      "outputs": []
    },
    {
      "cell_type": "code",
      "metadata": {
        "id": "u5Rj_vT6UmPH"
      },
      "source": [
        "from nltk import bigrams"
      ],
      "execution_count": null,
      "outputs": []
    },
    {
      "cell_type": "code",
      "metadata": {
        "id": "8Cx5CWxWUmI0"
      },
      "source": [
        "terms_bigram = [list(bigrams(tweet)) for tweet in tweets_nsw_nc]\n",
        "terms_bigram"
      ],
      "execution_count": null,
      "outputs": []
    },
    {
      "cell_type": "code",
      "metadata": {
        "id": "g_KUwMweUmCl"
      },
      "source": [
        "bigrams = list(itertools.chain(*terms_bigram))\n",
        "bigram_counts = collections.Counter(bigrams)\n",
        "\n",
        "bigram_counts.most_common(20)"
      ],
      "execution_count": null,
      "outputs": []
    },
    {
      "cell_type": "code",
      "metadata": {
        "id": "wbI7t_CSUmAj"
      },
      "source": [
        "bigram_df = pd.DataFrame(bigram_counts.most_common(20),\n",
        "                             columns=['bigram', 'count'])\n",
        "\n",
        "bigram_df"
      ],
      "execution_count": null,
      "outputs": []
    },
    {
      "cell_type": "code",
      "metadata": {
        "id": "V8LKLIeHUl6m"
      },
      "source": [
        "import networkx as nx"
      ],
      "execution_count": null,
      "outputs": []
    },
    {
      "cell_type": "code",
      "metadata": {
        "id": "tB2k14m0Ul5X"
      },
      "source": [
        "d = bigram_df.set_index('bigram').T.to_dict('records')\n",
        "G = nx.Graph()\n",
        "for k, v in d[0].items():\n",
        "    G.add_edge(k[0], k[1], weight=(v * 10))\n",
        "G.add_node(\"china\", weight=100)\n",
        "fig, ax = plt.subplots(figsize=(10, 8))\n",
        "\n",
        "pos = nx.spring_layout(G, k=2)\n",
        "nx.draw_networkx(G, pos,\n",
        "                 font_size=20,\n",
        "                 width=3,\n",
        "                 edge_color='red',\n",
        "                 node_color='blue',\n",
        "                 with_labels = False,\n",
        "                 ax=ax)\n",
        "for key, value in pos.items():\n",
        "    x, y = value[0]+.135, value[1]+.055\n",
        "    ax.text(x, y,\n",
        "            s=key,\n",
        "            bbox=dict(facecolor='red', alpha=0.25),\n",
        "            horizontalalignment='center', fontsize=15)\n",
        "    \n",
        "plt.show()"
      ],
      "execution_count": null,
      "outputs": []
    },
    {
      "cell_type": "code",
      "metadata": {
        "id": "Fc4_TYI1FIJO"
      },
      "source": [
        ""
      ],
      "execution_count": null,
      "outputs": []
    },
    {
      "cell_type": "code",
      "metadata": {
        "id": "C-SBAl5VUlyl"
      },
      "source": [
        "from textblob import TextBlob"
      ],
      "execution_count": null,
      "outputs": []
    },
    {
      "cell_type": "code",
      "metadata": {
        "id": "Y0gTeUp4Ulvv"
      },
      "source": [
        "sentiment_objects = [TextBlob(tweet) for tweet in counts_nsw_nc]\n",
        "\n",
        "sentiment_objects[0].polarity, sentiment_objects[0]"
      ],
      "execution_count": null,
      "outputs": []
    },
    {
      "cell_type": "code",
      "metadata": {
        "id": "soarchxnUlog"
      },
      "source": [
        "sentiment_values = [[tweet.sentiment.polarity, str(tweet)] for tweet in sentiment_objects]\n",
        "\n",
        "sentiment_values[0]"
      ],
      "execution_count": null,
      "outputs": []
    },
    {
      "cell_type": "code",
      "metadata": {
        "id": "euESXVfkUlla"
      },
      "source": [
        "sentiment_df = pd.DataFrame(sentiment_values, columns=[\"polarity\", \"tweet\"])\n",
        "\n",
        "sentiment_df.head()"
      ],
      "execution_count": null,
      "outputs": []
    },
    {
      "cell_type": "code",
      "metadata": {
        "id": "48YmgI7QUljj"
      },
      "source": [
        "fig, ax = plt.subplots(figsize=(8, 6))\n",
        "sentiment_df.hist(bins=[-1, -0.75, -0.5, -0.25, 0.25, 0.5, 0.75, 1],\n",
        "             ax=ax,\n",
        "             color=\"purple\")\n",
        "\n",
        "plt.title(\"Sentiments from Tweets on Mental Health\")\n",
        "plt.show()"
      ],
      "execution_count": null,
      "outputs": []
    },
    {
      "cell_type": "code",
      "metadata": {
        "id": "t_s3Jcx-UliD"
      },
      "source": [
        "sentiment_df = sentiment_df[sentiment_df.polarity != 0]\n",
        "fig, ax = plt.subplots(figsize=(8, 6))\n",
        "\n",
        "# Plot histogram with break at zero\n",
        "sentiment_df.hist(bins=[-1, -0.75, -0.5, -0.25, 0.0, 0.25, 0.5, 0.75, 1],\n",
        "             ax=ax,\n",
        "             color=\"purple\")\n",
        "\n",
        "plt.title(\"Sentiments from Tweets on Mental Health\")\n",
        "plt.show()"
      ],
      "execution_count": null,
      "outputs": []
    },
    {
      "cell_type": "code",
      "metadata": {
        "id": "_mmTM3SxUlbD"
      },
      "source": [
        ""
      ],
      "execution_count": null,
      "outputs": []
    },
    {
      "cell_type": "code",
      "metadata": {
        "id": "0xtwu-L-UlZa"
      },
      "source": [
        ""
      ],
      "execution_count": null,
      "outputs": []
    },
    {
      "cell_type": "code",
      "metadata": {
        "id": "9bsI5GRkUlXI"
      },
      "source": [
        ""
      ],
      "execution_count": null,
      "outputs": []
    },
    {
      "cell_type": "code",
      "metadata": {
        "id": "iennEYQ7UlPg"
      },
      "source": [
        ""
      ],
      "execution_count": null,
      "outputs": []
    },
    {
      "cell_type": "code",
      "metadata": {
        "id": "6I1iSx9KUlLB"
      },
      "source": [
        ""
      ],
      "execution_count": null,
      "outputs": []
    }
  ]
}